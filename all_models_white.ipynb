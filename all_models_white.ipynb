{
 "cells": [
  {
   "cell_type": "markdown",
   "id": "ef15357d",
   "metadata": {},
   "source": [
    "### Analysis of White wine data"
   ]
  },
  {
   "cell_type": "code",
   "execution_count": 1,
   "id": "5290e2f7",
   "metadata": {},
   "outputs": [],
   "source": [
    "from path import Path\n",
    "import pandas as pd\n",
    "import numpy as np\n",
    "import matplotlib.pyplot as plt\n",
    "import seaborn as sns\n",
    "import plotly.express as px\n",
    "from sklearn.model_selection import train_test_split\n",
    "from pathlib import Path\n",
    "from collections import Counter\n",
    "from sklearn.preprocessing import StandardScaler\n",
    "from sklearn.linear_model import LogisticRegression\n",
    "from sklearn.metrics import confusion_matrix, classification_report, accuracy_score\n",
    "from sklearn.svm import SVC\n",
    "from sklearn import tree\n",
    "from sklearn.ensemble import RandomForestClassifier\n",
    "from sklearn.ensemble import GradientBoostingClassifier\n",
    "from imblearn.over_sampling import RandomOverSampler\n",
    "from sklearn.metrics import balanced_accuracy_score\n",
    "from imblearn.metrics import classification_report_imbalanced\n",
    "from imblearn.over_sampling import SMOTE\n",
    "from imblearn.combine import SMOTEENN\n",
    "from imblearn.under_sampling import ClusterCentroids\n",
    "from imblearn.ensemble import BalancedRandomForestClassifier\n",
    "from imblearn.ensemble import EasyEnsembleClassifier"
   ]
  },
  {
   "cell_type": "code",
   "execution_count": 2,
   "id": "9f43573e",
   "metadata": {},
   "outputs": [
    {
     "data": {
      "text/html": [
       "<div>\n",
       "<style scoped>\n",
       "    .dataframe tbody tr th:only-of-type {\n",
       "        vertical-align: middle;\n",
       "    }\n",
       "\n",
       "    .dataframe tbody tr th {\n",
       "        vertical-align: top;\n",
       "    }\n",
       "\n",
       "    .dataframe thead th {\n",
       "        text-align: right;\n",
       "    }\n",
       "</style>\n",
       "<table border=\"1\" class=\"dataframe\">\n",
       "  <thead>\n",
       "    <tr style=\"text-align: right;\">\n",
       "      <th></th>\n",
       "      <th>fixed_acidity</th>\n",
       "      <th>volatile_acidity</th>\n",
       "      <th>citric_acid</th>\n",
       "      <th>residual_sugar</th>\n",
       "      <th>chlorides</th>\n",
       "      <th>free_sulfur_dioxide</th>\n",
       "      <th>total_sulfur_dioxide</th>\n",
       "      <th>density</th>\n",
       "      <th>sulphates</th>\n",
       "      <th>alcohol</th>\n",
       "      <th>ph</th>\n",
       "      <th>quality</th>\n",
       "      <th>id</th>\n",
       "      <th>color</th>\n",
       "    </tr>\n",
       "  </thead>\n",
       "  <tbody>\n",
       "    <tr>\n",
       "      <th>0</th>\n",
       "      <td>7.4</td>\n",
       "      <td>0.70</td>\n",
       "      <td>0.00</td>\n",
       "      <td>1.9</td>\n",
       "      <td>0.076</td>\n",
       "      <td>11.0</td>\n",
       "      <td>34.0</td>\n",
       "      <td>0.9978</td>\n",
       "      <td>3.51</td>\n",
       "      <td>0.56</td>\n",
       "      <td>9.4</td>\n",
       "      <td>5</td>\n",
       "      <td>1</td>\n",
       "      <td>red</td>\n",
       "    </tr>\n",
       "    <tr>\n",
       "      <th>1</th>\n",
       "      <td>7.8</td>\n",
       "      <td>0.88</td>\n",
       "      <td>0.00</td>\n",
       "      <td>2.6</td>\n",
       "      <td>0.098</td>\n",
       "      <td>25.0</td>\n",
       "      <td>67.0</td>\n",
       "      <td>0.9968</td>\n",
       "      <td>3.20</td>\n",
       "      <td>0.68</td>\n",
       "      <td>9.8</td>\n",
       "      <td>5</td>\n",
       "      <td>2</td>\n",
       "      <td>red</td>\n",
       "    </tr>\n",
       "    <tr>\n",
       "      <th>2</th>\n",
       "      <td>7.8</td>\n",
       "      <td>0.76</td>\n",
       "      <td>0.04</td>\n",
       "      <td>2.3</td>\n",
       "      <td>0.092</td>\n",
       "      <td>15.0</td>\n",
       "      <td>54.0</td>\n",
       "      <td>0.9970</td>\n",
       "      <td>3.26</td>\n",
       "      <td>0.65</td>\n",
       "      <td>9.8</td>\n",
       "      <td>5</td>\n",
       "      <td>3</td>\n",
       "      <td>red</td>\n",
       "    </tr>\n",
       "    <tr>\n",
       "      <th>3</th>\n",
       "      <td>11.2</td>\n",
       "      <td>0.28</td>\n",
       "      <td>0.56</td>\n",
       "      <td>1.9</td>\n",
       "      <td>0.075</td>\n",
       "      <td>17.0</td>\n",
       "      <td>60.0</td>\n",
       "      <td>0.9980</td>\n",
       "      <td>3.16</td>\n",
       "      <td>0.58</td>\n",
       "      <td>9.8</td>\n",
       "      <td>6</td>\n",
       "      <td>4</td>\n",
       "      <td>red</td>\n",
       "    </tr>\n",
       "    <tr>\n",
       "      <th>4</th>\n",
       "      <td>7.4</td>\n",
       "      <td>0.70</td>\n",
       "      <td>0.00</td>\n",
       "      <td>1.9</td>\n",
       "      <td>0.076</td>\n",
       "      <td>11.0</td>\n",
       "      <td>34.0</td>\n",
       "      <td>0.9978</td>\n",
       "      <td>3.51</td>\n",
       "      <td>0.56</td>\n",
       "      <td>9.4</td>\n",
       "      <td>5</td>\n",
       "      <td>5</td>\n",
       "      <td>red</td>\n",
       "    </tr>\n",
       "  </tbody>\n",
       "</table>\n",
       "</div>"
      ],
      "text/plain": [
       "   fixed_acidity  volatile_acidity  citric_acid  residual_sugar  chlorides  \\\n",
       "0            7.4              0.70         0.00             1.9      0.076   \n",
       "1            7.8              0.88         0.00             2.6      0.098   \n",
       "2            7.8              0.76         0.04             2.3      0.092   \n",
       "3           11.2              0.28         0.56             1.9      0.075   \n",
       "4            7.4              0.70         0.00             1.9      0.076   \n",
       "\n",
       "   free_sulfur_dioxide  total_sulfur_dioxide  density  sulphates  alcohol  \\\n",
       "0                 11.0                  34.0   0.9978       3.51     0.56   \n",
       "1                 25.0                  67.0   0.9968       3.20     0.68   \n",
       "2                 15.0                  54.0   0.9970       3.26     0.65   \n",
       "3                 17.0                  60.0   0.9980       3.16     0.58   \n",
       "4                 11.0                  34.0   0.9978       3.51     0.56   \n",
       "\n",
       "    ph  quality  id color  \n",
       "0  9.4        5   1   red  \n",
       "1  9.8        5   2   red  \n",
       "2  9.8        5   3   red  \n",
       "3  9.8        6   4   red  \n",
       "4  9.4        5   5   red  "
      ]
     },
     "execution_count": 2,
     "metadata": {},
     "output_type": "execute_result"
    }
   ],
   "source": [
    "white_data = Path('all_wines.csv')\n",
    "white_df = pd.read_csv(white_data)\n",
    "white_df.head()"
   ]
  },
  {
   "cell_type": "markdown",
   "id": "bdd9ec38",
   "metadata": {},
   "source": [
    "#### Filter to white wines only"
   ]
  },
  {
   "cell_type": "code",
   "execution_count": 3,
   "id": "3237ae81",
   "metadata": {},
   "outputs": [
    {
     "data": {
      "text/plain": [
       "(4898, 14)"
      ]
     },
     "execution_count": 3,
     "metadata": {},
     "output_type": "execute_result"
    }
   ],
   "source": [
    "white_df = white_df[white_df[\"color\"] == \"white\"]\n",
    "white_df.shape"
   ]
  },
  {
   "cell_type": "code",
   "execution_count": 4,
   "id": "0fdfe88e",
   "metadata": {},
   "outputs": [
    {
     "name": "stdout",
     "output_type": "stream",
     "text": [
      "fixed_acidity           0\n",
      "volatile_acidity        0\n",
      "citric_acid             0\n",
      "residual_sugar          0\n",
      "chlorides               0\n",
      "free_sulfur_dioxide     0\n",
      "total_sulfur_dioxide    0\n",
      "density                 0\n",
      "sulphates               0\n",
      "alcohol                 0\n",
      "ph                      0\n",
      "quality                 0\n",
      "id                      0\n",
      "color                   0\n",
      "dtype: int64\n"
     ]
    }
   ],
   "source": [
    "# Missing Values\n",
    "print(white_df.isna().sum())"
   ]
  },
  {
   "cell_type": "code",
   "execution_count": 5,
   "id": "8c8fab84",
   "metadata": {},
   "outputs": [
    {
     "data": {
      "text/html": [
       "<div>\n",
       "<style scoped>\n",
       "    .dataframe tbody tr th:only-of-type {\n",
       "        vertical-align: middle;\n",
       "    }\n",
       "\n",
       "    .dataframe tbody tr th {\n",
       "        vertical-align: top;\n",
       "    }\n",
       "\n",
       "    .dataframe thead th {\n",
       "        text-align: right;\n",
       "    }\n",
       "</style>\n",
       "<table border=\"1\" class=\"dataframe\">\n",
       "  <thead>\n",
       "    <tr style=\"text-align: right;\">\n",
       "      <th></th>\n",
       "      <th>fixed_acidity</th>\n",
       "      <th>volatile_acidity</th>\n",
       "      <th>citric_acid</th>\n",
       "      <th>residual_sugar</th>\n",
       "      <th>chlorides</th>\n",
       "      <th>free_sulfur_dioxide</th>\n",
       "      <th>total_sulfur_dioxide</th>\n",
       "      <th>density</th>\n",
       "      <th>sulphates</th>\n",
       "      <th>alcohol</th>\n",
       "      <th>ph</th>\n",
       "      <th>quality</th>\n",
       "      <th>id</th>\n",
       "    </tr>\n",
       "  </thead>\n",
       "  <tbody>\n",
       "    <tr>\n",
       "      <th>count</th>\n",
       "      <td>4898.000000</td>\n",
       "      <td>4898.000000</td>\n",
       "      <td>4898.000000</td>\n",
       "      <td>4898.000000</td>\n",
       "      <td>4898.000000</td>\n",
       "      <td>4898.000000</td>\n",
       "      <td>4898.000000</td>\n",
       "      <td>4898.000000</td>\n",
       "      <td>4898.000000</td>\n",
       "      <td>4898.000000</td>\n",
       "      <td>4898.000000</td>\n",
       "      <td>4898.000000</td>\n",
       "      <td>4898.000000</td>\n",
       "    </tr>\n",
       "    <tr>\n",
       "      <th>mean</th>\n",
       "      <td>6.854788</td>\n",
       "      <td>0.278241</td>\n",
       "      <td>0.334192</td>\n",
       "      <td>6.391415</td>\n",
       "      <td>0.045772</td>\n",
       "      <td>35.308085</td>\n",
       "      <td>138.360657</td>\n",
       "      <td>0.994027</td>\n",
       "      <td>3.188267</td>\n",
       "      <td>0.489847</td>\n",
       "      <td>10.514267</td>\n",
       "      <td>5.877909</td>\n",
       "      <td>22449.500000</td>\n",
       "    </tr>\n",
       "    <tr>\n",
       "      <th>std</th>\n",
       "      <td>0.843868</td>\n",
       "      <td>0.100795</td>\n",
       "      <td>0.121020</td>\n",
       "      <td>5.072058</td>\n",
       "      <td>0.021848</td>\n",
       "      <td>17.007137</td>\n",
       "      <td>42.498065</td>\n",
       "      <td>0.002991</td>\n",
       "      <td>0.151001</td>\n",
       "      <td>0.114126</td>\n",
       "      <td>1.230621</td>\n",
       "      <td>0.885639</td>\n",
       "      <td>1414.075139</td>\n",
       "    </tr>\n",
       "    <tr>\n",
       "      <th>min</th>\n",
       "      <td>3.800000</td>\n",
       "      <td>0.080000</td>\n",
       "      <td>0.000000</td>\n",
       "      <td>0.600000</td>\n",
       "      <td>0.009000</td>\n",
       "      <td>2.000000</td>\n",
       "      <td>9.000000</td>\n",
       "      <td>0.987110</td>\n",
       "      <td>2.720000</td>\n",
       "      <td>0.220000</td>\n",
       "      <td>8.000000</td>\n",
       "      <td>3.000000</td>\n",
       "      <td>20001.000000</td>\n",
       "    </tr>\n",
       "    <tr>\n",
       "      <th>25%</th>\n",
       "      <td>6.300000</td>\n",
       "      <td>0.210000</td>\n",
       "      <td>0.270000</td>\n",
       "      <td>1.700000</td>\n",
       "      <td>0.036000</td>\n",
       "      <td>23.000000</td>\n",
       "      <td>108.000000</td>\n",
       "      <td>0.991723</td>\n",
       "      <td>3.090000</td>\n",
       "      <td>0.410000</td>\n",
       "      <td>9.500000</td>\n",
       "      <td>5.000000</td>\n",
       "      <td>21225.250000</td>\n",
       "    </tr>\n",
       "    <tr>\n",
       "      <th>50%</th>\n",
       "      <td>6.800000</td>\n",
       "      <td>0.260000</td>\n",
       "      <td>0.320000</td>\n",
       "      <td>5.200000</td>\n",
       "      <td>0.043000</td>\n",
       "      <td>34.000000</td>\n",
       "      <td>134.000000</td>\n",
       "      <td>0.993740</td>\n",
       "      <td>3.180000</td>\n",
       "      <td>0.470000</td>\n",
       "      <td>10.400000</td>\n",
       "      <td>6.000000</td>\n",
       "      <td>22449.500000</td>\n",
       "    </tr>\n",
       "    <tr>\n",
       "      <th>75%</th>\n",
       "      <td>7.300000</td>\n",
       "      <td>0.320000</td>\n",
       "      <td>0.390000</td>\n",
       "      <td>9.900000</td>\n",
       "      <td>0.050000</td>\n",
       "      <td>46.000000</td>\n",
       "      <td>167.000000</td>\n",
       "      <td>0.996100</td>\n",
       "      <td>3.280000</td>\n",
       "      <td>0.550000</td>\n",
       "      <td>11.400000</td>\n",
       "      <td>6.000000</td>\n",
       "      <td>23673.750000</td>\n",
       "    </tr>\n",
       "    <tr>\n",
       "      <th>max</th>\n",
       "      <td>14.200000</td>\n",
       "      <td>1.100000</td>\n",
       "      <td>1.660000</td>\n",
       "      <td>65.800000</td>\n",
       "      <td>0.346000</td>\n",
       "      <td>289.000000</td>\n",
       "      <td>440.000000</td>\n",
       "      <td>1.038980</td>\n",
       "      <td>3.820000</td>\n",
       "      <td>1.080000</td>\n",
       "      <td>14.200000</td>\n",
       "      <td>9.000000</td>\n",
       "      <td>24898.000000</td>\n",
       "    </tr>\n",
       "  </tbody>\n",
       "</table>\n",
       "</div>"
      ],
      "text/plain": [
       "       fixed_acidity  volatile_acidity  citric_acid  residual_sugar  \\\n",
       "count    4898.000000       4898.000000  4898.000000     4898.000000   \n",
       "mean        6.854788          0.278241     0.334192        6.391415   \n",
       "std         0.843868          0.100795     0.121020        5.072058   \n",
       "min         3.800000          0.080000     0.000000        0.600000   \n",
       "25%         6.300000          0.210000     0.270000        1.700000   \n",
       "50%         6.800000          0.260000     0.320000        5.200000   \n",
       "75%         7.300000          0.320000     0.390000        9.900000   \n",
       "max        14.200000          1.100000     1.660000       65.800000   \n",
       "\n",
       "         chlorides  free_sulfur_dioxide  total_sulfur_dioxide      density  \\\n",
       "count  4898.000000          4898.000000           4898.000000  4898.000000   \n",
       "mean      0.045772            35.308085            138.360657     0.994027   \n",
       "std       0.021848            17.007137             42.498065     0.002991   \n",
       "min       0.009000             2.000000              9.000000     0.987110   \n",
       "25%       0.036000            23.000000            108.000000     0.991723   \n",
       "50%       0.043000            34.000000            134.000000     0.993740   \n",
       "75%       0.050000            46.000000            167.000000     0.996100   \n",
       "max       0.346000           289.000000            440.000000     1.038980   \n",
       "\n",
       "         sulphates      alcohol           ph      quality            id  \n",
       "count  4898.000000  4898.000000  4898.000000  4898.000000   4898.000000  \n",
       "mean      3.188267     0.489847    10.514267     5.877909  22449.500000  \n",
       "std       0.151001     0.114126     1.230621     0.885639   1414.075139  \n",
       "min       2.720000     0.220000     8.000000     3.000000  20001.000000  \n",
       "25%       3.090000     0.410000     9.500000     5.000000  21225.250000  \n",
       "50%       3.180000     0.470000    10.400000     6.000000  22449.500000  \n",
       "75%       3.280000     0.550000    11.400000     6.000000  23673.750000  \n",
       "max       3.820000     1.080000    14.200000     9.000000  24898.000000  "
      ]
     },
     "execution_count": 5,
     "metadata": {},
     "output_type": "execute_result"
    }
   ],
   "source": [
    "white_df.describe()"
   ]
  },
  {
   "cell_type": "code",
   "execution_count": 6,
   "id": "8c0589b7",
   "metadata": {},
   "outputs": [
    {
     "data": {
      "text/html": [
       "<div>\n",
       "<style scoped>\n",
       "    .dataframe tbody tr th:only-of-type {\n",
       "        vertical-align: middle;\n",
       "    }\n",
       "\n",
       "    .dataframe tbody tr th {\n",
       "        vertical-align: top;\n",
       "    }\n",
       "\n",
       "    .dataframe thead th {\n",
       "        text-align: right;\n",
       "    }\n",
       "</style>\n",
       "<table border=\"1\" class=\"dataframe\">\n",
       "  <thead>\n",
       "    <tr style=\"text-align: right;\">\n",
       "      <th></th>\n",
       "      <th>fixed_acidity</th>\n",
       "      <th>volatile_acidity</th>\n",
       "      <th>citric_acid</th>\n",
       "      <th>residual_sugar</th>\n",
       "      <th>chlorides</th>\n",
       "      <th>free_sulfur_dioxide</th>\n",
       "      <th>total_sulfur_dioxide</th>\n",
       "      <th>density</th>\n",
       "      <th>sulphates</th>\n",
       "      <th>alcohol</th>\n",
       "      <th>ph</th>\n",
       "      <th>quality</th>\n",
       "      <th>id</th>\n",
       "    </tr>\n",
       "  </thead>\n",
       "  <tbody>\n",
       "    <tr>\n",
       "      <th>fixed_acidity</th>\n",
       "      <td>1.000000</td>\n",
       "      <td>-0.022697</td>\n",
       "      <td>0.289181</td>\n",
       "      <td>0.089021</td>\n",
       "      <td>0.023086</td>\n",
       "      <td>-0.049396</td>\n",
       "      <td>0.091070</td>\n",
       "      <td>0.265331</td>\n",
       "      <td>-0.425858</td>\n",
       "      <td>-0.017143</td>\n",
       "      <td>-0.120881</td>\n",
       "      <td>-0.113663</td>\n",
       "      <td>-0.255814</td>\n",
       "    </tr>\n",
       "    <tr>\n",
       "      <th>volatile_acidity</th>\n",
       "      <td>-0.022697</td>\n",
       "      <td>1.000000</td>\n",
       "      <td>-0.149472</td>\n",
       "      <td>0.064286</td>\n",
       "      <td>0.070512</td>\n",
       "      <td>-0.097012</td>\n",
       "      <td>0.089261</td>\n",
       "      <td>0.027114</td>\n",
       "      <td>-0.031915</td>\n",
       "      <td>-0.035728</td>\n",
       "      <td>0.067718</td>\n",
       "      <td>-0.194723</td>\n",
       "      <td>0.002858</td>\n",
       "    </tr>\n",
       "    <tr>\n",
       "      <th>citric_acid</th>\n",
       "      <td>0.289181</td>\n",
       "      <td>-0.149472</td>\n",
       "      <td>1.000000</td>\n",
       "      <td>0.094212</td>\n",
       "      <td>0.114364</td>\n",
       "      <td>0.094077</td>\n",
       "      <td>0.121131</td>\n",
       "      <td>0.149503</td>\n",
       "      <td>-0.163748</td>\n",
       "      <td>0.062331</td>\n",
       "      <td>-0.075729</td>\n",
       "      <td>-0.009209</td>\n",
       "      <td>-0.149900</td>\n",
       "    </tr>\n",
       "    <tr>\n",
       "      <th>residual_sugar</th>\n",
       "      <td>0.089021</td>\n",
       "      <td>0.064286</td>\n",
       "      <td>0.094212</td>\n",
       "      <td>1.000000</td>\n",
       "      <td>0.088685</td>\n",
       "      <td>0.299098</td>\n",
       "      <td>0.401439</td>\n",
       "      <td>0.838966</td>\n",
       "      <td>-0.194133</td>\n",
       "      <td>-0.026664</td>\n",
       "      <td>-0.450631</td>\n",
       "      <td>-0.097577</td>\n",
       "      <td>0.006624</td>\n",
       "    </tr>\n",
       "    <tr>\n",
       "      <th>chlorides</th>\n",
       "      <td>0.023086</td>\n",
       "      <td>0.070512</td>\n",
       "      <td>0.114364</td>\n",
       "      <td>0.088685</td>\n",
       "      <td>1.000000</td>\n",
       "      <td>0.101392</td>\n",
       "      <td>0.198910</td>\n",
       "      <td>0.257211</td>\n",
       "      <td>-0.090439</td>\n",
       "      <td>0.016763</td>\n",
       "      <td>-0.360189</td>\n",
       "      <td>-0.209934</td>\n",
       "      <td>-0.045645</td>\n",
       "    </tr>\n",
       "    <tr>\n",
       "      <th>free_sulfur_dioxide</th>\n",
       "      <td>-0.049396</td>\n",
       "      <td>-0.097012</td>\n",
       "      <td>0.094077</td>\n",
       "      <td>0.299098</td>\n",
       "      <td>0.101392</td>\n",
       "      <td>1.000000</td>\n",
       "      <td>0.615501</td>\n",
       "      <td>0.294210</td>\n",
       "      <td>-0.000618</td>\n",
       "      <td>0.059217</td>\n",
       "      <td>-0.250104</td>\n",
       "      <td>0.008158</td>\n",
       "      <td>-0.011929</td>\n",
       "    </tr>\n",
       "    <tr>\n",
       "      <th>total_sulfur_dioxide</th>\n",
       "      <td>0.091070</td>\n",
       "      <td>0.089261</td>\n",
       "      <td>0.121131</td>\n",
       "      <td>0.401439</td>\n",
       "      <td>0.198910</td>\n",
       "      <td>0.615501</td>\n",
       "      <td>1.000000</td>\n",
       "      <td>0.529881</td>\n",
       "      <td>0.002321</td>\n",
       "      <td>0.134562</td>\n",
       "      <td>-0.448892</td>\n",
       "      <td>-0.174737</td>\n",
       "      <td>-0.161979</td>\n",
       "    </tr>\n",
       "    <tr>\n",
       "      <th>density</th>\n",
       "      <td>0.265331</td>\n",
       "      <td>0.027114</td>\n",
       "      <td>0.149503</td>\n",
       "      <td>0.838966</td>\n",
       "      <td>0.257211</td>\n",
       "      <td>0.294210</td>\n",
       "      <td>0.529881</td>\n",
       "      <td>1.000000</td>\n",
       "      <td>-0.093591</td>\n",
       "      <td>0.074493</td>\n",
       "      <td>-0.780138</td>\n",
       "      <td>-0.307123</td>\n",
       "      <td>-0.185976</td>\n",
       "    </tr>\n",
       "    <tr>\n",
       "      <th>sulphates</th>\n",
       "      <td>-0.425858</td>\n",
       "      <td>-0.031915</td>\n",
       "      <td>-0.163748</td>\n",
       "      <td>-0.194133</td>\n",
       "      <td>-0.090439</td>\n",
       "      <td>-0.000618</td>\n",
       "      <td>0.002321</td>\n",
       "      <td>-0.093591</td>\n",
       "      <td>1.000000</td>\n",
       "      <td>0.155951</td>\n",
       "      <td>0.121432</td>\n",
       "      <td>0.099427</td>\n",
       "      <td>-0.115774</td>\n",
       "    </tr>\n",
       "    <tr>\n",
       "      <th>alcohol</th>\n",
       "      <td>-0.017143</td>\n",
       "      <td>-0.035728</td>\n",
       "      <td>0.062331</td>\n",
       "      <td>-0.026664</td>\n",
       "      <td>0.016763</td>\n",
       "      <td>0.059217</td>\n",
       "      <td>0.134562</td>\n",
       "      <td>0.074493</td>\n",
       "      <td>0.155951</td>\n",
       "      <td>1.000000</td>\n",
       "      <td>-0.017433</td>\n",
       "      <td>0.053678</td>\n",
       "      <td>0.009808</td>\n",
       "    </tr>\n",
       "    <tr>\n",
       "      <th>ph</th>\n",
       "      <td>-0.120881</td>\n",
       "      <td>0.067718</td>\n",
       "      <td>-0.075729</td>\n",
       "      <td>-0.450631</td>\n",
       "      <td>-0.360189</td>\n",
       "      <td>-0.250104</td>\n",
       "      <td>-0.448892</td>\n",
       "      <td>-0.780138</td>\n",
       "      <td>0.121432</td>\n",
       "      <td>-0.017433</td>\n",
       "      <td>1.000000</td>\n",
       "      <td>0.435575</td>\n",
       "      <td>0.213656</td>\n",
       "    </tr>\n",
       "    <tr>\n",
       "      <th>quality</th>\n",
       "      <td>-0.113663</td>\n",
       "      <td>-0.194723</td>\n",
       "      <td>-0.009209</td>\n",
       "      <td>-0.097577</td>\n",
       "      <td>-0.209934</td>\n",
       "      <td>0.008158</td>\n",
       "      <td>-0.174737</td>\n",
       "      <td>-0.307123</td>\n",
       "      <td>0.099427</td>\n",
       "      <td>0.053678</td>\n",
       "      <td>0.435575</td>\n",
       "      <td>1.000000</td>\n",
       "      <td>0.035763</td>\n",
       "    </tr>\n",
       "    <tr>\n",
       "      <th>id</th>\n",
       "      <td>-0.255814</td>\n",
       "      <td>0.002858</td>\n",
       "      <td>-0.149900</td>\n",
       "      <td>0.006624</td>\n",
       "      <td>-0.045645</td>\n",
       "      <td>-0.011929</td>\n",
       "      <td>-0.161979</td>\n",
       "      <td>-0.185976</td>\n",
       "      <td>-0.115774</td>\n",
       "      <td>0.009808</td>\n",
       "      <td>0.213656</td>\n",
       "      <td>0.035763</td>\n",
       "      <td>1.000000</td>\n",
       "    </tr>\n",
       "  </tbody>\n",
       "</table>\n",
       "</div>"
      ],
      "text/plain": [
       "                      fixed_acidity  volatile_acidity  citric_acid  \\\n",
       "fixed_acidity              1.000000         -0.022697     0.289181   \n",
       "volatile_acidity          -0.022697          1.000000    -0.149472   \n",
       "citric_acid                0.289181         -0.149472     1.000000   \n",
       "residual_sugar             0.089021          0.064286     0.094212   \n",
       "chlorides                  0.023086          0.070512     0.114364   \n",
       "free_sulfur_dioxide       -0.049396         -0.097012     0.094077   \n",
       "total_sulfur_dioxide       0.091070          0.089261     0.121131   \n",
       "density                    0.265331          0.027114     0.149503   \n",
       "sulphates                 -0.425858         -0.031915    -0.163748   \n",
       "alcohol                   -0.017143         -0.035728     0.062331   \n",
       "ph                        -0.120881          0.067718    -0.075729   \n",
       "quality                   -0.113663         -0.194723    -0.009209   \n",
       "id                        -0.255814          0.002858    -0.149900   \n",
       "\n",
       "                      residual_sugar  chlorides  free_sulfur_dioxide  \\\n",
       "fixed_acidity               0.089021   0.023086            -0.049396   \n",
       "volatile_acidity            0.064286   0.070512            -0.097012   \n",
       "citric_acid                 0.094212   0.114364             0.094077   \n",
       "residual_sugar              1.000000   0.088685             0.299098   \n",
       "chlorides                   0.088685   1.000000             0.101392   \n",
       "free_sulfur_dioxide         0.299098   0.101392             1.000000   \n",
       "total_sulfur_dioxide        0.401439   0.198910             0.615501   \n",
       "density                     0.838966   0.257211             0.294210   \n",
       "sulphates                  -0.194133  -0.090439            -0.000618   \n",
       "alcohol                    -0.026664   0.016763             0.059217   \n",
       "ph                         -0.450631  -0.360189            -0.250104   \n",
       "quality                    -0.097577  -0.209934             0.008158   \n",
       "id                          0.006624  -0.045645            -0.011929   \n",
       "\n",
       "                      total_sulfur_dioxide   density  sulphates   alcohol  \\\n",
       "fixed_acidity                     0.091070  0.265331  -0.425858 -0.017143   \n",
       "volatile_acidity                  0.089261  0.027114  -0.031915 -0.035728   \n",
       "citric_acid                       0.121131  0.149503  -0.163748  0.062331   \n",
       "residual_sugar                    0.401439  0.838966  -0.194133 -0.026664   \n",
       "chlorides                         0.198910  0.257211  -0.090439  0.016763   \n",
       "free_sulfur_dioxide               0.615501  0.294210  -0.000618  0.059217   \n",
       "total_sulfur_dioxide              1.000000  0.529881   0.002321  0.134562   \n",
       "density                           0.529881  1.000000  -0.093591  0.074493   \n",
       "sulphates                         0.002321 -0.093591   1.000000  0.155951   \n",
       "alcohol                           0.134562  0.074493   0.155951  1.000000   \n",
       "ph                               -0.448892 -0.780138   0.121432 -0.017433   \n",
       "quality                          -0.174737 -0.307123   0.099427  0.053678   \n",
       "id                               -0.161979 -0.185976  -0.115774  0.009808   \n",
       "\n",
       "                            ph   quality        id  \n",
       "fixed_acidity        -0.120881 -0.113663 -0.255814  \n",
       "volatile_acidity      0.067718 -0.194723  0.002858  \n",
       "citric_acid          -0.075729 -0.009209 -0.149900  \n",
       "residual_sugar       -0.450631 -0.097577  0.006624  \n",
       "chlorides            -0.360189 -0.209934 -0.045645  \n",
       "free_sulfur_dioxide  -0.250104  0.008158 -0.011929  \n",
       "total_sulfur_dioxide -0.448892 -0.174737 -0.161979  \n",
       "density              -0.780138 -0.307123 -0.185976  \n",
       "sulphates             0.121432  0.099427 -0.115774  \n",
       "alcohol              -0.017433  0.053678  0.009808  \n",
       "ph                    1.000000  0.435575  0.213656  \n",
       "quality               0.435575  1.000000  0.035763  \n",
       "id                    0.213656  0.035763  1.000000  "
      ]
     },
     "execution_count": 6,
     "metadata": {},
     "output_type": "execute_result"
    }
   ],
   "source": [
    "corr = white_df.corr()\n",
    "corr"
   ]
  },
  {
   "cell_type": "markdown",
   "id": "18686457",
   "metadata": {},
   "source": [
    "#### Categorize quality to >=7 as Good and < 7 and Not good"
   ]
  },
  {
   "cell_type": "code",
   "execution_count": 7,
   "id": "33feb9c5",
   "metadata": {},
   "outputs": [],
   "source": [
    "white_df['quality_2'] = (white_df['quality'] >=  7).astype(int)"
   ]
  },
  {
   "cell_type": "code",
   "execution_count": 8,
   "id": "197ed07b",
   "metadata": {},
   "outputs": [
    {
     "data": {
      "text/html": [
       "<div>\n",
       "<style scoped>\n",
       "    .dataframe tbody tr th:only-of-type {\n",
       "        vertical-align: middle;\n",
       "    }\n",
       "\n",
       "    .dataframe tbody tr th {\n",
       "        vertical-align: top;\n",
       "    }\n",
       "\n",
       "    .dataframe thead th {\n",
       "        text-align: right;\n",
       "    }\n",
       "</style>\n",
       "<table border=\"1\" class=\"dataframe\">\n",
       "  <thead>\n",
       "    <tr style=\"text-align: right;\">\n",
       "      <th></th>\n",
       "      <th>fixed_acidity</th>\n",
       "      <th>volatile_acidity</th>\n",
       "      <th>citric_acid</th>\n",
       "      <th>residual_sugar</th>\n",
       "      <th>chlorides</th>\n",
       "      <th>free_sulfur_dioxide</th>\n",
       "      <th>total_sulfur_dioxide</th>\n",
       "      <th>density</th>\n",
       "      <th>sulphates</th>\n",
       "      <th>alcohol</th>\n",
       "      <th>ph</th>\n",
       "      <th>quality</th>\n",
       "      <th>id</th>\n",
       "      <th>color</th>\n",
       "      <th>quality_2</th>\n",
       "    </tr>\n",
       "  </thead>\n",
       "  <tbody>\n",
       "    <tr>\n",
       "      <th>1599</th>\n",
       "      <td>7.0</td>\n",
       "      <td>0.27</td>\n",
       "      <td>0.36</td>\n",
       "      <td>20.7</td>\n",
       "      <td>0.045</td>\n",
       "      <td>45.0</td>\n",
       "      <td>170.0</td>\n",
       "      <td>1.0010</td>\n",
       "      <td>3.00</td>\n",
       "      <td>0.45</td>\n",
       "      <td>8.8</td>\n",
       "      <td>6</td>\n",
       "      <td>20001</td>\n",
       "      <td>white</td>\n",
       "      <td>0</td>\n",
       "    </tr>\n",
       "    <tr>\n",
       "      <th>1600</th>\n",
       "      <td>6.3</td>\n",
       "      <td>0.30</td>\n",
       "      <td>0.34</td>\n",
       "      <td>1.6</td>\n",
       "      <td>0.049</td>\n",
       "      <td>14.0</td>\n",
       "      <td>132.0</td>\n",
       "      <td>0.9940</td>\n",
       "      <td>3.30</td>\n",
       "      <td>0.49</td>\n",
       "      <td>9.5</td>\n",
       "      <td>6</td>\n",
       "      <td>20002</td>\n",
       "      <td>white</td>\n",
       "      <td>0</td>\n",
       "    </tr>\n",
       "    <tr>\n",
       "      <th>1601</th>\n",
       "      <td>8.1</td>\n",
       "      <td>0.28</td>\n",
       "      <td>0.40</td>\n",
       "      <td>6.9</td>\n",
       "      <td>0.050</td>\n",
       "      <td>30.0</td>\n",
       "      <td>97.0</td>\n",
       "      <td>0.9951</td>\n",
       "      <td>3.26</td>\n",
       "      <td>0.44</td>\n",
       "      <td>10.1</td>\n",
       "      <td>6</td>\n",
       "      <td>20003</td>\n",
       "      <td>white</td>\n",
       "      <td>0</td>\n",
       "    </tr>\n",
       "    <tr>\n",
       "      <th>1602</th>\n",
       "      <td>7.2</td>\n",
       "      <td>0.23</td>\n",
       "      <td>0.32</td>\n",
       "      <td>8.5</td>\n",
       "      <td>0.058</td>\n",
       "      <td>47.0</td>\n",
       "      <td>186.0</td>\n",
       "      <td>0.9956</td>\n",
       "      <td>3.19</td>\n",
       "      <td>0.40</td>\n",
       "      <td>9.9</td>\n",
       "      <td>6</td>\n",
       "      <td>20004</td>\n",
       "      <td>white</td>\n",
       "      <td>0</td>\n",
       "    </tr>\n",
       "    <tr>\n",
       "      <th>1603</th>\n",
       "      <td>7.2</td>\n",
       "      <td>0.23</td>\n",
       "      <td>0.32</td>\n",
       "      <td>8.5</td>\n",
       "      <td>0.058</td>\n",
       "      <td>47.0</td>\n",
       "      <td>186.0</td>\n",
       "      <td>0.9956</td>\n",
       "      <td>3.19</td>\n",
       "      <td>0.40</td>\n",
       "      <td>9.9</td>\n",
       "      <td>6</td>\n",
       "      <td>20005</td>\n",
       "      <td>white</td>\n",
       "      <td>0</td>\n",
       "    </tr>\n",
       "    <tr>\n",
       "      <th>1604</th>\n",
       "      <td>8.1</td>\n",
       "      <td>0.28</td>\n",
       "      <td>0.40</td>\n",
       "      <td>6.9</td>\n",
       "      <td>0.050</td>\n",
       "      <td>30.0</td>\n",
       "      <td>97.0</td>\n",
       "      <td>0.9951</td>\n",
       "      <td>3.26</td>\n",
       "      <td>0.44</td>\n",
       "      <td>10.1</td>\n",
       "      <td>6</td>\n",
       "      <td>20006</td>\n",
       "      <td>white</td>\n",
       "      <td>0</td>\n",
       "    </tr>\n",
       "    <tr>\n",
       "      <th>1605</th>\n",
       "      <td>6.2</td>\n",
       "      <td>0.32</td>\n",
       "      <td>0.16</td>\n",
       "      <td>7.0</td>\n",
       "      <td>0.045</td>\n",
       "      <td>30.0</td>\n",
       "      <td>136.0</td>\n",
       "      <td>0.9949</td>\n",
       "      <td>3.18</td>\n",
       "      <td>0.47</td>\n",
       "      <td>9.6</td>\n",
       "      <td>6</td>\n",
       "      <td>20007</td>\n",
       "      <td>white</td>\n",
       "      <td>0</td>\n",
       "    </tr>\n",
       "    <tr>\n",
       "      <th>1606</th>\n",
       "      <td>7.0</td>\n",
       "      <td>0.27</td>\n",
       "      <td>0.36</td>\n",
       "      <td>20.7</td>\n",
       "      <td>0.045</td>\n",
       "      <td>45.0</td>\n",
       "      <td>170.0</td>\n",
       "      <td>1.0010</td>\n",
       "      <td>3.00</td>\n",
       "      <td>0.45</td>\n",
       "      <td>8.8</td>\n",
       "      <td>6</td>\n",
       "      <td>20008</td>\n",
       "      <td>white</td>\n",
       "      <td>0</td>\n",
       "    </tr>\n",
       "    <tr>\n",
       "      <th>1607</th>\n",
       "      <td>6.3</td>\n",
       "      <td>0.30</td>\n",
       "      <td>0.34</td>\n",
       "      <td>1.6</td>\n",
       "      <td>0.049</td>\n",
       "      <td>14.0</td>\n",
       "      <td>132.0</td>\n",
       "      <td>0.9940</td>\n",
       "      <td>3.30</td>\n",
       "      <td>0.49</td>\n",
       "      <td>9.5</td>\n",
       "      <td>6</td>\n",
       "      <td>20009</td>\n",
       "      <td>white</td>\n",
       "      <td>0</td>\n",
       "    </tr>\n",
       "    <tr>\n",
       "      <th>1608</th>\n",
       "      <td>8.1</td>\n",
       "      <td>0.22</td>\n",
       "      <td>0.43</td>\n",
       "      <td>1.5</td>\n",
       "      <td>0.044</td>\n",
       "      <td>28.0</td>\n",
       "      <td>129.0</td>\n",
       "      <td>0.9938</td>\n",
       "      <td>3.22</td>\n",
       "      <td>0.45</td>\n",
       "      <td>11.0</td>\n",
       "      <td>6</td>\n",
       "      <td>20010</td>\n",
       "      <td>white</td>\n",
       "      <td>0</td>\n",
       "    </tr>\n",
       "  </tbody>\n",
       "</table>\n",
       "</div>"
      ],
      "text/plain": [
       "      fixed_acidity  volatile_acidity  citric_acid  residual_sugar  chlorides  \\\n",
       "1599            7.0              0.27         0.36            20.7      0.045   \n",
       "1600            6.3              0.30         0.34             1.6      0.049   \n",
       "1601            8.1              0.28         0.40             6.9      0.050   \n",
       "1602            7.2              0.23         0.32             8.5      0.058   \n",
       "1603            7.2              0.23         0.32             8.5      0.058   \n",
       "1604            8.1              0.28         0.40             6.9      0.050   \n",
       "1605            6.2              0.32         0.16             7.0      0.045   \n",
       "1606            7.0              0.27         0.36            20.7      0.045   \n",
       "1607            6.3              0.30         0.34             1.6      0.049   \n",
       "1608            8.1              0.22         0.43             1.5      0.044   \n",
       "\n",
       "      free_sulfur_dioxide  total_sulfur_dioxide  density  sulphates  alcohol  \\\n",
       "1599                 45.0                 170.0   1.0010       3.00     0.45   \n",
       "1600                 14.0                 132.0   0.9940       3.30     0.49   \n",
       "1601                 30.0                  97.0   0.9951       3.26     0.44   \n",
       "1602                 47.0                 186.0   0.9956       3.19     0.40   \n",
       "1603                 47.0                 186.0   0.9956       3.19     0.40   \n",
       "1604                 30.0                  97.0   0.9951       3.26     0.44   \n",
       "1605                 30.0                 136.0   0.9949       3.18     0.47   \n",
       "1606                 45.0                 170.0   1.0010       3.00     0.45   \n",
       "1607                 14.0                 132.0   0.9940       3.30     0.49   \n",
       "1608                 28.0                 129.0   0.9938       3.22     0.45   \n",
       "\n",
       "        ph  quality     id  color  quality_2  \n",
       "1599   8.8        6  20001  white          0  \n",
       "1600   9.5        6  20002  white          0  \n",
       "1601  10.1        6  20003  white          0  \n",
       "1602   9.9        6  20004  white          0  \n",
       "1603   9.9        6  20005  white          0  \n",
       "1604  10.1        6  20006  white          0  \n",
       "1605   9.6        6  20007  white          0  \n",
       "1606   8.8        6  20008  white          0  \n",
       "1607   9.5        6  20009  white          0  \n",
       "1608  11.0        6  20010  white          0  "
      ]
     },
     "execution_count": 8,
     "metadata": {},
     "output_type": "execute_result"
    }
   ],
   "source": [
    "white_df.head(10)"
   ]
  },
  {
   "cell_type": "markdown",
   "id": "25719add",
   "metadata": {},
   "source": [
    "#### Create Target and Features\n",
    "- quality_2 is the binary outcome (1-Good, 0-Not good)\n",
    "- quality, id, color are dropped since they aren't needed in the model"
   ]
  },
  {
   "cell_type": "code",
   "execution_count": 9,
   "id": "5c584396",
   "metadata": {},
   "outputs": [],
   "source": [
    "y = white_df[\"quality_2\"]\n",
    "X = white_df.drop(columns=[\"quality\",\"quality_2\",\"id\",\"color\"])"
   ]
  },
  {
   "cell_type": "code",
   "execution_count": 10,
   "id": "84f18054",
   "metadata": {},
   "outputs": [
    {
     "data": {
      "text/html": [
       "<div>\n",
       "<style scoped>\n",
       "    .dataframe tbody tr th:only-of-type {\n",
       "        vertical-align: middle;\n",
       "    }\n",
       "\n",
       "    .dataframe tbody tr th {\n",
       "        vertical-align: top;\n",
       "    }\n",
       "\n",
       "    .dataframe thead th {\n",
       "        text-align: right;\n",
       "    }\n",
       "</style>\n",
       "<table border=\"1\" class=\"dataframe\">\n",
       "  <thead>\n",
       "    <tr style=\"text-align: right;\">\n",
       "      <th></th>\n",
       "      <th>fixed_acidity</th>\n",
       "      <th>volatile_acidity</th>\n",
       "      <th>citric_acid</th>\n",
       "      <th>residual_sugar</th>\n",
       "      <th>chlorides</th>\n",
       "      <th>free_sulfur_dioxide</th>\n",
       "      <th>total_sulfur_dioxide</th>\n",
       "      <th>density</th>\n",
       "      <th>sulphates</th>\n",
       "      <th>alcohol</th>\n",
       "      <th>ph</th>\n",
       "    </tr>\n",
       "  </thead>\n",
       "  <tbody>\n",
       "    <tr>\n",
       "      <th>1599</th>\n",
       "      <td>7.0</td>\n",
       "      <td>0.27</td>\n",
       "      <td>0.36</td>\n",
       "      <td>20.7</td>\n",
       "      <td>0.045</td>\n",
       "      <td>45.0</td>\n",
       "      <td>170.0</td>\n",
       "      <td>1.0010</td>\n",
       "      <td>3.00</td>\n",
       "      <td>0.45</td>\n",
       "      <td>8.8</td>\n",
       "    </tr>\n",
       "    <tr>\n",
       "      <th>1600</th>\n",
       "      <td>6.3</td>\n",
       "      <td>0.30</td>\n",
       "      <td>0.34</td>\n",
       "      <td>1.6</td>\n",
       "      <td>0.049</td>\n",
       "      <td>14.0</td>\n",
       "      <td>132.0</td>\n",
       "      <td>0.9940</td>\n",
       "      <td>3.30</td>\n",
       "      <td>0.49</td>\n",
       "      <td>9.5</td>\n",
       "    </tr>\n",
       "    <tr>\n",
       "      <th>1601</th>\n",
       "      <td>8.1</td>\n",
       "      <td>0.28</td>\n",
       "      <td>0.40</td>\n",
       "      <td>6.9</td>\n",
       "      <td>0.050</td>\n",
       "      <td>30.0</td>\n",
       "      <td>97.0</td>\n",
       "      <td>0.9951</td>\n",
       "      <td>3.26</td>\n",
       "      <td>0.44</td>\n",
       "      <td>10.1</td>\n",
       "    </tr>\n",
       "    <tr>\n",
       "      <th>1602</th>\n",
       "      <td>7.2</td>\n",
       "      <td>0.23</td>\n",
       "      <td>0.32</td>\n",
       "      <td>8.5</td>\n",
       "      <td>0.058</td>\n",
       "      <td>47.0</td>\n",
       "      <td>186.0</td>\n",
       "      <td>0.9956</td>\n",
       "      <td>3.19</td>\n",
       "      <td>0.40</td>\n",
       "      <td>9.9</td>\n",
       "    </tr>\n",
       "    <tr>\n",
       "      <th>1603</th>\n",
       "      <td>7.2</td>\n",
       "      <td>0.23</td>\n",
       "      <td>0.32</td>\n",
       "      <td>8.5</td>\n",
       "      <td>0.058</td>\n",
       "      <td>47.0</td>\n",
       "      <td>186.0</td>\n",
       "      <td>0.9956</td>\n",
       "      <td>3.19</td>\n",
       "      <td>0.40</td>\n",
       "      <td>9.9</td>\n",
       "    </tr>\n",
       "    <tr>\n",
       "      <th>1604</th>\n",
       "      <td>8.1</td>\n",
       "      <td>0.28</td>\n",
       "      <td>0.40</td>\n",
       "      <td>6.9</td>\n",
       "      <td>0.050</td>\n",
       "      <td>30.0</td>\n",
       "      <td>97.0</td>\n",
       "      <td>0.9951</td>\n",
       "      <td>3.26</td>\n",
       "      <td>0.44</td>\n",
       "      <td>10.1</td>\n",
       "    </tr>\n",
       "    <tr>\n",
       "      <th>1605</th>\n",
       "      <td>6.2</td>\n",
       "      <td>0.32</td>\n",
       "      <td>0.16</td>\n",
       "      <td>7.0</td>\n",
       "      <td>0.045</td>\n",
       "      <td>30.0</td>\n",
       "      <td>136.0</td>\n",
       "      <td>0.9949</td>\n",
       "      <td>3.18</td>\n",
       "      <td>0.47</td>\n",
       "      <td>9.6</td>\n",
       "    </tr>\n",
       "    <tr>\n",
       "      <th>1606</th>\n",
       "      <td>7.0</td>\n",
       "      <td>0.27</td>\n",
       "      <td>0.36</td>\n",
       "      <td>20.7</td>\n",
       "      <td>0.045</td>\n",
       "      <td>45.0</td>\n",
       "      <td>170.0</td>\n",
       "      <td>1.0010</td>\n",
       "      <td>3.00</td>\n",
       "      <td>0.45</td>\n",
       "      <td>8.8</td>\n",
       "    </tr>\n",
       "    <tr>\n",
       "      <th>1607</th>\n",
       "      <td>6.3</td>\n",
       "      <td>0.30</td>\n",
       "      <td>0.34</td>\n",
       "      <td>1.6</td>\n",
       "      <td>0.049</td>\n",
       "      <td>14.0</td>\n",
       "      <td>132.0</td>\n",
       "      <td>0.9940</td>\n",
       "      <td>3.30</td>\n",
       "      <td>0.49</td>\n",
       "      <td>9.5</td>\n",
       "    </tr>\n",
       "    <tr>\n",
       "      <th>1608</th>\n",
       "      <td>8.1</td>\n",
       "      <td>0.22</td>\n",
       "      <td>0.43</td>\n",
       "      <td>1.5</td>\n",
       "      <td>0.044</td>\n",
       "      <td>28.0</td>\n",
       "      <td>129.0</td>\n",
       "      <td>0.9938</td>\n",
       "      <td>3.22</td>\n",
       "      <td>0.45</td>\n",
       "      <td>11.0</td>\n",
       "    </tr>\n",
       "  </tbody>\n",
       "</table>\n",
       "</div>"
      ],
      "text/plain": [
       "      fixed_acidity  volatile_acidity  citric_acid  residual_sugar  chlorides  \\\n",
       "1599            7.0              0.27         0.36            20.7      0.045   \n",
       "1600            6.3              0.30         0.34             1.6      0.049   \n",
       "1601            8.1              0.28         0.40             6.9      0.050   \n",
       "1602            7.2              0.23         0.32             8.5      0.058   \n",
       "1603            7.2              0.23         0.32             8.5      0.058   \n",
       "1604            8.1              0.28         0.40             6.9      0.050   \n",
       "1605            6.2              0.32         0.16             7.0      0.045   \n",
       "1606            7.0              0.27         0.36            20.7      0.045   \n",
       "1607            6.3              0.30         0.34             1.6      0.049   \n",
       "1608            8.1              0.22         0.43             1.5      0.044   \n",
       "\n",
       "      free_sulfur_dioxide  total_sulfur_dioxide  density  sulphates  alcohol  \\\n",
       "1599                 45.0                 170.0   1.0010       3.00     0.45   \n",
       "1600                 14.0                 132.0   0.9940       3.30     0.49   \n",
       "1601                 30.0                  97.0   0.9951       3.26     0.44   \n",
       "1602                 47.0                 186.0   0.9956       3.19     0.40   \n",
       "1603                 47.0                 186.0   0.9956       3.19     0.40   \n",
       "1604                 30.0                  97.0   0.9951       3.26     0.44   \n",
       "1605                 30.0                 136.0   0.9949       3.18     0.47   \n",
       "1606                 45.0                 170.0   1.0010       3.00     0.45   \n",
       "1607                 14.0                 132.0   0.9940       3.30     0.49   \n",
       "1608                 28.0                 129.0   0.9938       3.22     0.45   \n",
       "\n",
       "        ph  \n",
       "1599   8.8  \n",
       "1600   9.5  \n",
       "1601  10.1  \n",
       "1602   9.9  \n",
       "1603   9.9  \n",
       "1604  10.1  \n",
       "1605   9.6  \n",
       "1606   8.8  \n",
       "1607   9.5  \n",
       "1608  11.0  "
      ]
     },
     "execution_count": 10,
     "metadata": {},
     "output_type": "execute_result"
    }
   ],
   "source": [
    "X.head(10)"
   ]
  },
  {
   "cell_type": "code",
   "execution_count": 11,
   "id": "646ca47b",
   "metadata": {},
   "outputs": [
    {
     "data": {
      "text/plain": [
       "0    3838\n",
       "1    1060\n",
       "Name: quality_2, dtype: int64"
      ]
     },
     "execution_count": 11,
     "metadata": {},
     "output_type": "execute_result"
    }
   ],
   "source": [
    "y.value_counts()"
   ]
  },
  {
   "cell_type": "markdown",
   "id": "5a0ff5bc",
   "metadata": {},
   "source": [
    "#### Scale the data\n",
    "- Scale the data since there is such a wide range of values between features. Scaling will make all the model results comparable"
   ]
  },
  {
   "cell_type": "code",
   "execution_count": 12,
   "id": "6b829f35",
   "metadata": {},
   "outputs": [],
   "source": [
    "data_scaler = StandardScaler()"
   ]
  },
  {
   "cell_type": "code",
   "execution_count": 13,
   "id": "42b57a2a",
   "metadata": {},
   "outputs": [],
   "source": [
    "X_scaled = data_scaler.fit_transform(X)\n",
    "# X_scaled"
   ]
  },
  {
   "cell_type": "markdown",
   "id": "6dfee15d",
   "metadata": {},
   "source": [
    "#### Split the data into test and train"
   ]
  },
  {
   "cell_type": "code",
   "execution_count": 14,
   "id": "42c0d40c",
   "metadata": {},
   "outputs": [],
   "source": [
    "# YOUR CODE HERE\n",
    "X_train, X_test, y_train, y_test = train_test_split(X_scaled, y, random_state=7)"
   ]
  },
  {
   "cell_type": "code",
   "execution_count": 15,
   "id": "ca05d72c",
   "metadata": {},
   "outputs": [
    {
     "data": {
      "text/plain": [
       "0    2870\n",
       "1     803\n",
       "Name: quality_2, dtype: int64"
      ]
     },
     "execution_count": 15,
     "metadata": {},
     "output_type": "execute_result"
    }
   ],
   "source": [
    "y_train.value_counts()"
   ]
  },
  {
   "cell_type": "code",
   "execution_count": 16,
   "id": "4882cef4",
   "metadata": {},
   "outputs": [
    {
     "data": {
      "text/plain": [
       "(4898, 11)"
      ]
     },
     "execution_count": 16,
     "metadata": {},
     "output_type": "execute_result"
    }
   ],
   "source": [
    "X_scaled.shape"
   ]
  },
  {
   "cell_type": "markdown",
   "id": "f512a183",
   "metadata": {},
   "source": [
    "## Logistic model\n",
    "_Benefits_ - Simple to implement and effective; it works with feature scaling but does not require it.  \n",
    "_Limitations_ - Poor performance on non-linear data or where features are not highly correlated."
   ]
  },
  {
   "cell_type": "code",
   "execution_count": 17,
   "id": "ba5b5654",
   "metadata": {},
   "outputs": [],
   "source": [
    "model1 = LogisticRegression(solver='lbfgs',random_state=7)"
   ]
  },
  {
   "cell_type": "code",
   "execution_count": 18,
   "id": "5e8f25aa",
   "metadata": {},
   "outputs": [
    {
     "data": {
      "text/plain": [
       "LogisticRegression(random_state=7)"
      ]
     },
     "execution_count": 18,
     "metadata": {},
     "output_type": "execute_result"
    }
   ],
   "source": [
    "model1.fit(X_train, y_train)"
   ]
  },
  {
   "cell_type": "markdown",
   "id": "6ccdc3b2",
   "metadata": {},
   "source": [
    "#### Model predictions"
   ]
  },
  {
   "cell_type": "code",
   "execution_count": 19,
   "id": "5841b619",
   "metadata": {},
   "outputs": [],
   "source": [
    "y_pred1 = model1.predict(X_test)"
   ]
  },
  {
   "cell_type": "code",
   "execution_count": 20,
   "id": "59a8ac88",
   "metadata": {},
   "outputs": [
    {
     "name": "stdout",
     "output_type": "stream",
     "text": [
      "[[911  57]\n",
      " [186  71]]\n"
     ]
    }
   ],
   "source": [
    "matrix1 = confusion_matrix(y_test, y_pred1)\n",
    "print(matrix1)"
   ]
  },
  {
   "cell_type": "code",
   "execution_count": 21,
   "id": "02d344d2",
   "metadata": {},
   "outputs": [
    {
     "name": "stdout",
     "output_type": "stream",
     "text": [
      "              precision    recall  f1-score   support\n",
      "\n",
      "           0       0.83      0.94      0.88       968\n",
      "           1       0.55      0.28      0.37       257\n",
      "\n",
      "    accuracy                           0.80      1225\n",
      "   macro avg       0.69      0.61      0.63      1225\n",
      "weighted avg       0.77      0.80      0.77      1225\n",
      "\n"
     ]
    }
   ],
   "source": [
    "report1 = classification_report(y_test, y_pred1)\n",
    "print(report1)"
   ]
  },
  {
   "cell_type": "code",
   "execution_count": 22,
   "id": "e6b6213f",
   "metadata": {},
   "outputs": [
    {
     "data": {
      "text/html": [
       "<div>\n",
       "<style scoped>\n",
       "    .dataframe tbody tr th:only-of-type {\n",
       "        vertical-align: middle;\n",
       "    }\n",
       "\n",
       "    .dataframe tbody tr th {\n",
       "        vertical-align: top;\n",
       "    }\n",
       "\n",
       "    .dataframe thead th {\n",
       "        text-align: right;\n",
       "    }\n",
       "</style>\n",
       "<table border=\"1\" class=\"dataframe\">\n",
       "  <thead>\n",
       "    <tr style=\"text-align: right;\">\n",
       "      <th></th>\n",
       "      <th>feature</th>\n",
       "      <th>importance</th>\n",
       "    </tr>\n",
       "  </thead>\n",
       "  <tbody>\n",
       "    <tr>\n",
       "      <th>3</th>\n",
       "      <td>residual_sugar</td>\n",
       "      <td>1.222858</td>\n",
       "    </tr>\n",
       "    <tr>\n",
       "      <th>8</th>\n",
       "      <td>sulphates</td>\n",
       "      <td>0.404743</td>\n",
       "    </tr>\n",
       "    <tr>\n",
       "      <th>0</th>\n",
       "      <td>fixed_acidity</td>\n",
       "      <td>0.372340</td>\n",
       "    </tr>\n",
       "    <tr>\n",
       "      <th>10</th>\n",
       "      <td>ph</td>\n",
       "      <td>0.354078</td>\n",
       "    </tr>\n",
       "    <tr>\n",
       "      <th>9</th>\n",
       "      <td>alcohol</td>\n",
       "      <td>0.228015</td>\n",
       "    </tr>\n",
       "    <tr>\n",
       "      <th>5</th>\n",
       "      <td>free_sulfur_dioxide</td>\n",
       "      <td>0.163644</td>\n",
       "    </tr>\n",
       "    <tr>\n",
       "      <th>6</th>\n",
       "      <td>total_sulfur_dioxide</td>\n",
       "      <td>-0.033041</td>\n",
       "    </tr>\n",
       "    <tr>\n",
       "      <th>2</th>\n",
       "      <td>citric_acid</td>\n",
       "      <td>-0.099051</td>\n",
       "    </tr>\n",
       "    <tr>\n",
       "      <th>4</th>\n",
       "      <td>chlorides</td>\n",
       "      <td>-0.265733</td>\n",
       "    </tr>\n",
       "    <tr>\n",
       "      <th>1</th>\n",
       "      <td>volatile_acidity</td>\n",
       "      <td>-0.418186</td>\n",
       "    </tr>\n",
       "    <tr>\n",
       "      <th>7</th>\n",
       "      <td>density</td>\n",
       "      <td>-1.609776</td>\n",
       "    </tr>\n",
       "  </tbody>\n",
       "</table>\n",
       "</div>"
      ],
      "text/plain": [
       "                 feature  importance\n",
       "3         residual_sugar    1.222858\n",
       "8              sulphates    0.404743\n",
       "0          fixed_acidity    0.372340\n",
       "10                    ph    0.354078\n",
       "9                alcohol    0.228015\n",
       "5    free_sulfur_dioxide    0.163644\n",
       "6   total_sulfur_dioxide   -0.033041\n",
       "2            citric_acid   -0.099051\n",
       "4              chlorides   -0.265733\n",
       "1       volatile_acidity   -0.418186\n",
       "7                density   -1.609776"
      ]
     },
     "execution_count": 22,
     "metadata": {},
     "output_type": "execute_result"
    }
   ],
   "source": [
    "importance = model1.coef_[0]\n",
    "columns = X.columns\n",
    "import_df = pd.DataFrame({'feature':columns, 'importance':importance})\n",
    "import_df = import_df.sort_values([\"importance\"], ascending=False)\n",
    "import_df"
   ]
  },
  {
   "cell_type": "markdown",
   "id": "686bbfa3",
   "metadata": {},
   "source": [
    "## SVM\n",
    "_Benefits_ - Does better at handling a higher number of features.  Useful when classes can be easily separated.  Outliers have less impact.  \n",
    "_Limitations_ - For larger datasets, it requires a large amount of time to process.  In the case of overlapped classes it does nt perform well."
   ]
  },
  {
   "cell_type": "code",
   "execution_count": 23,
   "id": "9163332f",
   "metadata": {},
   "outputs": [],
   "source": [
    "# Linear kernel did not work\n",
    "model2 = SVC(kernel='rbf',random_state=7)"
   ]
  },
  {
   "cell_type": "code",
   "execution_count": 24,
   "id": "fe0f1a09",
   "metadata": {},
   "outputs": [
    {
     "data": {
      "text/plain": [
       "SVC(random_state=7)"
      ]
     },
     "execution_count": 24,
     "metadata": {},
     "output_type": "execute_result"
    }
   ],
   "source": [
    "model2.fit(X_train, y_train)"
   ]
  },
  {
   "cell_type": "code",
   "execution_count": 25,
   "id": "c9b49b9a",
   "metadata": {},
   "outputs": [],
   "source": [
    "y_pred2 = model2.predict(X_test)"
   ]
  },
  {
   "cell_type": "code",
   "execution_count": 26,
   "id": "1c672d6b",
   "metadata": {},
   "outputs": [
    {
     "name": "stdout",
     "output_type": "stream",
     "text": [
      "[[932  36]\n",
      " [165  92]]\n"
     ]
    }
   ],
   "source": [
    "matrix2 = confusion_matrix(y_test, y_pred2)\n",
    "print(matrix2)"
   ]
  },
  {
   "cell_type": "code",
   "execution_count": 27,
   "id": "770beec1",
   "metadata": {},
   "outputs": [
    {
     "name": "stdout",
     "output_type": "stream",
     "text": [
      "              precision    recall  f1-score   support\n",
      "\n",
      "           0       0.85      0.96      0.90       968\n",
      "           1       0.72      0.36      0.48       257\n",
      "\n",
      "    accuracy                           0.84      1225\n",
      "   macro avg       0.78      0.66      0.69      1225\n",
      "weighted avg       0.82      0.84      0.81      1225\n",
      "\n"
     ]
    }
   ],
   "source": [
    "report2 = classification_report(y_test, y_pred2)\n",
    "print(report2)"
   ]
  },
  {
   "cell_type": "code",
   "execution_count": 28,
   "id": "1a086515",
   "metadata": {},
   "outputs": [
    {
     "data": {
      "text/plain": [
       "0.8359183673469388"
      ]
     },
     "execution_count": 28,
     "metadata": {},
     "output_type": "execute_result"
    }
   ],
   "source": [
    "accuracy_score(y_test, y_pred2)"
   ]
  },
  {
   "cell_type": "markdown",
   "id": "72038937",
   "metadata": {},
   "source": [
    "## Decision tree\n",
    "_Benefits_ - Scaling or normalization of data is not required.  Can handle missing values.  \n",
    "_Limitations_ Prone to overfitting.  Higher time required to train decision trees."
   ]
  },
  {
   "cell_type": "code",
   "execution_count": 29,
   "id": "e019a7b9",
   "metadata": {},
   "outputs": [],
   "source": [
    "model3 = tree.DecisionTreeClassifier(random_state=7)"
   ]
  },
  {
   "cell_type": "code",
   "execution_count": 30,
   "id": "d0d6e9a1",
   "metadata": {},
   "outputs": [],
   "source": [
    "model3 = model3.fit(X_train, y_train)"
   ]
  },
  {
   "cell_type": "code",
   "execution_count": 31,
   "id": "5fb7dcb6",
   "metadata": {},
   "outputs": [],
   "source": [
    "y_pred3 = model3.predict(X_test)"
   ]
  },
  {
   "cell_type": "code",
   "execution_count": 32,
   "id": "bf9cd9ff",
   "metadata": {},
   "outputs": [
    {
     "name": "stdout",
     "output_type": "stream",
     "text": [
      "[[851 117]\n",
      " [ 94 163]]\n"
     ]
    }
   ],
   "source": [
    "matrix3 = confusion_matrix(y_test, y_pred3)\n",
    "print(matrix3)"
   ]
  },
  {
   "cell_type": "code",
   "execution_count": 33,
   "id": "55ca9361",
   "metadata": {},
   "outputs": [
    {
     "name": "stdout",
     "output_type": "stream",
     "text": [
      "              precision    recall  f1-score   support\n",
      "\n",
      "           0       0.90      0.88      0.89       968\n",
      "           1       0.58      0.63      0.61       257\n",
      "\n",
      "    accuracy                           0.83      1225\n",
      "   macro avg       0.74      0.76      0.75      1225\n",
      "weighted avg       0.83      0.83      0.83      1225\n",
      "\n"
     ]
    }
   ],
   "source": [
    "report3 = classification_report(y_test, y_pred3)\n",
    "print(report3)"
   ]
  },
  {
   "cell_type": "code",
   "execution_count": 34,
   "id": "dcbc432d",
   "metadata": {},
   "outputs": [
    {
     "data": {
      "text/plain": [
       "0.8277551020408164"
      ]
     },
     "execution_count": 34,
     "metadata": {},
     "output_type": "execute_result"
    }
   ],
   "source": [
    "accuracy_score(y_test, y_pred3)"
   ]
  },
  {
   "cell_type": "code",
   "execution_count": 35,
   "id": "b971dbb4",
   "metadata": {},
   "outputs": [
    {
     "data": {
      "text/html": [
       "<div>\n",
       "<style scoped>\n",
       "    .dataframe tbody tr th:only-of-type {\n",
       "        vertical-align: middle;\n",
       "    }\n",
       "\n",
       "    .dataframe tbody tr th {\n",
       "        vertical-align: top;\n",
       "    }\n",
       "\n",
       "    .dataframe thead th {\n",
       "        text-align: right;\n",
       "    }\n",
       "</style>\n",
       "<table border=\"1\" class=\"dataframe\">\n",
       "  <thead>\n",
       "    <tr style=\"text-align: right;\">\n",
       "      <th></th>\n",
       "      <th>feature</th>\n",
       "      <th>importance</th>\n",
       "    </tr>\n",
       "  </thead>\n",
       "  <tbody>\n",
       "    <tr>\n",
       "      <th>10</th>\n",
       "      <td>ph</td>\n",
       "      <td>0.211412</td>\n",
       "    </tr>\n",
       "    <tr>\n",
       "      <th>1</th>\n",
       "      <td>volatile_acidity</td>\n",
       "      <td>0.094541</td>\n",
       "    </tr>\n",
       "    <tr>\n",
       "      <th>8</th>\n",
       "      <td>sulphates</td>\n",
       "      <td>0.093522</td>\n",
       "    </tr>\n",
       "    <tr>\n",
       "      <th>4</th>\n",
       "      <td>chlorides</td>\n",
       "      <td>0.087650</td>\n",
       "    </tr>\n",
       "    <tr>\n",
       "      <th>7</th>\n",
       "      <td>density</td>\n",
       "      <td>0.084502</td>\n",
       "    </tr>\n",
       "    <tr>\n",
       "      <th>6</th>\n",
       "      <td>total_sulfur_dioxide</td>\n",
       "      <td>0.079256</td>\n",
       "    </tr>\n",
       "    <tr>\n",
       "      <th>5</th>\n",
       "      <td>free_sulfur_dioxide</td>\n",
       "      <td>0.076851</td>\n",
       "    </tr>\n",
       "    <tr>\n",
       "      <th>3</th>\n",
       "      <td>residual_sugar</td>\n",
       "      <td>0.075369</td>\n",
       "    </tr>\n",
       "    <tr>\n",
       "      <th>9</th>\n",
       "      <td>alcohol</td>\n",
       "      <td>0.069522</td>\n",
       "    </tr>\n",
       "    <tr>\n",
       "      <th>0</th>\n",
       "      <td>fixed_acidity</td>\n",
       "      <td>0.067947</td>\n",
       "    </tr>\n",
       "    <tr>\n",
       "      <th>2</th>\n",
       "      <td>citric_acid</td>\n",
       "      <td>0.059429</td>\n",
       "    </tr>\n",
       "  </tbody>\n",
       "</table>\n",
       "</div>"
      ],
      "text/plain": [
       "                 feature  importance\n",
       "10                    ph    0.211412\n",
       "1       volatile_acidity    0.094541\n",
       "8              sulphates    0.093522\n",
       "4              chlorides    0.087650\n",
       "7                density    0.084502\n",
       "6   total_sulfur_dioxide    0.079256\n",
       "5    free_sulfur_dioxide    0.076851\n",
       "3         residual_sugar    0.075369\n",
       "9                alcohol    0.069522\n",
       "0          fixed_acidity    0.067947\n",
       "2            citric_acid    0.059429"
      ]
     },
     "execution_count": 35,
     "metadata": {},
     "output_type": "execute_result"
    }
   ],
   "source": [
    "importance = model3.feature_importances_\n",
    "columns = X.columns\n",
    "import_df = pd.DataFrame({'feature':columns, 'importance':importance})\n",
    "import_df = import_df.sort_values([\"importance\"], ascending=False)\n",
    "import_df"
   ]
  },
  {
   "cell_type": "markdown",
   "id": "bb43ede4",
   "metadata": {},
   "source": [
    "## Random Forest Classifier\n",
    "_Benefits_ - Less prone to overfitting.  \n",
    "_Limitations_ - Features need to have some predictive power or else they wont work."
   ]
  },
  {
   "cell_type": "code",
   "execution_count": 36,
   "id": "d94f9727",
   "metadata": {},
   "outputs": [],
   "source": [
    "model4 = RandomForestClassifier(n_estimators=128,random_state=7) "
   ]
  },
  {
   "cell_type": "code",
   "execution_count": 37,
   "id": "7afa0efe",
   "metadata": {},
   "outputs": [],
   "source": [
    "model4 = model4.fit(X_train, y_train)"
   ]
  },
  {
   "cell_type": "code",
   "execution_count": 38,
   "id": "4ca885c5",
   "metadata": {},
   "outputs": [],
   "source": [
    "y_pred4 = model4.predict(X_test)"
   ]
  },
  {
   "cell_type": "code",
   "execution_count": 39,
   "id": "b4b8b820",
   "metadata": {},
   "outputs": [
    {
     "name": "stdout",
     "output_type": "stream",
     "text": [
      "[[924  44]\n",
      " [107 150]]\n"
     ]
    }
   ],
   "source": [
    "matrix4 = confusion_matrix(y_test, y_pred4)\n",
    "print(matrix4)"
   ]
  },
  {
   "cell_type": "code",
   "execution_count": 40,
   "id": "ee26cfa3",
   "metadata": {},
   "outputs": [
    {
     "name": "stdout",
     "output_type": "stream",
     "text": [
      "              precision    recall  f1-score   support\n",
      "\n",
      "           0       0.90      0.95      0.92       968\n",
      "           1       0.77      0.58      0.67       257\n",
      "\n",
      "    accuracy                           0.88      1225\n",
      "   macro avg       0.83      0.77      0.79      1225\n",
      "weighted avg       0.87      0.88      0.87      1225\n",
      "\n"
     ]
    }
   ],
   "source": [
    "report4 = classification_report(y_test, y_pred4)\n",
    "print(report4)"
   ]
  },
  {
   "cell_type": "code",
   "execution_count": 41,
   "id": "ac370c7e",
   "metadata": {},
   "outputs": [
    {
     "data": {
      "text/plain": [
       "0.876734693877551"
      ]
     },
     "execution_count": 41,
     "metadata": {},
     "output_type": "execute_result"
    }
   ],
   "source": [
    "accuracy_score(y_test, y_pred4)"
   ]
  },
  {
   "cell_type": "code",
   "execution_count": 42,
   "id": "6dc2790e",
   "metadata": {},
   "outputs": [
    {
     "data": {
      "text/html": [
       "<div>\n",
       "<style scoped>\n",
       "    .dataframe tbody tr th:only-of-type {\n",
       "        vertical-align: middle;\n",
       "    }\n",
       "\n",
       "    .dataframe tbody tr th {\n",
       "        vertical-align: top;\n",
       "    }\n",
       "\n",
       "    .dataframe thead th {\n",
       "        text-align: right;\n",
       "    }\n",
       "</style>\n",
       "<table border=\"1\" class=\"dataframe\">\n",
       "  <thead>\n",
       "    <tr style=\"text-align: right;\">\n",
       "      <th></th>\n",
       "      <th>feature</th>\n",
       "      <th>importance</th>\n",
       "    </tr>\n",
       "  </thead>\n",
       "  <tbody>\n",
       "    <tr>\n",
       "      <th>10</th>\n",
       "      <td>ph</td>\n",
       "      <td>0.155685</td>\n",
       "    </tr>\n",
       "    <tr>\n",
       "      <th>7</th>\n",
       "      <td>density</td>\n",
       "      <td>0.122560</td>\n",
       "    </tr>\n",
       "    <tr>\n",
       "      <th>3</th>\n",
       "      <td>residual_sugar</td>\n",
       "      <td>0.089787</td>\n",
       "    </tr>\n",
       "    <tr>\n",
       "      <th>1</th>\n",
       "      <td>volatile_acidity</td>\n",
       "      <td>0.086737</td>\n",
       "    </tr>\n",
       "    <tr>\n",
       "      <th>4</th>\n",
       "      <td>chlorides</td>\n",
       "      <td>0.085782</td>\n",
       "    </tr>\n",
       "    <tr>\n",
       "      <th>6</th>\n",
       "      <td>total_sulfur_dioxide</td>\n",
       "      <td>0.083496</td>\n",
       "    </tr>\n",
       "    <tr>\n",
       "      <th>8</th>\n",
       "      <td>sulphates</td>\n",
       "      <td>0.082224</td>\n",
       "    </tr>\n",
       "    <tr>\n",
       "      <th>5</th>\n",
       "      <td>free_sulfur_dioxide</td>\n",
       "      <td>0.081998</td>\n",
       "    </tr>\n",
       "    <tr>\n",
       "      <th>9</th>\n",
       "      <td>alcohol</td>\n",
       "      <td>0.077231</td>\n",
       "    </tr>\n",
       "    <tr>\n",
       "      <th>2</th>\n",
       "      <td>citric_acid</td>\n",
       "      <td>0.068512</td>\n",
       "    </tr>\n",
       "    <tr>\n",
       "      <th>0</th>\n",
       "      <td>fixed_acidity</td>\n",
       "      <td>0.065990</td>\n",
       "    </tr>\n",
       "  </tbody>\n",
       "</table>\n",
       "</div>"
      ],
      "text/plain": [
       "                 feature  importance\n",
       "10                    ph    0.155685\n",
       "7                density    0.122560\n",
       "3         residual_sugar    0.089787\n",
       "1       volatile_acidity    0.086737\n",
       "4              chlorides    0.085782\n",
       "6   total_sulfur_dioxide    0.083496\n",
       "8              sulphates    0.082224\n",
       "5    free_sulfur_dioxide    0.081998\n",
       "9                alcohol    0.077231\n",
       "2            citric_acid    0.068512\n",
       "0          fixed_acidity    0.065990"
      ]
     },
     "execution_count": 42,
     "metadata": {},
     "output_type": "execute_result"
    }
   ],
   "source": [
    "importance = model4.feature_importances_\n",
    "columns = X.columns\n",
    "import_df = pd.DataFrame({'feature':columns, 'importance':importance})\n",
    "import_df = import_df.sort_values([\"importance\"], ascending=False)\n",
    "import_df"
   ]
  },
  {
   "cell_type": "markdown",
   "id": "7f2dbc3a",
   "metadata": {},
   "source": [
    "## Gradient Boosted Tree\n",
    "_Benefits_ - Often provides more predictive accuracy. Lots of flexibility. No data pre-processing required. \n",
    "\n",
    "_Limitations_ - Training generally takes longer. It will continue improving to minimize all errors. This can overemphasize outliers and cause overfitting."
   ]
  },
  {
   "cell_type": "code",
   "execution_count": 43,
   "id": "309d6165",
   "metadata": {},
   "outputs": [
    {
     "name": "stdout",
     "output_type": "stream",
     "text": [
      "Learning rate:  0.05\n",
      "Accuracy score (training): 0.789\n",
      "Accuracy score (validation): 0.797\n",
      "\n",
      "Learning rate:  0.1\n",
      "Accuracy score (training): 0.823\n",
      "Accuracy score (validation): 0.819\n",
      "\n",
      "Learning rate:  0.25\n",
      "Accuracy score (training): 0.849\n",
      "Accuracy score (validation): 0.833\n",
      "\n",
      "Learning rate:  0.5\n",
      "Accuracy score (training): 0.858\n",
      "Accuracy score (validation): 0.824\n",
      "\n",
      "Learning rate:  0.75\n",
      "Accuracy score (training): 0.866\n",
      "Accuracy score (validation): 0.823\n",
      "\n",
      "Learning rate:  1\n",
      "Accuracy score (training): 0.872\n",
      "Accuracy score (validation): 0.827\n",
      "\n"
     ]
    }
   ],
   "source": [
    "# Create a classifier object\n",
    "learning_rates = [0.05, 0.1, 0.25, 0.5, 0.75, 1]\n",
    "for learning_rate in learning_rates:\n",
    "    classifier = GradientBoostingClassifier(n_estimators=20,\n",
    "                                            learning_rate=learning_rate,\n",
    "                                            max_features=5,\n",
    "                                            max_depth=3,\n",
    "                                            random_state=0)\n",
    "\n",
    "    # Fit the model\n",
    "    classifier.fit(X_train, y_train)\n",
    "    print(\"Learning rate: \", learning_rate)\n",
    "\n",
    "    # Score the model\n",
    "    print(\"Accuracy score (training): {0:.3f}\".format(\n",
    "        classifier.score(\n",
    "            X_train,\n",
    "            y_train)))\n",
    "    print(\"Accuracy score (validation): {0:.3f}\".format(\n",
    "        classifier.score(\n",
    "            X_test,\n",
    "            y_test)))\n",
    "    print()"
   ]
  },
  {
   "cell_type": "markdown",
   "id": "70e89e54",
   "metadata": {},
   "source": [
    "#### Choose the learning_rate based on highest Accuracy score = 0.25"
   ]
  },
  {
   "cell_type": "code",
   "execution_count": 44,
   "id": "1553d353",
   "metadata": {},
   "outputs": [],
   "source": [
    "model5 = GradientBoostingClassifier(n_estimators=20,\n",
    "   learning_rate=0.25, max_features=10, max_depth=3, random_state=7)"
   ]
  },
  {
   "cell_type": "code",
   "execution_count": 45,
   "id": "e320df6c",
   "metadata": {},
   "outputs": [],
   "source": [
    "model5 = model5.fit(X_train, y_train)"
   ]
  },
  {
   "cell_type": "code",
   "execution_count": 46,
   "id": "0e5da8bb",
   "metadata": {},
   "outputs": [],
   "source": [
    "y_pred5 = model5.predict(X_test)"
   ]
  },
  {
   "cell_type": "code",
   "execution_count": 47,
   "id": "c44163f1",
   "metadata": {},
   "outputs": [
    {
     "name": "stdout",
     "output_type": "stream",
     "text": [
      "[[910  58]\n",
      " [162  95]]\n"
     ]
    }
   ],
   "source": [
    "matrix5 = confusion_matrix(y_test, y_pred5)\n",
    "print(matrix5)"
   ]
  },
  {
   "cell_type": "code",
   "execution_count": 48,
   "id": "23b43844",
   "metadata": {},
   "outputs": [
    {
     "name": "stdout",
     "output_type": "stream",
     "text": [
      "              precision    recall  f1-score   support\n",
      "\n",
      "           0       0.85      0.94      0.89       968\n",
      "           1       0.62      0.37      0.46       257\n",
      "\n",
      "    accuracy                           0.82      1225\n",
      "   macro avg       0.73      0.65      0.68      1225\n",
      "weighted avg       0.80      0.82      0.80      1225\n",
      "\n"
     ]
    }
   ],
   "source": [
    "report5 = classification_report(y_test, y_pred5)\n",
    "print(report5)"
   ]
  },
  {
   "cell_type": "code",
   "execution_count": 49,
   "id": "5b70cdb0",
   "metadata": {},
   "outputs": [
    {
     "data": {
      "text/plain": [
       "0.8204081632653061"
      ]
     },
     "execution_count": 49,
     "metadata": {},
     "output_type": "execute_result"
    }
   ],
   "source": [
    "accuracy_score(y_test, y_pred5)"
   ]
  },
  {
   "cell_type": "code",
   "execution_count": 50,
   "id": "2f46bbe3",
   "metadata": {},
   "outputs": [
    {
     "data": {
      "text/html": [
       "<div>\n",
       "<style scoped>\n",
       "    .dataframe tbody tr th:only-of-type {\n",
       "        vertical-align: middle;\n",
       "    }\n",
       "\n",
       "    .dataframe tbody tr th {\n",
       "        vertical-align: top;\n",
       "    }\n",
       "\n",
       "    .dataframe thead th {\n",
       "        text-align: right;\n",
       "    }\n",
       "</style>\n",
       "<table border=\"1\" class=\"dataframe\">\n",
       "  <thead>\n",
       "    <tr style=\"text-align: right;\">\n",
       "      <th></th>\n",
       "      <th>feature</th>\n",
       "      <th>importance</th>\n",
       "    </tr>\n",
       "  </thead>\n",
       "  <tbody>\n",
       "    <tr>\n",
       "      <th>10</th>\n",
       "      <td>ph</td>\n",
       "      <td>0.452525</td>\n",
       "    </tr>\n",
       "    <tr>\n",
       "      <th>1</th>\n",
       "      <td>volatile_acidity</td>\n",
       "      <td>0.119206</td>\n",
       "    </tr>\n",
       "    <tr>\n",
       "      <th>7</th>\n",
       "      <td>density</td>\n",
       "      <td>0.083357</td>\n",
       "    </tr>\n",
       "    <tr>\n",
       "      <th>3</th>\n",
       "      <td>residual_sugar</td>\n",
       "      <td>0.079518</td>\n",
       "    </tr>\n",
       "    <tr>\n",
       "      <th>4</th>\n",
       "      <td>chlorides</td>\n",
       "      <td>0.059502</td>\n",
       "    </tr>\n",
       "    <tr>\n",
       "      <th>5</th>\n",
       "      <td>free_sulfur_dioxide</td>\n",
       "      <td>0.057623</td>\n",
       "    </tr>\n",
       "    <tr>\n",
       "      <th>8</th>\n",
       "      <td>sulphates</td>\n",
       "      <td>0.046273</td>\n",
       "    </tr>\n",
       "    <tr>\n",
       "      <th>9</th>\n",
       "      <td>alcohol</td>\n",
       "      <td>0.036663</td>\n",
       "    </tr>\n",
       "    <tr>\n",
       "      <th>2</th>\n",
       "      <td>citric_acid</td>\n",
       "      <td>0.024920</td>\n",
       "    </tr>\n",
       "    <tr>\n",
       "      <th>0</th>\n",
       "      <td>fixed_acidity</td>\n",
       "      <td>0.021688</td>\n",
       "    </tr>\n",
       "    <tr>\n",
       "      <th>6</th>\n",
       "      <td>total_sulfur_dioxide</td>\n",
       "      <td>0.018725</td>\n",
       "    </tr>\n",
       "  </tbody>\n",
       "</table>\n",
       "</div>"
      ],
      "text/plain": [
       "                 feature  importance\n",
       "10                    ph    0.452525\n",
       "1       volatile_acidity    0.119206\n",
       "7                density    0.083357\n",
       "3         residual_sugar    0.079518\n",
       "4              chlorides    0.059502\n",
       "5    free_sulfur_dioxide    0.057623\n",
       "8              sulphates    0.046273\n",
       "9                alcohol    0.036663\n",
       "2            citric_acid    0.024920\n",
       "0          fixed_acidity    0.021688\n",
       "6   total_sulfur_dioxide    0.018725"
      ]
     },
     "execution_count": 50,
     "metadata": {},
     "output_type": "execute_result"
    }
   ],
   "source": [
    "importance = model5.feature_importances_\n",
    "columns = X.columns\n",
    "import_df = pd.DataFrame({'feature':columns, 'importance':importance})\n",
    "import_df = import_df.sort_values([\"importance\"], ascending=False)\n",
    "import_df"
   ]
  },
  {
   "cell_type": "markdown",
   "id": "6e7dae7c",
   "metadata": {},
   "source": [
    "### The next 3 models use oversampling and undersampling because of imbalanced sample sizes."
   ]
  },
  {
   "cell_type": "markdown",
   "id": "dac51f3c",
   "metadata": {},
   "source": [
    "## Random Over Sampling\n",
    "\n",
    "_Benefits_ - Randomly duplicate examples in the minority class. This makes it simple to implement and fast to execute. \n",
    "\n",
    "_Limitations_ - Increase in training time for the classifier and can lead to model overfitting."
   ]
  },
  {
   "cell_type": "code",
   "execution_count": 51,
   "id": "0fcd6f90",
   "metadata": {},
   "outputs": [],
   "source": [
    "ros = RandomOverSampler(random_state=7)"
   ]
  },
  {
   "cell_type": "code",
   "execution_count": 52,
   "id": "20db70e7",
   "metadata": {},
   "outputs": [
    {
     "data": {
      "text/plain": [
       "Counter({1: 803, 0: 2870})"
      ]
     },
     "execution_count": 52,
     "metadata": {},
     "output_type": "execute_result"
    }
   ],
   "source": [
    "Counter(y_train)"
   ]
  },
  {
   "cell_type": "code",
   "execution_count": 53,
   "id": "ae81dd54",
   "metadata": {},
   "outputs": [],
   "source": [
    "X_resampled, y_resampled = ros.fit_resample(X_train, y_train)"
   ]
  },
  {
   "cell_type": "markdown",
   "id": "ba440f85",
   "metadata": {},
   "source": [
    "#### New balanced sample sizes"
   ]
  },
  {
   "cell_type": "code",
   "execution_count": 54,
   "id": "2e7bbdf3",
   "metadata": {},
   "outputs": [
    {
     "data": {
      "text/plain": [
       "Counter({1: 2870, 0: 2870})"
      ]
     },
     "execution_count": 54,
     "metadata": {},
     "output_type": "execute_result"
    }
   ],
   "source": [
    "Counter(y_resampled)"
   ]
  },
  {
   "cell_type": "code",
   "execution_count": 55,
   "id": "75b1c442",
   "metadata": {},
   "outputs": [],
   "source": [
    "# Train the Logistic Regression model using the resampled data\n",
    "model6 = LogisticRegression(solver='lbfgs', random_state=7)"
   ]
  },
  {
   "cell_type": "code",
   "execution_count": 56,
   "id": "51276ed3",
   "metadata": {},
   "outputs": [
    {
     "data": {
      "text/plain": [
       "LogisticRegression(random_state=7)"
      ]
     },
     "execution_count": 56,
     "metadata": {},
     "output_type": "execute_result"
    }
   ],
   "source": [
    "model6.fit(X_resampled, y_resampled)"
   ]
  },
  {
   "cell_type": "code",
   "execution_count": 57,
   "id": "fe5a4cfc",
   "metadata": {},
   "outputs": [],
   "source": [
    "y_pred6 = model6.predict(X_test)"
   ]
  },
  {
   "cell_type": "code",
   "execution_count": 58,
   "id": "c7f68a69",
   "metadata": {},
   "outputs": [
    {
     "name": "stdout",
     "output_type": "stream",
     "text": [
      "0.7058759687429655\n"
     ]
    }
   ],
   "source": [
    "print(balanced_accuracy_score(y_test, y_pred6))"
   ]
  },
  {
   "cell_type": "code",
   "execution_count": 59,
   "id": "6fb771dd",
   "metadata": {},
   "outputs": [
    {
     "data": {
      "text/plain": [
       "array([[666, 302],\n",
       "       [ 71, 186]], dtype=int64)"
      ]
     },
     "execution_count": 59,
     "metadata": {},
     "output_type": "execute_result"
    }
   ],
   "source": [
    "confusion_matrix(y_test, y_pred6)"
   ]
  },
  {
   "cell_type": "code",
   "execution_count": 60,
   "id": "c5c8e15a",
   "metadata": {},
   "outputs": [
    {
     "name": "stdout",
     "output_type": "stream",
     "text": [
      "                   pre       rec       spe        f1       geo       iba       sup\n",
      "\n",
      "          0       0.90      0.69      0.72      0.78      0.71      0.50       968\n",
      "          1       0.38      0.72      0.69      0.50      0.71      0.50       257\n",
      "\n",
      "avg / total       0.79      0.70      0.72      0.72      0.71      0.50      1225\n",
      "\n"
     ]
    }
   ],
   "source": [
    "report6 = classification_report_imbalanced(y_test, y_pred6)\n",
    "print(report6)"
   ]
  },
  {
   "cell_type": "code",
   "execution_count": 61,
   "id": "d09601e5",
   "metadata": {},
   "outputs": [
    {
     "data": {
      "text/html": [
       "<div>\n",
       "<style scoped>\n",
       "    .dataframe tbody tr th:only-of-type {\n",
       "        vertical-align: middle;\n",
       "    }\n",
       "\n",
       "    .dataframe tbody tr th {\n",
       "        vertical-align: top;\n",
       "    }\n",
       "\n",
       "    .dataframe thead th {\n",
       "        text-align: right;\n",
       "    }\n",
       "</style>\n",
       "<table border=\"1\" class=\"dataframe\">\n",
       "  <thead>\n",
       "    <tr style=\"text-align: right;\">\n",
       "      <th></th>\n",
       "      <th>feature</th>\n",
       "      <th>importance</th>\n",
       "    </tr>\n",
       "  </thead>\n",
       "  <tbody>\n",
       "    <tr>\n",
       "      <th>3</th>\n",
       "      <td>residual_sugar</td>\n",
       "      <td>1.382043</td>\n",
       "    </tr>\n",
       "    <tr>\n",
       "      <th>0</th>\n",
       "      <td>fixed_acidity</td>\n",
       "      <td>0.407515</td>\n",
       "    </tr>\n",
       "    <tr>\n",
       "      <th>8</th>\n",
       "      <td>sulphates</td>\n",
       "      <td>0.385578</td>\n",
       "    </tr>\n",
       "    <tr>\n",
       "      <th>10</th>\n",
       "      <td>ph</td>\n",
       "      <td>0.353767</td>\n",
       "    </tr>\n",
       "    <tr>\n",
       "      <th>9</th>\n",
       "      <td>alcohol</td>\n",
       "      <td>0.201358</td>\n",
       "    </tr>\n",
       "    <tr>\n",
       "      <th>5</th>\n",
       "      <td>free_sulfur_dioxide</td>\n",
       "      <td>0.105409</td>\n",
       "    </tr>\n",
       "    <tr>\n",
       "      <th>6</th>\n",
       "      <td>total_sulfur_dioxide</td>\n",
       "      <td>-0.011092</td>\n",
       "    </tr>\n",
       "    <tr>\n",
       "      <th>2</th>\n",
       "      <td>citric_acid</td>\n",
       "      <td>-0.115879</td>\n",
       "    </tr>\n",
       "    <tr>\n",
       "      <th>4</th>\n",
       "      <td>chlorides</td>\n",
       "      <td>-0.185985</td>\n",
       "    </tr>\n",
       "    <tr>\n",
       "      <th>1</th>\n",
       "      <td>volatile_acidity</td>\n",
       "      <td>-0.579207</td>\n",
       "    </tr>\n",
       "    <tr>\n",
       "      <th>7</th>\n",
       "      <td>density</td>\n",
       "      <td>-1.738481</td>\n",
       "    </tr>\n",
       "  </tbody>\n",
       "</table>\n",
       "</div>"
      ],
      "text/plain": [
       "                 feature  importance\n",
       "3         residual_sugar    1.382043\n",
       "0          fixed_acidity    0.407515\n",
       "8              sulphates    0.385578\n",
       "10                    ph    0.353767\n",
       "9                alcohol    0.201358\n",
       "5    free_sulfur_dioxide    0.105409\n",
       "6   total_sulfur_dioxide   -0.011092\n",
       "2            citric_acid   -0.115879\n",
       "4              chlorides   -0.185985\n",
       "1       volatile_acidity   -0.579207\n",
       "7                density   -1.738481"
      ]
     },
     "execution_count": 61,
     "metadata": {},
     "output_type": "execute_result"
    }
   ],
   "source": [
    "importance = model6.coef_[0]\n",
    "columns = X.columns\n",
    "import_df = pd.DataFrame({'feature':columns, 'importance':importance})\n",
    "import_df = import_df.sort_values([\"importance\"], ascending=False)\n",
    "import_df"
   ]
  },
  {
   "cell_type": "markdown",
   "id": "fd424a23",
   "metadata": {},
   "source": [
    "## SMOTE (Synthetic Minority Over-sampling Technique) oversampling\n",
    "\n",
    "_Benefits_ -  Less likely to overfit. Seems to work well with low dimensional data. \n",
    "\n",
    "_Limitations_ - SMOTE does not take into consideration neighboring examples can be from other classes. This can increase the overlapping of classes and can introduce additional noise."
   ]
  },
  {
   "cell_type": "code",
   "execution_count": 62,
   "id": "c7a5e887",
   "metadata": {},
   "outputs": [],
   "source": [
    "X_resampled, y_resampled = SMOTE(random_state=7,sampling_strategy='auto').fit_resample(\n",
    "   X_train, y_train)"
   ]
  },
  {
   "cell_type": "markdown",
   "id": "fa36a1a3",
   "metadata": {},
   "source": [
    "#### New balanced sample sizes"
   ]
  },
  {
   "cell_type": "code",
   "execution_count": 63,
   "id": "6fc1e5df",
   "metadata": {},
   "outputs": [
    {
     "data": {
      "text/plain": [
       "Counter({1: 2870, 0: 2870})"
      ]
     },
     "execution_count": 63,
     "metadata": {},
     "output_type": "execute_result"
    }
   ],
   "source": [
    "Counter(y_resampled)"
   ]
  },
  {
   "cell_type": "code",
   "execution_count": 64,
   "id": "8036801c",
   "metadata": {},
   "outputs": [
    {
     "data": {
      "text/plain": [
       "LogisticRegression(random_state=7)"
      ]
     },
     "execution_count": 64,
     "metadata": {},
     "output_type": "execute_result"
    }
   ],
   "source": [
    "model7 = LogisticRegression(solver='lbfgs', random_state=7)\n",
    "model7.fit(X_resampled, y_resampled)"
   ]
  },
  {
   "cell_type": "code",
   "execution_count": 65,
   "id": "f2d35fa4",
   "metadata": {},
   "outputs": [
    {
     "data": {
      "text/plain": [
       "0.7078214940347943"
      ]
     },
     "execution_count": 65,
     "metadata": {},
     "output_type": "execute_result"
    }
   ],
   "source": [
    "y_pred7 = model7.predict(X_test)\n",
    "balanced_accuracy_score(y_test, y_pred7)"
   ]
  },
  {
   "cell_type": "code",
   "execution_count": 66,
   "id": "f1e99610",
   "metadata": {},
   "outputs": [
    {
     "data": {
      "text/plain": [
       "array([[666, 302],\n",
       "       [ 70, 187]], dtype=int64)"
      ]
     },
     "execution_count": 66,
     "metadata": {},
     "output_type": "execute_result"
    }
   ],
   "source": [
    "confusion_matrix(y_test, y_pred7)"
   ]
  },
  {
   "cell_type": "code",
   "execution_count": 67,
   "id": "39cd9e0f",
   "metadata": {},
   "outputs": [
    {
     "name": "stdout",
     "output_type": "stream",
     "text": [
      "                   pre       rec       spe        f1       geo       iba       sup\n",
      "\n",
      "          0       0.90      0.69      0.73      0.78      0.71      0.50       968\n",
      "          1       0.38      0.73      0.69      0.50      0.71      0.50       257\n",
      "\n",
      "avg / total       0.80      0.70      0.72      0.72      0.71      0.50      1225\n",
      "\n"
     ]
    }
   ],
   "source": [
    "report7 = classification_report_imbalanced(y_test, y_pred7)\n",
    "print(report7)"
   ]
  },
  {
   "cell_type": "code",
   "execution_count": 68,
   "id": "036228d8",
   "metadata": {},
   "outputs": [
    {
     "data": {
      "text/html": [
       "<div>\n",
       "<style scoped>\n",
       "    .dataframe tbody tr th:only-of-type {\n",
       "        vertical-align: middle;\n",
       "    }\n",
       "\n",
       "    .dataframe tbody tr th {\n",
       "        vertical-align: top;\n",
       "    }\n",
       "\n",
       "    .dataframe thead th {\n",
       "        text-align: right;\n",
       "    }\n",
       "</style>\n",
       "<table border=\"1\" class=\"dataframe\">\n",
       "  <thead>\n",
       "    <tr style=\"text-align: right;\">\n",
       "      <th></th>\n",
       "      <th>feature</th>\n",
       "      <th>importance</th>\n",
       "    </tr>\n",
       "  </thead>\n",
       "  <tbody>\n",
       "    <tr>\n",
       "      <th>3</th>\n",
       "      <td>residual_sugar</td>\n",
       "      <td>1.477460</td>\n",
       "    </tr>\n",
       "    <tr>\n",
       "      <th>0</th>\n",
       "      <td>fixed_acidity</td>\n",
       "      <td>0.488070</td>\n",
       "    </tr>\n",
       "    <tr>\n",
       "      <th>8</th>\n",
       "      <td>sulphates</td>\n",
       "      <td>0.432627</td>\n",
       "    </tr>\n",
       "    <tr>\n",
       "      <th>10</th>\n",
       "      <td>ph</td>\n",
       "      <td>0.356701</td>\n",
       "    </tr>\n",
       "    <tr>\n",
       "      <th>9</th>\n",
       "      <td>alcohol</td>\n",
       "      <td>0.229778</td>\n",
       "    </tr>\n",
       "    <tr>\n",
       "      <th>5</th>\n",
       "      <td>free_sulfur_dioxide</td>\n",
       "      <td>0.153623</td>\n",
       "    </tr>\n",
       "    <tr>\n",
       "      <th>6</th>\n",
       "      <td>total_sulfur_dioxide</td>\n",
       "      <td>-0.016238</td>\n",
       "    </tr>\n",
       "    <tr>\n",
       "      <th>4</th>\n",
       "      <td>chlorides</td>\n",
       "      <td>-0.135349</td>\n",
       "    </tr>\n",
       "    <tr>\n",
       "      <th>2</th>\n",
       "      <td>citric_acid</td>\n",
       "      <td>-0.161505</td>\n",
       "    </tr>\n",
       "    <tr>\n",
       "      <th>1</th>\n",
       "      <td>volatile_acidity</td>\n",
       "      <td>-0.611045</td>\n",
       "    </tr>\n",
       "    <tr>\n",
       "      <th>7</th>\n",
       "      <td>density</td>\n",
       "      <td>-1.892227</td>\n",
       "    </tr>\n",
       "  </tbody>\n",
       "</table>\n",
       "</div>"
      ],
      "text/plain": [
       "                 feature  importance\n",
       "3         residual_sugar    1.477460\n",
       "0          fixed_acidity    0.488070\n",
       "8              sulphates    0.432627\n",
       "10                    ph    0.356701\n",
       "9                alcohol    0.229778\n",
       "5    free_sulfur_dioxide    0.153623\n",
       "6   total_sulfur_dioxide   -0.016238\n",
       "4              chlorides   -0.135349\n",
       "2            citric_acid   -0.161505\n",
       "1       volatile_acidity   -0.611045\n",
       "7                density   -1.892227"
      ]
     },
     "execution_count": 68,
     "metadata": {},
     "output_type": "execute_result"
    }
   ],
   "source": [
    "importance = model7.coef_[0]\n",
    "columns = X.columns\n",
    "import_df = pd.DataFrame({'feature':columns, 'importance':importance})\n",
    "import_df = import_df.sort_values([\"importance\"], ascending=False)\n",
    "import_df"
   ]
  },
  {
   "cell_type": "markdown",
   "id": "2f26e624",
   "metadata": {},
   "source": [
    "## Cluster Centroid Undersampling\n",
    "\n",
    "_Benefits_ - Less likely to overfit. \n",
    "\n",
    "_Limitations_ - The result of the analysis may be less accurate."
   ]
  },
  {
   "cell_type": "code",
   "execution_count": 69,
   "id": "d3c2f53b",
   "metadata": {},
   "outputs": [],
   "source": [
    "cc = ClusterCentroids(random_state=7)"
   ]
  },
  {
   "cell_type": "code",
   "execution_count": 70,
   "id": "487b8537",
   "metadata": {},
   "outputs": [],
   "source": [
    "X_resampled, y_resampled = cc.fit_resample(X_train, y_train)"
   ]
  },
  {
   "cell_type": "code",
   "execution_count": 71,
   "id": "79349d0f",
   "metadata": {},
   "outputs": [
    {
     "data": {
      "text/plain": [
       "Counter({0: 803, 1: 803})"
      ]
     },
     "execution_count": 71,
     "metadata": {},
     "output_type": "execute_result"
    }
   ],
   "source": [
    "Counter(y_resampled)"
   ]
  },
  {
   "cell_type": "code",
   "execution_count": 72,
   "id": "629fbfdc",
   "metadata": {},
   "outputs": [
    {
     "data": {
      "text/plain": [
       "LogisticRegression(max_iter=1000, random_state=7)"
      ]
     },
     "execution_count": 72,
     "metadata": {},
     "output_type": "execute_result"
    }
   ],
   "source": [
    "model8 = LogisticRegression(solver='lbfgs', random_state=7, max_iter=1000)\n",
    "model8.fit(X_resampled, y_resampled)"
   ]
  },
  {
   "cell_type": "code",
   "execution_count": 73,
   "id": "ac4fa67b",
   "metadata": {},
   "outputs": [],
   "source": [
    "y_pred8 = model8.predict(X_test)"
   ]
  },
  {
   "cell_type": "code",
   "execution_count": 74,
   "id": "8eb49e81",
   "metadata": {},
   "outputs": [
    {
     "data": {
      "text/plain": [
       "0.7043605492491237"
      ]
     },
     "execution_count": 74,
     "metadata": {},
     "output_type": "execute_result"
    }
   ],
   "source": [
    "balanced_accuracy_score(y_test, y_pred8)"
   ]
  },
  {
   "cell_type": "code",
   "execution_count": 75,
   "id": "169b871f",
   "metadata": {},
   "outputs": [
    {
     "data": {
      "text/plain": [
       "array([[648, 320],\n",
       "       [ 67, 190]], dtype=int64)"
      ]
     },
     "execution_count": 75,
     "metadata": {},
     "output_type": "execute_result"
    }
   ],
   "source": [
    "confusion_matrix(y_test, y_pred8)"
   ]
  },
  {
   "cell_type": "code",
   "execution_count": 76,
   "id": "6e58aff5",
   "metadata": {},
   "outputs": [
    {
     "name": "stdout",
     "output_type": "stream",
     "text": [
      "                   pre       rec       spe        f1       geo       iba       sup\n",
      "\n",
      "          0       0.91      0.67      0.74      0.77      0.70      0.49       968\n",
      "          1       0.37      0.74      0.67      0.50      0.70      0.50       257\n",
      "\n",
      "avg / total       0.79      0.68      0.72      0.71      0.70      0.49      1225\n",
      "\n"
     ]
    }
   ],
   "source": [
    "report8 = classification_report_imbalanced(y_test, y_pred8)\n",
    "print(report8)"
   ]
  },
  {
   "cell_type": "code",
   "execution_count": 77,
   "id": "5c0a32e5",
   "metadata": {},
   "outputs": [
    {
     "data": {
      "text/html": [
       "<div>\n",
       "<style scoped>\n",
       "    .dataframe tbody tr th:only-of-type {\n",
       "        vertical-align: middle;\n",
       "    }\n",
       "\n",
       "    .dataframe tbody tr th {\n",
       "        vertical-align: top;\n",
       "    }\n",
       "\n",
       "    .dataframe thead th {\n",
       "        text-align: right;\n",
       "    }\n",
       "</style>\n",
       "<table border=\"1\" class=\"dataframe\">\n",
       "  <thead>\n",
       "    <tr style=\"text-align: right;\">\n",
       "      <th></th>\n",
       "      <th>feature</th>\n",
       "      <th>importance</th>\n",
       "    </tr>\n",
       "  </thead>\n",
       "  <tbody>\n",
       "    <tr>\n",
       "      <th>3</th>\n",
       "      <td>residual_sugar</td>\n",
       "      <td>1.299026</td>\n",
       "    </tr>\n",
       "    <tr>\n",
       "      <th>8</th>\n",
       "      <td>sulphates</td>\n",
       "      <td>0.380763</td>\n",
       "    </tr>\n",
       "    <tr>\n",
       "      <th>0</th>\n",
       "      <td>fixed_acidity</td>\n",
       "      <td>0.344273</td>\n",
       "    </tr>\n",
       "    <tr>\n",
       "      <th>10</th>\n",
       "      <td>ph</td>\n",
       "      <td>0.231756</td>\n",
       "    </tr>\n",
       "    <tr>\n",
       "      <th>9</th>\n",
       "      <td>alcohol</td>\n",
       "      <td>0.127689</td>\n",
       "    </tr>\n",
       "    <tr>\n",
       "      <th>6</th>\n",
       "      <td>total_sulfur_dioxide</td>\n",
       "      <td>0.029292</td>\n",
       "    </tr>\n",
       "    <tr>\n",
       "      <th>5</th>\n",
       "      <td>free_sulfur_dioxide</td>\n",
       "      <td>0.016349</td>\n",
       "    </tr>\n",
       "    <tr>\n",
       "      <th>2</th>\n",
       "      <td>citric_acid</td>\n",
       "      <td>-0.238692</td>\n",
       "    </tr>\n",
       "    <tr>\n",
       "      <th>4</th>\n",
       "      <td>chlorides</td>\n",
       "      <td>-0.373542</td>\n",
       "    </tr>\n",
       "    <tr>\n",
       "      <th>1</th>\n",
       "      <td>volatile_acidity</td>\n",
       "      <td>-0.693521</td>\n",
       "    </tr>\n",
       "    <tr>\n",
       "      <th>7</th>\n",
       "      <td>density</td>\n",
       "      <td>-1.703520</td>\n",
       "    </tr>\n",
       "  </tbody>\n",
       "</table>\n",
       "</div>"
      ],
      "text/plain": [
       "                 feature  importance\n",
       "3         residual_sugar    1.299026\n",
       "8              sulphates    0.380763\n",
       "0          fixed_acidity    0.344273\n",
       "10                    ph    0.231756\n",
       "9                alcohol    0.127689\n",
       "6   total_sulfur_dioxide    0.029292\n",
       "5    free_sulfur_dioxide    0.016349\n",
       "2            citric_acid   -0.238692\n",
       "4              chlorides   -0.373542\n",
       "1       volatile_acidity   -0.693521\n",
       "7                density   -1.703520"
      ]
     },
     "execution_count": 77,
     "metadata": {},
     "output_type": "execute_result"
    }
   ],
   "source": [
    "importance = model8.coef_[0]\n",
    "columns = X.columns\n",
    "import_df = pd.DataFrame({'feature':columns, 'importance':importance})\n",
    "import_df = import_df.sort_values([\"importance\"], ascending=False)\n",
    "import_df"
   ]
  },
  {
   "cell_type": "markdown",
   "id": "a73762b6",
   "metadata": {},
   "source": [
    "##  Balanced Random Forest Classifier\n",
    "_Benefits_ - It reduces overfitting problem in decision trees and also reduces the variance and therefore improves the accuracy. \n",
    "\n",
    "_Limitations_ -  Requires much more computational power and resources. Longer Training Period."
   ]
  },
  {
   "cell_type": "code",
   "execution_count": 78,
   "id": "939a1c2b",
   "metadata": {},
   "outputs": [],
   "source": [
    "brf_model = BalancedRandomForestClassifier(n_estimators=100, random_state=7) "
   ]
  },
  {
   "cell_type": "code",
   "execution_count": 79,
   "id": "a2a58d51",
   "metadata": {},
   "outputs": [],
   "source": [
    "model9 = brf_model.fit(X_train, y_train)"
   ]
  },
  {
   "cell_type": "code",
   "execution_count": 80,
   "id": "8d436130",
   "metadata": {},
   "outputs": [],
   "source": [
    "y_pred9 = model9.predict(X_test)"
   ]
  },
  {
   "cell_type": "code",
   "execution_count": 81,
   "id": "b33b1ad1",
   "metadata": {},
   "outputs": [
    {
     "data": {
      "text/plain": [
       "0.820336366852108"
      ]
     },
     "execution_count": 81,
     "metadata": {},
     "output_type": "execute_result"
    }
   ],
   "source": [
    "balanced_accuracy_score(y_test, y_pred9)"
   ]
  },
  {
   "cell_type": "code",
   "execution_count": 82,
   "id": "70c80396",
   "metadata": {},
   "outputs": [
    {
     "data": {
      "text/plain": [
       "array([[752, 216],\n",
       "       [ 35, 222]], dtype=int64)"
      ]
     },
     "execution_count": 82,
     "metadata": {},
     "output_type": "execute_result"
    }
   ],
   "source": [
    "confusion_matrix(y_test, y_pred9)"
   ]
  },
  {
   "cell_type": "code",
   "execution_count": 83,
   "id": "6214d928",
   "metadata": {},
   "outputs": [
    {
     "name": "stdout",
     "output_type": "stream",
     "text": [
      "                   pre       rec       spe        f1       geo       iba       sup\n",
      "\n",
      "          0       0.96      0.78      0.86      0.86      0.82      0.67       968\n",
      "          1       0.51      0.86      0.78      0.64      0.82      0.68       257\n",
      "\n",
      "avg / total       0.86      0.80      0.85      0.81      0.82      0.67      1225\n",
      "\n"
     ]
    }
   ],
   "source": [
    "report9 = classification_report_imbalanced(y_test, y_pred9)\n",
    "print(report9)"
   ]
  },
  {
   "cell_type": "code",
   "execution_count": 84,
   "id": "87102fdc",
   "metadata": {},
   "outputs": [
    {
     "data": {
      "text/html": [
       "<div>\n",
       "<style scoped>\n",
       "    .dataframe tbody tr th:only-of-type {\n",
       "        vertical-align: middle;\n",
       "    }\n",
       "\n",
       "    .dataframe tbody tr th {\n",
       "        vertical-align: top;\n",
       "    }\n",
       "\n",
       "    .dataframe thead th {\n",
       "        text-align: right;\n",
       "    }\n",
       "</style>\n",
       "<table border=\"1\" class=\"dataframe\">\n",
       "  <thead>\n",
       "    <tr style=\"text-align: right;\">\n",
       "      <th></th>\n",
       "      <th>feature</th>\n",
       "      <th>importance</th>\n",
       "    </tr>\n",
       "  </thead>\n",
       "  <tbody>\n",
       "    <tr>\n",
       "      <th>10</th>\n",
       "      <td>ph</td>\n",
       "      <td>0.181254</td>\n",
       "    </tr>\n",
       "    <tr>\n",
       "      <th>7</th>\n",
       "      <td>density</td>\n",
       "      <td>0.126584</td>\n",
       "    </tr>\n",
       "    <tr>\n",
       "      <th>4</th>\n",
       "      <td>chlorides</td>\n",
       "      <td>0.093288</td>\n",
       "    </tr>\n",
       "    <tr>\n",
       "      <th>1</th>\n",
       "      <td>volatile_acidity</td>\n",
       "      <td>0.090231</td>\n",
       "    </tr>\n",
       "    <tr>\n",
       "      <th>3</th>\n",
       "      <td>residual_sugar</td>\n",
       "      <td>0.086026</td>\n",
       "    </tr>\n",
       "    <tr>\n",
       "      <th>6</th>\n",
       "      <td>total_sulfur_dioxide</td>\n",
       "      <td>0.080263</td>\n",
       "    </tr>\n",
       "    <tr>\n",
       "      <th>5</th>\n",
       "      <td>free_sulfur_dioxide</td>\n",
       "      <td>0.078395</td>\n",
       "    </tr>\n",
       "    <tr>\n",
       "      <th>8</th>\n",
       "      <td>sulphates</td>\n",
       "      <td>0.074226</td>\n",
       "    </tr>\n",
       "    <tr>\n",
       "      <th>2</th>\n",
       "      <td>citric_acid</td>\n",
       "      <td>0.066329</td>\n",
       "    </tr>\n",
       "    <tr>\n",
       "      <th>0</th>\n",
       "      <td>fixed_acidity</td>\n",
       "      <td>0.064320</td>\n",
       "    </tr>\n",
       "    <tr>\n",
       "      <th>9</th>\n",
       "      <td>alcohol</td>\n",
       "      <td>0.059083</td>\n",
       "    </tr>\n",
       "  </tbody>\n",
       "</table>\n",
       "</div>"
      ],
      "text/plain": [
       "                 feature  importance\n",
       "10                    ph    0.181254\n",
       "7                density    0.126584\n",
       "4              chlorides    0.093288\n",
       "1       volatile_acidity    0.090231\n",
       "3         residual_sugar    0.086026\n",
       "6   total_sulfur_dioxide    0.080263\n",
       "5    free_sulfur_dioxide    0.078395\n",
       "8              sulphates    0.074226\n",
       "2            citric_acid    0.066329\n",
       "0          fixed_acidity    0.064320\n",
       "9                alcohol    0.059083"
      ]
     },
     "execution_count": 84,
     "metadata": {},
     "output_type": "execute_result"
    }
   ],
   "source": [
    "importance = model9.feature_importances_\n",
    "columns = X.columns\n",
    "import_df = pd.DataFrame({'feature':columns, 'importance':importance})\n",
    "import_df = import_df.sort_values([\"importance\"], ascending=False)\n",
    "import_df"
   ]
  },
  {
   "cell_type": "markdown",
   "id": "25fd681b",
   "metadata": {},
   "source": [
    "## Easy Ensemble AdaBoost \n",
    "_Benefits_ - Fast, simple, and easy to program. Also, it has the flexibility to be combined with any machine learning algorithm. \n",
    "\n",
    "_Limitations_ - Weak classifiers can lead to overfitting."
   ]
  },
  {
   "cell_type": "code",
   "execution_count": 85,
   "id": "40904d56",
   "metadata": {},
   "outputs": [],
   "source": [
    "eec_model = EasyEnsembleClassifier(n_estimators=100, random_state=7)"
   ]
  },
  {
   "cell_type": "code",
   "execution_count": 86,
   "id": "fcde6078",
   "metadata": {},
   "outputs": [],
   "source": [
    "model10 = eec_model.fit(X_train, y_train)"
   ]
  },
  {
   "cell_type": "code",
   "execution_count": 87,
   "id": "68003394",
   "metadata": {},
   "outputs": [],
   "source": [
    "y_pred10 = model10.predict(X_test)"
   ]
  },
  {
   "cell_type": "code",
   "execution_count": 88,
   "id": "a60ad0e7",
   "metadata": {},
   "outputs": [
    {
     "data": {
      "text/plain": [
       "0.7774825545872592"
      ]
     },
     "execution_count": 88,
     "metadata": {},
     "output_type": "execute_result"
    }
   ],
   "source": [
    "balanced_accuracy_score(y_test, y_pred10)"
   ]
  },
  {
   "cell_type": "code",
   "execution_count": 89,
   "id": "8617bb4c",
   "metadata": {},
   "outputs": [
    {
     "data": {
      "text/plain": [
       "array([[718, 250],\n",
       "       [ 48, 209]], dtype=int64)"
      ]
     },
     "execution_count": 89,
     "metadata": {},
     "output_type": "execute_result"
    }
   ],
   "source": [
    "confusion_matrix(y_test, y_pred10)"
   ]
  },
  {
   "cell_type": "code",
   "execution_count": 90,
   "id": "72fa5ce0",
   "metadata": {},
   "outputs": [
    {
     "name": "stdout",
     "output_type": "stream",
     "text": [
      "                   pre       rec       spe        f1       geo       iba       sup\n",
      "\n",
      "          0       0.94      0.74      0.81      0.83      0.78      0.60       968\n",
      "          1       0.46      0.81      0.74      0.58      0.78      0.61       257\n",
      "\n",
      "avg / total       0.84      0.76      0.80      0.78      0.78      0.60      1225\n",
      "\n"
     ]
    }
   ],
   "source": [
    "report10 = classification_report_imbalanced(y_test, y_pred10)\n",
    "print(report10)"
   ]
  },
  {
   "cell_type": "markdown",
   "id": "54776f75",
   "metadata": {},
   "source": [
    "#### Attempt a cool graphic of the decision tree model but a little too complicated\n",
    "##### Takes a while to run-Try it on Desicions Tree classifier"
   ]
  },
  {
   "cell_type": "code",
   "execution_count": null,
   "id": "8dd1adaf",
   "metadata": {},
   "outputs": [],
   "source": [
    "import matplotlib.pyplot as plt\n",
    "fn=['ph', 'sulphates', 'alcohol', 'fixed_acidity', 'volatile_acidity', 'free_sulfur_dioxide', 'citric_acid', 'residual_sugar', 'density', \n",
    "'total_sulfur_dioxide', 'chlorides']\n",
    "cn=['Good','Not good']\n",
    "fig, axes = plt.subplots(nrows = 1,ncols = 1,figsize = (6,6), dpi=900)\n",
    "\n",
    "tree.plot_tree(model3,\n",
    "               feature_names = fn, \n",
    "               class_names=cn,\n",
    "               filled = True);\n",
    "fig.savefig('Whitemodel3Tree.png')"
   ]
  },
  {
   "cell_type": "markdown",
   "id": "59d14f30",
   "metadata": {},
   "source": [
    "#### Combine all the model outputs for visualization into Tableau"
   ]
  },
  {
   "cell_type": "code",
   "execution_count": 106,
   "id": "1b34cbbc",
   "metadata": {},
   "outputs": [
    {
     "name": "stdout",
     "output_type": "stream",
     "text": [
      "{'0': {'precision': 0.8304466727438469, 'recall': 0.9411157024793388, 'f1-score': 0.8823244552058112, 'support': 968}, '1': {'precision': 0.5546875, 'recall': 0.27626459143968873, 'f1-score': 0.36883116883116884, 'support': 257}, 'accuracy': 0.8016326530612244, 'macro avg': {'precision': 0.6925670863719234, 'recall': 0.6086901469595138, 'f1-score': 0.62557781201849, 'support': 1225}, 'weighted avg': {'precision': 0.7725935238498317, 'recall': 0.8016326530612244, 'f1-score': 0.774595659615376, 'support': 1225}}\n"
     ]
    }
   ],
   "source": [
    "reportout1 = classification_report(y_test, y_pred1, output_dict=True)\n",
    "print(reportout1)"
   ]
  },
  {
   "cell_type": "code",
   "execution_count": 107,
   "id": "821cca43",
   "metadata": {},
   "outputs": [
    {
     "data": {
      "text/html": [
       "<div>\n",
       "<style scoped>\n",
       "    .dataframe tbody tr th:only-of-type {\n",
       "        vertical-align: middle;\n",
       "    }\n",
       "\n",
       "    .dataframe tbody tr th {\n",
       "        vertical-align: top;\n",
       "    }\n",
       "\n",
       "    .dataframe thead th {\n",
       "        text-align: right;\n",
       "    }\n",
       "</style>\n",
       "<table border=\"1\" class=\"dataframe\">\n",
       "  <thead>\n",
       "    <tr style=\"text-align: right;\">\n",
       "      <th></th>\n",
       "      <th>precision</th>\n",
       "      <th>recall</th>\n",
       "      <th>f1-score</th>\n",
       "      <th>support</th>\n",
       "    </tr>\n",
       "  </thead>\n",
       "  <tbody>\n",
       "    <tr>\n",
       "      <th>0</th>\n",
       "      <td>0.830447</td>\n",
       "      <td>0.941116</td>\n",
       "      <td>0.882324</td>\n",
       "      <td>968.000000</td>\n",
       "    </tr>\n",
       "    <tr>\n",
       "      <th>1</th>\n",
       "      <td>0.554688</td>\n",
       "      <td>0.276265</td>\n",
       "      <td>0.368831</td>\n",
       "      <td>257.000000</td>\n",
       "    </tr>\n",
       "    <tr>\n",
       "      <th>accuracy</th>\n",
       "      <td>0.801633</td>\n",
       "      <td>0.801633</td>\n",
       "      <td>0.801633</td>\n",
       "      <td>0.801633</td>\n",
       "    </tr>\n",
       "    <tr>\n",
       "      <th>macro avg</th>\n",
       "      <td>0.692567</td>\n",
       "      <td>0.608690</td>\n",
       "      <td>0.625578</td>\n",
       "      <td>1225.000000</td>\n",
       "    </tr>\n",
       "    <tr>\n",
       "      <th>weighted avg</th>\n",
       "      <td>0.772594</td>\n",
       "      <td>0.801633</td>\n",
       "      <td>0.774596</td>\n",
       "      <td>1225.000000</td>\n",
       "    </tr>\n",
       "  </tbody>\n",
       "</table>\n",
       "</div>"
      ],
      "text/plain": [
       "              precision    recall  f1-score      support\n",
       "0              0.830447  0.941116  0.882324   968.000000\n",
       "1              0.554688  0.276265  0.368831   257.000000\n",
       "accuracy       0.801633  0.801633  0.801633     0.801633\n",
       "macro avg      0.692567  0.608690  0.625578  1225.000000\n",
       "weighted avg   0.772594  0.801633  0.774596  1225.000000"
      ]
     },
     "execution_count": 107,
     "metadata": {},
     "output_type": "execute_result"
    }
   ],
   "source": [
    "df_out1 = pd.DataFrame(reportout1).transpose()\n",
    "df_out1"
   ]
  },
  {
   "cell_type": "markdown",
   "id": "8a2fe29b",
   "metadata": {},
   "source": [
    "#### Append all the model output matrices"
   ]
  },
  {
   "cell_type": "code",
   "execution_count": 94,
   "id": "023667ba",
   "metadata": {},
   "outputs": [],
   "source": [
    "reportout1  = classification_report(y_test, y_pred1 , output_dict=True)\n",
    "reportout2  = classification_report(y_test, y_pred2 , output_dict=True)\n",
    "reportout3  = classification_report(y_test, y_pred3 , output_dict=True)\n",
    "reportout4  = classification_report(y_test, y_pred4 , output_dict=True)\n",
    "reportout5  = classification_report(y_test, y_pred5 , output_dict=True)\n",
    "reportout6  = classification_report(y_test, y_pred6 , output_dict=True)\n",
    "reportout7  = classification_report(y_test, y_pred7 , output_dict=True)\n",
    "reportout8  = classification_report(y_test, y_pred8 , output_dict=True)\n",
    "reportout9  = classification_report(y_test, y_pred9 , output_dict=True)\n",
    "reportout10 = classification_report(y_test, y_pred10, output_dict=True)"
   ]
  },
  {
   "cell_type": "code",
   "execution_count": 95,
   "id": "d8b9e6d3",
   "metadata": {},
   "outputs": [],
   "source": [
    "df_out1  = pd.DataFrame(reportout1).transpose()\n",
    "df_out2  = pd.DataFrame(reportout2).transpose()\n",
    "df_out3  = pd.DataFrame(reportout3).transpose()\n",
    "df_out4  = pd.DataFrame(reportout4).transpose()\n",
    "df_out5  = pd.DataFrame(reportout5).transpose()\n",
    "df_out6  = pd.DataFrame(reportout6).transpose()\n",
    "df_out7  = pd.DataFrame(reportout7).transpose()\n",
    "df_out8  = pd.DataFrame(reportout8).transpose()\n",
    "df_out9  = pd.DataFrame(reportout9).transpose()\n",
    "df_out10 = pd.DataFrame(reportout10).transpose()"
   ]
  },
  {
   "cell_type": "markdown",
   "id": "307d6aab",
   "metadata": {},
   "source": [
    "#### Pick out the results for prediciting Good-1"
   ]
  },
  {
   "cell_type": "code",
   "execution_count": 96,
   "id": "45beddac",
   "metadata": {},
   "outputs": [
    {
     "data": {
      "text/html": [
       "<div>\n",
       "<style scoped>\n",
       "    .dataframe tbody tr th:only-of-type {\n",
       "        vertical-align: middle;\n",
       "    }\n",
       "\n",
       "    .dataframe tbody tr th {\n",
       "        vertical-align: top;\n",
       "    }\n",
       "\n",
       "    .dataframe thead th {\n",
       "        text-align: right;\n",
       "    }\n",
       "</style>\n",
       "<table border=\"1\" class=\"dataframe\">\n",
       "  <thead>\n",
       "    <tr style=\"text-align: right;\">\n",
       "      <th></th>\n",
       "      <th>precision</th>\n",
       "      <th>recall</th>\n",
       "      <th>f1-score</th>\n",
       "      <th>support</th>\n",
       "    </tr>\n",
       "  </thead>\n",
       "  <tbody>\n",
       "    <tr>\n",
       "      <th>1</th>\n",
       "      <td>0.554688</td>\n",
       "      <td>0.276265</td>\n",
       "      <td>0.368831</td>\n",
       "      <td>257.000000</td>\n",
       "    </tr>\n",
       "    <tr>\n",
       "      <th>accuracy</th>\n",
       "      <td>0.801633</td>\n",
       "      <td>0.801633</td>\n",
       "      <td>0.801633</td>\n",
       "      <td>0.801633</td>\n",
       "    </tr>\n",
       "  </tbody>\n",
       "</table>\n",
       "</div>"
      ],
      "text/plain": [
       "          precision    recall  f1-score     support\n",
       "1          0.554688  0.276265  0.368831  257.000000\n",
       "accuracy   0.801633  0.801633  0.801633    0.801633"
      ]
     },
     "execution_count": 96,
     "metadata": {},
     "output_type": "execute_result"
    }
   ],
   "source": [
    "df_out1= df_out1[1:3]\n",
    "df_out1"
   ]
  },
  {
   "cell_type": "code",
   "execution_count": 97,
   "id": "a9973bc9",
   "metadata": {},
   "outputs": [],
   "source": [
    "# df_out2"
   ]
  },
  {
   "cell_type": "code",
   "execution_count": 98,
   "id": "a4c98de2",
   "metadata": {},
   "outputs": [],
   "source": [
    "df_out2 = df_out2[1:3]\n",
    "df_out3 = df_out3[1:3]\n",
    "df_out4 = df_out4[1:3]\n",
    "df_out5 = df_out5[1:3]\n",
    "df_out6 = df_out6[1:3]\n",
    "df_out7 = df_out7[1:3]\n",
    "df_out8 = df_out8[1:3]\n",
    "df_out9 = df_out9[1:3]\n",
    "df_out10= df_out10[1:3]"
   ]
  },
  {
   "cell_type": "code",
   "execution_count": 99,
   "id": "ce546d1f",
   "metadata": {},
   "outputs": [],
   "source": [
    "# df_out9"
   ]
  },
  {
   "cell_type": "markdown",
   "id": "6c995832",
   "metadata": {},
   "source": [
    "#### Append all results"
   ]
  },
  {
   "cell_type": "code",
   "execution_count": 100,
   "id": "cc13c894",
   "metadata": {},
   "outputs": [
    {
     "data": {
      "text/html": [
       "<div>\n",
       "<style scoped>\n",
       "    .dataframe tbody tr th:only-of-type {\n",
       "        vertical-align: middle;\n",
       "    }\n",
       "\n",
       "    .dataframe tbody tr th {\n",
       "        vertical-align: top;\n",
       "    }\n",
       "\n",
       "    .dataframe thead th {\n",
       "        text-align: right;\n",
       "    }\n",
       "</style>\n",
       "<table border=\"1\" class=\"dataframe\">\n",
       "  <thead>\n",
       "    <tr style=\"text-align: right;\">\n",
       "      <th></th>\n",
       "      <th>precision</th>\n",
       "      <th>recall</th>\n",
       "      <th>f1-score</th>\n",
       "    </tr>\n",
       "  </thead>\n",
       "  <tbody>\n",
       "    <tr>\n",
       "      <th>1</th>\n",
       "      <td>0.554688</td>\n",
       "      <td>0.276265</td>\n",
       "      <td>0.368831</td>\n",
       "    </tr>\n",
       "    <tr>\n",
       "      <th>accuracy</th>\n",
       "      <td>0.801633</td>\n",
       "      <td>0.801633</td>\n",
       "      <td>0.801633</td>\n",
       "    </tr>\n",
       "    <tr>\n",
       "      <th>1</th>\n",
       "      <td>0.718750</td>\n",
       "      <td>0.357977</td>\n",
       "      <td>0.477922</td>\n",
       "    </tr>\n",
       "    <tr>\n",
       "      <th>accuracy</th>\n",
       "      <td>0.835918</td>\n",
       "      <td>0.835918</td>\n",
       "      <td>0.835918</td>\n",
       "    </tr>\n",
       "    <tr>\n",
       "      <th>1</th>\n",
       "      <td>0.582143</td>\n",
       "      <td>0.634241</td>\n",
       "      <td>0.607076</td>\n",
       "    </tr>\n",
       "    <tr>\n",
       "      <th>accuracy</th>\n",
       "      <td>0.827755</td>\n",
       "      <td>0.827755</td>\n",
       "      <td>0.827755</td>\n",
       "    </tr>\n",
       "    <tr>\n",
       "      <th>1</th>\n",
       "      <td>0.773196</td>\n",
       "      <td>0.583658</td>\n",
       "      <td>0.665188</td>\n",
       "    </tr>\n",
       "    <tr>\n",
       "      <th>accuracy</th>\n",
       "      <td>0.876735</td>\n",
       "      <td>0.876735</td>\n",
       "      <td>0.876735</td>\n",
       "    </tr>\n",
       "    <tr>\n",
       "      <th>1</th>\n",
       "      <td>0.620915</td>\n",
       "      <td>0.369650</td>\n",
       "      <td>0.463415</td>\n",
       "    </tr>\n",
       "    <tr>\n",
       "      <th>accuracy</th>\n",
       "      <td>0.820408</td>\n",
       "      <td>0.820408</td>\n",
       "      <td>0.820408</td>\n",
       "    </tr>\n",
       "    <tr>\n",
       "      <th>1</th>\n",
       "      <td>0.381148</td>\n",
       "      <td>0.723735</td>\n",
       "      <td>0.499329</td>\n",
       "    </tr>\n",
       "    <tr>\n",
       "      <th>accuracy</th>\n",
       "      <td>0.695510</td>\n",
       "      <td>0.695510</td>\n",
       "      <td>0.695510</td>\n",
       "    </tr>\n",
       "    <tr>\n",
       "      <th>1</th>\n",
       "      <td>0.382413</td>\n",
       "      <td>0.727626</td>\n",
       "      <td>0.501340</td>\n",
       "    </tr>\n",
       "    <tr>\n",
       "      <th>accuracy</th>\n",
       "      <td>0.696327</td>\n",
       "      <td>0.696327</td>\n",
       "      <td>0.696327</td>\n",
       "    </tr>\n",
       "    <tr>\n",
       "      <th>1</th>\n",
       "      <td>0.372549</td>\n",
       "      <td>0.739300</td>\n",
       "      <td>0.495437</td>\n",
       "    </tr>\n",
       "    <tr>\n",
       "      <th>accuracy</th>\n",
       "      <td>0.684082</td>\n",
       "      <td>0.684082</td>\n",
       "      <td>0.684082</td>\n",
       "    </tr>\n",
       "    <tr>\n",
       "      <th>1</th>\n",
       "      <td>0.506849</td>\n",
       "      <td>0.863813</td>\n",
       "      <td>0.638849</td>\n",
       "    </tr>\n",
       "    <tr>\n",
       "      <th>accuracy</th>\n",
       "      <td>0.795102</td>\n",
       "      <td>0.795102</td>\n",
       "      <td>0.795102</td>\n",
       "    </tr>\n",
       "    <tr>\n",
       "      <th>1</th>\n",
       "      <td>0.455338</td>\n",
       "      <td>0.813230</td>\n",
       "      <td>0.583799</td>\n",
       "    </tr>\n",
       "    <tr>\n",
       "      <th>accuracy</th>\n",
       "      <td>0.756735</td>\n",
       "      <td>0.756735</td>\n",
       "      <td>0.756735</td>\n",
       "    </tr>\n",
       "  </tbody>\n",
       "</table>\n",
       "</div>"
      ],
      "text/plain": [
       "          precision    recall  f1-score\n",
       "1          0.554688  0.276265  0.368831\n",
       "accuracy   0.801633  0.801633  0.801633\n",
       "1          0.718750  0.357977  0.477922\n",
       "accuracy   0.835918  0.835918  0.835918\n",
       "1          0.582143  0.634241  0.607076\n",
       "accuracy   0.827755  0.827755  0.827755\n",
       "1          0.773196  0.583658  0.665188\n",
       "accuracy   0.876735  0.876735  0.876735\n",
       "1          0.620915  0.369650  0.463415\n",
       "accuracy   0.820408  0.820408  0.820408\n",
       "1          0.381148  0.723735  0.499329\n",
       "accuracy   0.695510  0.695510  0.695510\n",
       "1          0.382413  0.727626  0.501340\n",
       "accuracy   0.696327  0.696327  0.696327\n",
       "1          0.372549  0.739300  0.495437\n",
       "accuracy   0.684082  0.684082  0.684082\n",
       "1          0.506849  0.863813  0.638849\n",
       "accuracy   0.795102  0.795102  0.795102\n",
       "1          0.455338  0.813230  0.583799\n",
       "accuracy   0.756735  0.756735  0.756735"
      ]
     },
     "execution_count": 100,
     "metadata": {},
     "output_type": "execute_result"
    }
   ],
   "source": [
    "output_df = df_out1.append([df_out2, df_out3, df_out4, df_out5, df_out6, df_out7, df_out8, df_out9, df_out10])\n",
    "output_df.drop(columns=\"support\", axis=1, inplace=True)\n",
    "output_df"
   ]
  },
  {
   "cell_type": "markdown",
   "id": "32b157b0",
   "metadata": {},
   "source": [
    "#### Final layout: columns\n",
    "- 0 - Precision\n",
    "- 1 - Recall\n",
    "- 2 - F1 score\n",
    "- 3 - Accuracy"
   ]
  },
  {
   "cell_type": "markdown",
   "id": "a3e8144a",
   "metadata": {},
   "source": [
    "#### Move accuracy row for each model to the end of the previous row (StackOverflow source of code)\n",
    "##### https://stackoverflow.com/questions/57763470/pandas-get-second-row-and-put-it-at-the-end-of-first-row-and-automatically-cre"
   ]
  },
  {
   "cell_type": "code",
   "execution_count": 101,
   "id": "551de26a",
   "metadata": {},
   "outputs": [
    {
     "data": {
      "text/html": [
       "<div>\n",
       "<style scoped>\n",
       "    .dataframe tbody tr th:only-of-type {\n",
       "        vertical-align: middle;\n",
       "    }\n",
       "\n",
       "    .dataframe tbody tr th {\n",
       "        vertical-align: top;\n",
       "    }\n",
       "\n",
       "    .dataframe thead th {\n",
       "        text-align: right;\n",
       "    }\n",
       "</style>\n",
       "<table border=\"1\" class=\"dataframe\">\n",
       "  <thead>\n",
       "    <tr style=\"text-align: right;\">\n",
       "      <th></th>\n",
       "      <th>0</th>\n",
       "      <th>1</th>\n",
       "      <th>2</th>\n",
       "      <th>3</th>\n",
       "      <th>4</th>\n",
       "      <th>5</th>\n",
       "    </tr>\n",
       "  </thead>\n",
       "  <tbody>\n",
       "    <tr>\n",
       "      <th>0</th>\n",
       "      <td>0.554688</td>\n",
       "      <td>0.276265</td>\n",
       "      <td>0.368831</td>\n",
       "      <td>0.801633</td>\n",
       "      <td>0.801633</td>\n",
       "      <td>0.801633</td>\n",
       "    </tr>\n",
       "    <tr>\n",
       "      <th>1</th>\n",
       "      <td>0.718750</td>\n",
       "      <td>0.357977</td>\n",
       "      <td>0.477922</td>\n",
       "      <td>0.835918</td>\n",
       "      <td>0.835918</td>\n",
       "      <td>0.835918</td>\n",
       "    </tr>\n",
       "    <tr>\n",
       "      <th>2</th>\n",
       "      <td>0.582143</td>\n",
       "      <td>0.634241</td>\n",
       "      <td>0.607076</td>\n",
       "      <td>0.827755</td>\n",
       "      <td>0.827755</td>\n",
       "      <td>0.827755</td>\n",
       "    </tr>\n",
       "    <tr>\n",
       "      <th>3</th>\n",
       "      <td>0.773196</td>\n",
       "      <td>0.583658</td>\n",
       "      <td>0.665188</td>\n",
       "      <td>0.876735</td>\n",
       "      <td>0.876735</td>\n",
       "      <td>0.876735</td>\n",
       "    </tr>\n",
       "    <tr>\n",
       "      <th>4</th>\n",
       "      <td>0.620915</td>\n",
       "      <td>0.369650</td>\n",
       "      <td>0.463415</td>\n",
       "      <td>0.820408</td>\n",
       "      <td>0.820408</td>\n",
       "      <td>0.820408</td>\n",
       "    </tr>\n",
       "    <tr>\n",
       "      <th>5</th>\n",
       "      <td>0.381148</td>\n",
       "      <td>0.723735</td>\n",
       "      <td>0.499329</td>\n",
       "      <td>0.695510</td>\n",
       "      <td>0.695510</td>\n",
       "      <td>0.695510</td>\n",
       "    </tr>\n",
       "    <tr>\n",
       "      <th>6</th>\n",
       "      <td>0.382413</td>\n",
       "      <td>0.727626</td>\n",
       "      <td>0.501340</td>\n",
       "      <td>0.696327</td>\n",
       "      <td>0.696327</td>\n",
       "      <td>0.696327</td>\n",
       "    </tr>\n",
       "    <tr>\n",
       "      <th>7</th>\n",
       "      <td>0.372549</td>\n",
       "      <td>0.739300</td>\n",
       "      <td>0.495437</td>\n",
       "      <td>0.684082</td>\n",
       "      <td>0.684082</td>\n",
       "      <td>0.684082</td>\n",
       "    </tr>\n",
       "    <tr>\n",
       "      <th>8</th>\n",
       "      <td>0.506849</td>\n",
       "      <td>0.863813</td>\n",
       "      <td>0.638849</td>\n",
       "      <td>0.795102</td>\n",
       "      <td>0.795102</td>\n",
       "      <td>0.795102</td>\n",
       "    </tr>\n",
       "    <tr>\n",
       "      <th>9</th>\n",
       "      <td>0.455338</td>\n",
       "      <td>0.813230</td>\n",
       "      <td>0.583799</td>\n",
       "      <td>0.756735</td>\n",
       "      <td>0.756735</td>\n",
       "      <td>0.756735</td>\n",
       "    </tr>\n",
       "  </tbody>\n",
       "</table>\n",
       "</div>"
      ],
      "text/plain": [
       "          0         1         2         3         4         5\n",
       "0  0.554688  0.276265  0.368831  0.801633  0.801633  0.801633\n",
       "1  0.718750  0.357977  0.477922  0.835918  0.835918  0.835918\n",
       "2  0.582143  0.634241  0.607076  0.827755  0.827755  0.827755\n",
       "3  0.773196  0.583658  0.665188  0.876735  0.876735  0.876735\n",
       "4  0.620915  0.369650  0.463415  0.820408  0.820408  0.820408\n",
       "5  0.381148  0.723735  0.499329  0.695510  0.695510  0.695510\n",
       "6  0.382413  0.727626  0.501340  0.696327  0.696327  0.696327\n",
       "7  0.372549  0.739300  0.495437  0.684082  0.684082  0.684082\n",
       "8  0.506849  0.863813  0.638849  0.795102  0.795102  0.795102\n",
       "9  0.455338  0.813230  0.583799  0.756735  0.756735  0.756735"
      ]
     },
     "execution_count": 101,
     "metadata": {},
     "output_type": "execute_result"
    }
   ],
   "source": [
    "output_df = pd.DataFrame([y.values.ravel() for x , y in output_df.groupby(np.arange(len(output_df))//2)])\n",
    "output_df"
   ]
  },
  {
   "cell_type": "code",
   "execution_count": 102,
   "id": "5c894e66",
   "metadata": {},
   "outputs": [
    {
     "data": {
      "text/html": [
       "<div>\n",
       "<style scoped>\n",
       "    .dataframe tbody tr th:only-of-type {\n",
       "        vertical-align: middle;\n",
       "    }\n",
       "\n",
       "    .dataframe tbody tr th {\n",
       "        vertical-align: top;\n",
       "    }\n",
       "\n",
       "    .dataframe thead th {\n",
       "        text-align: right;\n",
       "    }\n",
       "</style>\n",
       "<table border=\"1\" class=\"dataframe\">\n",
       "  <thead>\n",
       "    <tr style=\"text-align: right;\">\n",
       "      <th></th>\n",
       "      <th>0</th>\n",
       "      <th>1</th>\n",
       "      <th>2</th>\n",
       "      <th>3</th>\n",
       "    </tr>\n",
       "  </thead>\n",
       "  <tbody>\n",
       "    <tr>\n",
       "      <th>0</th>\n",
       "      <td>0.554688</td>\n",
       "      <td>0.276265</td>\n",
       "      <td>0.368831</td>\n",
       "      <td>0.801633</td>\n",
       "    </tr>\n",
       "    <tr>\n",
       "      <th>1</th>\n",
       "      <td>0.718750</td>\n",
       "      <td>0.357977</td>\n",
       "      <td>0.477922</td>\n",
       "      <td>0.835918</td>\n",
       "    </tr>\n",
       "    <tr>\n",
       "      <th>2</th>\n",
       "      <td>0.582143</td>\n",
       "      <td>0.634241</td>\n",
       "      <td>0.607076</td>\n",
       "      <td>0.827755</td>\n",
       "    </tr>\n",
       "    <tr>\n",
       "      <th>3</th>\n",
       "      <td>0.773196</td>\n",
       "      <td>0.583658</td>\n",
       "      <td>0.665188</td>\n",
       "      <td>0.876735</td>\n",
       "    </tr>\n",
       "    <tr>\n",
       "      <th>4</th>\n",
       "      <td>0.620915</td>\n",
       "      <td>0.369650</td>\n",
       "      <td>0.463415</td>\n",
       "      <td>0.820408</td>\n",
       "    </tr>\n",
       "    <tr>\n",
       "      <th>5</th>\n",
       "      <td>0.381148</td>\n",
       "      <td>0.723735</td>\n",
       "      <td>0.499329</td>\n",
       "      <td>0.695510</td>\n",
       "    </tr>\n",
       "    <tr>\n",
       "      <th>6</th>\n",
       "      <td>0.382413</td>\n",
       "      <td>0.727626</td>\n",
       "      <td>0.501340</td>\n",
       "      <td>0.696327</td>\n",
       "    </tr>\n",
       "    <tr>\n",
       "      <th>7</th>\n",
       "      <td>0.372549</td>\n",
       "      <td>0.739300</td>\n",
       "      <td>0.495437</td>\n",
       "      <td>0.684082</td>\n",
       "    </tr>\n",
       "    <tr>\n",
       "      <th>8</th>\n",
       "      <td>0.506849</td>\n",
       "      <td>0.863813</td>\n",
       "      <td>0.638849</td>\n",
       "      <td>0.795102</td>\n",
       "    </tr>\n",
       "    <tr>\n",
       "      <th>9</th>\n",
       "      <td>0.455338</td>\n",
       "      <td>0.813230</td>\n",
       "      <td>0.583799</td>\n",
       "      <td>0.756735</td>\n",
       "    </tr>\n",
       "  </tbody>\n",
       "</table>\n",
       "</div>"
      ],
      "text/plain": [
       "          0         1         2         3\n",
       "0  0.554688  0.276265  0.368831  0.801633\n",
       "1  0.718750  0.357977  0.477922  0.835918\n",
       "2  0.582143  0.634241  0.607076  0.827755\n",
       "3  0.773196  0.583658  0.665188  0.876735\n",
       "4  0.620915  0.369650  0.463415  0.820408\n",
       "5  0.381148  0.723735  0.499329  0.695510\n",
       "6  0.382413  0.727626  0.501340  0.696327\n",
       "7  0.372549  0.739300  0.495437  0.684082\n",
       "8  0.506849  0.863813  0.638849  0.795102\n",
       "9  0.455338  0.813230  0.583799  0.756735"
      ]
     },
     "execution_count": 102,
     "metadata": {},
     "output_type": "execute_result"
    }
   ],
   "source": [
    "shorter_df = output_df.drop(output_df.columns[4:6], axis=1)\n",
    "shorter_df"
   ]
  },
  {
   "cell_type": "code",
   "execution_count": 103,
   "id": "382bbe44",
   "metadata": {},
   "outputs": [
    {
     "data": {
      "text/html": [
       "<div>\n",
       "<style scoped>\n",
       "    .dataframe tbody tr th:only-of-type {\n",
       "        vertical-align: middle;\n",
       "    }\n",
       "\n",
       "    .dataframe tbody tr th {\n",
       "        vertical-align: top;\n",
       "    }\n",
       "\n",
       "    .dataframe thead th {\n",
       "        text-align: right;\n",
       "    }\n",
       "</style>\n",
       "<table border=\"1\" class=\"dataframe\">\n",
       "  <thead>\n",
       "    <tr style=\"text-align: right;\">\n",
       "      <th></th>\n",
       "      <th>Precision</th>\n",
       "      <th>Recall</th>\n",
       "      <th>F1</th>\n",
       "      <th>Accuracy</th>\n",
       "    </tr>\n",
       "  </thead>\n",
       "  <tbody>\n",
       "    <tr>\n",
       "      <th>0</th>\n",
       "      <td>0.554688</td>\n",
       "      <td>0.276265</td>\n",
       "      <td>0.368831</td>\n",
       "      <td>0.801633</td>\n",
       "    </tr>\n",
       "    <tr>\n",
       "      <th>1</th>\n",
       "      <td>0.718750</td>\n",
       "      <td>0.357977</td>\n",
       "      <td>0.477922</td>\n",
       "      <td>0.835918</td>\n",
       "    </tr>\n",
       "    <tr>\n",
       "      <th>2</th>\n",
       "      <td>0.582143</td>\n",
       "      <td>0.634241</td>\n",
       "      <td>0.607076</td>\n",
       "      <td>0.827755</td>\n",
       "    </tr>\n",
       "    <tr>\n",
       "      <th>3</th>\n",
       "      <td>0.773196</td>\n",
       "      <td>0.583658</td>\n",
       "      <td>0.665188</td>\n",
       "      <td>0.876735</td>\n",
       "    </tr>\n",
       "    <tr>\n",
       "      <th>4</th>\n",
       "      <td>0.620915</td>\n",
       "      <td>0.369650</td>\n",
       "      <td>0.463415</td>\n",
       "      <td>0.820408</td>\n",
       "    </tr>\n",
       "    <tr>\n",
       "      <th>5</th>\n",
       "      <td>0.381148</td>\n",
       "      <td>0.723735</td>\n",
       "      <td>0.499329</td>\n",
       "      <td>0.695510</td>\n",
       "    </tr>\n",
       "    <tr>\n",
       "      <th>6</th>\n",
       "      <td>0.382413</td>\n",
       "      <td>0.727626</td>\n",
       "      <td>0.501340</td>\n",
       "      <td>0.696327</td>\n",
       "    </tr>\n",
       "    <tr>\n",
       "      <th>7</th>\n",
       "      <td>0.372549</td>\n",
       "      <td>0.739300</td>\n",
       "      <td>0.495437</td>\n",
       "      <td>0.684082</td>\n",
       "    </tr>\n",
       "    <tr>\n",
       "      <th>8</th>\n",
       "      <td>0.506849</td>\n",
       "      <td>0.863813</td>\n",
       "      <td>0.638849</td>\n",
       "      <td>0.795102</td>\n",
       "    </tr>\n",
       "    <tr>\n",
       "      <th>9</th>\n",
       "      <td>0.455338</td>\n",
       "      <td>0.813230</td>\n",
       "      <td>0.583799</td>\n",
       "      <td>0.756735</td>\n",
       "    </tr>\n",
       "  </tbody>\n",
       "</table>\n",
       "</div>"
      ],
      "text/plain": [
       "   Precision    Recall        F1  Accuracy\n",
       "0   0.554688  0.276265  0.368831  0.801633\n",
       "1   0.718750  0.357977  0.477922  0.835918\n",
       "2   0.582143  0.634241  0.607076  0.827755\n",
       "3   0.773196  0.583658  0.665188  0.876735\n",
       "4   0.620915  0.369650  0.463415  0.820408\n",
       "5   0.381148  0.723735  0.499329  0.695510\n",
       "6   0.382413  0.727626  0.501340  0.696327\n",
       "7   0.372549  0.739300  0.495437  0.684082\n",
       "8   0.506849  0.863813  0.638849  0.795102\n",
       "9   0.455338  0.813230  0.583799  0.756735"
      ]
     },
     "execution_count": 103,
     "metadata": {},
     "output_type": "execute_result"
    }
   ],
   "source": [
    "shorter_df = shorter_df.rename({0: 'Precision', 1: 'Recall', 2: 'F1', 3: 'Accuracy'}, axis=1)\n",
    "shorter_df\n",
    "\n",
    "# axis 1-columns 0-rows"
   ]
  },
  {
   "cell_type": "code",
   "execution_count": 104,
   "id": "ff5820e2",
   "metadata": {},
   "outputs": [
    {
     "data": {
      "text/html": [
       "<div>\n",
       "<style scoped>\n",
       "    .dataframe tbody tr th:only-of-type {\n",
       "        vertical-align: middle;\n",
       "    }\n",
       "\n",
       "    .dataframe tbody tr th {\n",
       "        vertical-align: top;\n",
       "    }\n",
       "\n",
       "    .dataframe thead th {\n",
       "        text-align: right;\n",
       "    }\n",
       "</style>\n",
       "<table border=\"1\" class=\"dataframe\">\n",
       "  <thead>\n",
       "    <tr style=\"text-align: right;\">\n",
       "      <th></th>\n",
       "      <th>Precision</th>\n",
       "      <th>Recall</th>\n",
       "      <th>F1</th>\n",
       "      <th>Accuracy</th>\n",
       "    </tr>\n",
       "  </thead>\n",
       "  <tbody>\n",
       "    <tr>\n",
       "      <th>Model 1: Logistic</th>\n",
       "      <td>0.554688</td>\n",
       "      <td>0.276265</td>\n",
       "      <td>0.368831</td>\n",
       "      <td>0.801633</td>\n",
       "    </tr>\n",
       "    <tr>\n",
       "      <th>Model 2: SVM</th>\n",
       "      <td>0.718750</td>\n",
       "      <td>0.357977</td>\n",
       "      <td>0.477922</td>\n",
       "      <td>0.835918</td>\n",
       "    </tr>\n",
       "    <tr>\n",
       "      <th>Model 3: Decision Tree</th>\n",
       "      <td>0.582143</td>\n",
       "      <td>0.634241</td>\n",
       "      <td>0.607076</td>\n",
       "      <td>0.827755</td>\n",
       "    </tr>\n",
       "    <tr>\n",
       "      <th>Model 4: Random Forest</th>\n",
       "      <td>0.773196</td>\n",
       "      <td>0.583658</td>\n",
       "      <td>0.665188</td>\n",
       "      <td>0.876735</td>\n",
       "    </tr>\n",
       "    <tr>\n",
       "      <th>Model 5: Gradient Boosted Tree</th>\n",
       "      <td>0.620915</td>\n",
       "      <td>0.369650</td>\n",
       "      <td>0.463415</td>\n",
       "      <td>0.820408</td>\n",
       "    </tr>\n",
       "    <tr>\n",
       "      <th>Model 6: Logisitic-ROS</th>\n",
       "      <td>0.381148</td>\n",
       "      <td>0.723735</td>\n",
       "      <td>0.499329</td>\n",
       "      <td>0.695510</td>\n",
       "    </tr>\n",
       "    <tr>\n",
       "      <th>Model 7: Logistic-SMOTE</th>\n",
       "      <td>0.382413</td>\n",
       "      <td>0.727626</td>\n",
       "      <td>0.501340</td>\n",
       "      <td>0.696327</td>\n",
       "    </tr>\n",
       "    <tr>\n",
       "      <th>Model 8: Logistic-Cluster centroid US</th>\n",
       "      <td>0.372549</td>\n",
       "      <td>0.739300</td>\n",
       "      <td>0.495437</td>\n",
       "      <td>0.684082</td>\n",
       "    </tr>\n",
       "    <tr>\n",
       "      <th>Model 9: Balanced Random Forest Classifier</th>\n",
       "      <td>0.506849</td>\n",
       "      <td>0.863813</td>\n",
       "      <td>0.638849</td>\n",
       "      <td>0.795102</td>\n",
       "    </tr>\n",
       "    <tr>\n",
       "      <th>Model 10: Easy Ensemble Ada Boost Classifier</th>\n",
       "      <td>0.455338</td>\n",
       "      <td>0.813230</td>\n",
       "      <td>0.583799</td>\n",
       "      <td>0.756735</td>\n",
       "    </tr>\n",
       "  </tbody>\n",
       "</table>\n",
       "</div>"
      ],
      "text/plain": [
       "                                              Precision    Recall        F1  \\\n",
       "Model 1: Logistic                              0.554688  0.276265  0.368831   \n",
       "Model 2: SVM                                   0.718750  0.357977  0.477922   \n",
       "Model 3: Decision Tree                         0.582143  0.634241  0.607076   \n",
       "Model 4: Random Forest                         0.773196  0.583658  0.665188   \n",
       "Model 5: Gradient Boosted Tree                 0.620915  0.369650  0.463415   \n",
       "Model 6: Logisitic-ROS                         0.381148  0.723735  0.499329   \n",
       "Model 7: Logistic-SMOTE                        0.382413  0.727626  0.501340   \n",
       "Model 8: Logistic-Cluster centroid US          0.372549  0.739300  0.495437   \n",
       "Model 9: Balanced Random Forest Classifier     0.506849  0.863813  0.638849   \n",
       "Model 10: Easy Ensemble Ada Boost Classifier   0.455338  0.813230  0.583799   \n",
       "\n",
       "                                              Accuracy  \n",
       "Model 1: Logistic                             0.801633  \n",
       "Model 2: SVM                                  0.835918  \n",
       "Model 3: Decision Tree                        0.827755  \n",
       "Model 4: Random Forest                        0.876735  \n",
       "Model 5: Gradient Boosted Tree                0.820408  \n",
       "Model 6: Logisitic-ROS                        0.695510  \n",
       "Model 7: Logistic-SMOTE                       0.696327  \n",
       "Model 8: Logistic-Cluster centroid US         0.684082  \n",
       "Model 9: Balanced Random Forest Classifier    0.795102  \n",
       "Model 10: Easy Ensemble Ada Boost Classifier  0.756735  "
      ]
     },
     "execution_count": 104,
     "metadata": {},
     "output_type": "execute_result"
    }
   ],
   "source": [
    "shorter_df = shorter_df.rename({0: 'Model 1: Logistic', 1: 'Model 2: SVM', 2: 'Model 3: Decision Tree', \n",
    "                                3: 'Model 4: Random Forest', 4: 'Model 5: Gradient Boosted Tree', \n",
    "                                5: 'Model 6: Logisitic-ROS', 6: 'Model 7: Logistic-SMOTE', \n",
    "                                7: 'Model 8: Logistic-Cluster centroid US', 8: 'Model 9: Balanced Random Forest Classifier', \n",
    "                                9: 'Model 10: Easy Ensemble Ada Boost Classifier', \n",
    "                               }\n",
    "                               , axis=0)\n",
    "shorter_df\n"
   ]
  },
  {
   "cell_type": "code",
   "execution_count": 105,
   "id": "ed706f45",
   "metadata": {},
   "outputs": [],
   "source": [
    "shorter_df.to_csv('df_white.csv')"
   ]
  },
  {
   "cell_type": "code",
   "execution_count": null,
   "id": "fb741e1c",
   "metadata": {},
   "outputs": [],
   "source": []
  }
 ],
 "metadata": {
  "kernelspec": {
   "display_name": "Python 3",
   "language": "python",
   "name": "python3"
  },
  "language_info": {
   "codemirror_mode": {
    "name": "ipython",
    "version": 3
   },
   "file_extension": ".py",
   "mimetype": "text/x-python",
   "name": "python",
   "nbconvert_exporter": "python",
   "pygments_lexer": "ipython3",
   "version": "3.7.10"
  }
 },
 "nbformat": 4,
 "nbformat_minor": 5
}
