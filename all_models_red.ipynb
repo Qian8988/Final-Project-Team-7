{
 "cells": [
  {
   "cell_type": "markdown",
   "id": "ef15357d",
   "metadata": {},
   "source": [
    "### Analysis of Red wine data"
   ]
  },
  {
   "cell_type": "code",
   "execution_count": 94,
   "id": "5290e2f7",
   "metadata": {},
   "outputs": [],
   "source": [
    "from path import Path\n",
    "import pandas as pd\n",
    "import numpy as np\n",
    "import matplotlib.pyplot as plt\n",
    "import seaborn as sns\n",
    "import plotly.express as px\n",
    "from sklearn.model_selection import train_test_split\n",
    "from pathlib import Path\n",
    "from collections import Counter\n",
    "from sklearn.preprocessing import StandardScaler\n",
    "from sklearn.linear_model import LogisticRegression\n",
    "from sklearn.metrics import confusion_matrix, classification_report, accuracy_score\n",
    "from sklearn.svm import SVC\n",
    "from sklearn import tree\n",
    "from sklearn.ensemble import RandomForestClassifier\n",
    "from sklearn.ensemble import GradientBoostingClassifier\n",
    "from imblearn.over_sampling import RandomOverSampler\n",
    "from sklearn.metrics import balanced_accuracy_score\n",
    "from imblearn.metrics import classification_report_imbalanced\n",
    "from imblearn.over_sampling import SMOTE\n",
    "from imblearn.combine import SMOTEENN\n",
    "from imblearn.under_sampling import ClusterCentroids\n",
    "from imblearn.ensemble import BalancedRandomForestClassifier\n",
    "from imblearn.ensemble import EasyEnsembleClassifier"
   ]
  },
  {
   "cell_type": "code",
   "execution_count": 95,
   "id": "9f43573e",
   "metadata": {},
   "outputs": [
    {
     "data": {
      "text/html": [
       "<div>\n",
       "<style scoped>\n",
       "    .dataframe tbody tr th:only-of-type {\n",
       "        vertical-align: middle;\n",
       "    }\n",
       "\n",
       "    .dataframe tbody tr th {\n",
       "        vertical-align: top;\n",
       "    }\n",
       "\n",
       "    .dataframe thead th {\n",
       "        text-align: right;\n",
       "    }\n",
       "</style>\n",
       "<table border=\"1\" class=\"dataframe\">\n",
       "  <thead>\n",
       "    <tr style=\"text-align: right;\">\n",
       "      <th></th>\n",
       "      <th>fixed_acidity</th>\n",
       "      <th>volatile_acidity</th>\n",
       "      <th>citric_acid</th>\n",
       "      <th>residual_sugar</th>\n",
       "      <th>chlorides</th>\n",
       "      <th>free_sulfur_dioxide</th>\n",
       "      <th>total_sulfur_dioxide</th>\n",
       "      <th>density</th>\n",
       "      <th>sulphates</th>\n",
       "      <th>alcohol</th>\n",
       "      <th>ph</th>\n",
       "      <th>quality</th>\n",
       "      <th>id</th>\n",
       "      <th>color</th>\n",
       "    </tr>\n",
       "  </thead>\n",
       "  <tbody>\n",
       "    <tr>\n",
       "      <th>0</th>\n",
       "      <td>7.4</td>\n",
       "      <td>0.70</td>\n",
       "      <td>0.00</td>\n",
       "      <td>1.9</td>\n",
       "      <td>0.076</td>\n",
       "      <td>11.0</td>\n",
       "      <td>34.0</td>\n",
       "      <td>0.9978</td>\n",
       "      <td>3.51</td>\n",
       "      <td>0.56</td>\n",
       "      <td>9.4</td>\n",
       "      <td>5</td>\n",
       "      <td>1</td>\n",
       "      <td>red</td>\n",
       "    </tr>\n",
       "    <tr>\n",
       "      <th>1</th>\n",
       "      <td>7.8</td>\n",
       "      <td>0.88</td>\n",
       "      <td>0.00</td>\n",
       "      <td>2.6</td>\n",
       "      <td>0.098</td>\n",
       "      <td>25.0</td>\n",
       "      <td>67.0</td>\n",
       "      <td>0.9968</td>\n",
       "      <td>3.20</td>\n",
       "      <td>0.68</td>\n",
       "      <td>9.8</td>\n",
       "      <td>5</td>\n",
       "      <td>2</td>\n",
       "      <td>red</td>\n",
       "    </tr>\n",
       "    <tr>\n",
       "      <th>2</th>\n",
       "      <td>7.8</td>\n",
       "      <td>0.76</td>\n",
       "      <td>0.04</td>\n",
       "      <td>2.3</td>\n",
       "      <td>0.092</td>\n",
       "      <td>15.0</td>\n",
       "      <td>54.0</td>\n",
       "      <td>0.9970</td>\n",
       "      <td>3.26</td>\n",
       "      <td>0.65</td>\n",
       "      <td>9.8</td>\n",
       "      <td>5</td>\n",
       "      <td>3</td>\n",
       "      <td>red</td>\n",
       "    </tr>\n",
       "    <tr>\n",
       "      <th>3</th>\n",
       "      <td>11.2</td>\n",
       "      <td>0.28</td>\n",
       "      <td>0.56</td>\n",
       "      <td>1.9</td>\n",
       "      <td>0.075</td>\n",
       "      <td>17.0</td>\n",
       "      <td>60.0</td>\n",
       "      <td>0.9980</td>\n",
       "      <td>3.16</td>\n",
       "      <td>0.58</td>\n",
       "      <td>9.8</td>\n",
       "      <td>6</td>\n",
       "      <td>4</td>\n",
       "      <td>red</td>\n",
       "    </tr>\n",
       "    <tr>\n",
       "      <th>4</th>\n",
       "      <td>7.4</td>\n",
       "      <td>0.70</td>\n",
       "      <td>0.00</td>\n",
       "      <td>1.9</td>\n",
       "      <td>0.076</td>\n",
       "      <td>11.0</td>\n",
       "      <td>34.0</td>\n",
       "      <td>0.9978</td>\n",
       "      <td>3.51</td>\n",
       "      <td>0.56</td>\n",
       "      <td>9.4</td>\n",
       "      <td>5</td>\n",
       "      <td>5</td>\n",
       "      <td>red</td>\n",
       "    </tr>\n",
       "  </tbody>\n",
       "</table>\n",
       "</div>"
      ],
      "text/plain": [
       "   fixed_acidity  volatile_acidity  citric_acid  residual_sugar  chlorides  \\\n",
       "0            7.4              0.70         0.00             1.9      0.076   \n",
       "1            7.8              0.88         0.00             2.6      0.098   \n",
       "2            7.8              0.76         0.04             2.3      0.092   \n",
       "3           11.2              0.28         0.56             1.9      0.075   \n",
       "4            7.4              0.70         0.00             1.9      0.076   \n",
       "\n",
       "   free_sulfur_dioxide  total_sulfur_dioxide  density  sulphates  alcohol  \\\n",
       "0                 11.0                  34.0   0.9978       3.51     0.56   \n",
       "1                 25.0                  67.0   0.9968       3.20     0.68   \n",
       "2                 15.0                  54.0   0.9970       3.26     0.65   \n",
       "3                 17.0                  60.0   0.9980       3.16     0.58   \n",
       "4                 11.0                  34.0   0.9978       3.51     0.56   \n",
       "\n",
       "    ph  quality  id color  \n",
       "0  9.4        5   1   red  \n",
       "1  9.8        5   2   red  \n",
       "2  9.8        5   3   red  \n",
       "3  9.8        6   4   red  \n",
       "4  9.4        5   5   red  "
      ]
     },
     "execution_count": 95,
     "metadata": {},
     "output_type": "execute_result"
    }
   ],
   "source": [
    "red_data = Path('all_wines.csv')\n",
    "red_df = pd.read_csv(red_data)\n",
    "red_df.head()"
   ]
  },
  {
   "cell_type": "markdown",
   "id": "bdd9ec38",
   "metadata": {},
   "source": [
    "#### Filter to red wines only"
   ]
  },
  {
   "cell_type": "code",
   "execution_count": 96,
   "id": "3237ae81",
   "metadata": {},
   "outputs": [
    {
     "data": {
      "text/plain": [
       "(1599, 14)"
      ]
     },
     "execution_count": 96,
     "metadata": {},
     "output_type": "execute_result"
    }
   ],
   "source": [
    "red_df = red_df[red_df[\"color\"] == \"red\"]\n",
    "red_df.shape"
   ]
  },
  {
   "cell_type": "code",
   "execution_count": 97,
   "id": "0fdfe88e",
   "metadata": {},
   "outputs": [
    {
     "name": "stdout",
     "output_type": "stream",
     "text": [
      "fixed_acidity           0\n",
      "volatile_acidity        0\n",
      "citric_acid             0\n",
      "residual_sugar          0\n",
      "chlorides               0\n",
      "free_sulfur_dioxide     0\n",
      "total_sulfur_dioxide    0\n",
      "density                 0\n",
      "sulphates               0\n",
      "alcohol                 0\n",
      "ph                      0\n",
      "quality                 0\n",
      "id                      0\n",
      "color                   0\n",
      "dtype: int64\n"
     ]
    }
   ],
   "source": [
    "# Missing Values\n",
    "print(red_df.isna().sum())"
   ]
  },
  {
   "cell_type": "code",
   "execution_count": 98,
   "id": "8c8fab84",
   "metadata": {},
   "outputs": [
    {
     "data": {
      "text/html": [
       "<div>\n",
       "<style scoped>\n",
       "    .dataframe tbody tr th:only-of-type {\n",
       "        vertical-align: middle;\n",
       "    }\n",
       "\n",
       "    .dataframe tbody tr th {\n",
       "        vertical-align: top;\n",
       "    }\n",
       "\n",
       "    .dataframe thead th {\n",
       "        text-align: right;\n",
       "    }\n",
       "</style>\n",
       "<table border=\"1\" class=\"dataframe\">\n",
       "  <thead>\n",
       "    <tr style=\"text-align: right;\">\n",
       "      <th></th>\n",
       "      <th>fixed_acidity</th>\n",
       "      <th>volatile_acidity</th>\n",
       "      <th>citric_acid</th>\n",
       "      <th>residual_sugar</th>\n",
       "      <th>chlorides</th>\n",
       "      <th>free_sulfur_dioxide</th>\n",
       "      <th>total_sulfur_dioxide</th>\n",
       "      <th>density</th>\n",
       "      <th>sulphates</th>\n",
       "      <th>alcohol</th>\n",
       "      <th>ph</th>\n",
       "      <th>quality</th>\n",
       "      <th>id</th>\n",
       "    </tr>\n",
       "  </thead>\n",
       "  <tbody>\n",
       "    <tr>\n",
       "      <th>count</th>\n",
       "      <td>1599.000000</td>\n",
       "      <td>1599.000000</td>\n",
       "      <td>1599.000000</td>\n",
       "      <td>1599.000000</td>\n",
       "      <td>1599.000000</td>\n",
       "      <td>1599.000000</td>\n",
       "      <td>1599.000000</td>\n",
       "      <td>1599.000000</td>\n",
       "      <td>1599.000000</td>\n",
       "      <td>1599.000000</td>\n",
       "      <td>1599.000000</td>\n",
       "      <td>1599.000000</td>\n",
       "      <td>1599.000000</td>\n",
       "    </tr>\n",
       "    <tr>\n",
       "      <th>mean</th>\n",
       "      <td>8.319637</td>\n",
       "      <td>0.527821</td>\n",
       "      <td>0.270976</td>\n",
       "      <td>2.538806</td>\n",
       "      <td>0.087467</td>\n",
       "      <td>15.874922</td>\n",
       "      <td>46.467792</td>\n",
       "      <td>0.996747</td>\n",
       "      <td>3.311113</td>\n",
       "      <td>0.658149</td>\n",
       "      <td>10.422983</td>\n",
       "      <td>5.636023</td>\n",
       "      <td>800.000000</td>\n",
       "    </tr>\n",
       "    <tr>\n",
       "      <th>std</th>\n",
       "      <td>1.741096</td>\n",
       "      <td>0.179060</td>\n",
       "      <td>0.194801</td>\n",
       "      <td>1.409928</td>\n",
       "      <td>0.047065</td>\n",
       "      <td>10.460157</td>\n",
       "      <td>32.895324</td>\n",
       "      <td>0.001887</td>\n",
       "      <td>0.154386</td>\n",
       "      <td>0.169507</td>\n",
       "      <td>1.065668</td>\n",
       "      <td>0.807569</td>\n",
       "      <td>461.735855</td>\n",
       "    </tr>\n",
       "    <tr>\n",
       "      <th>min</th>\n",
       "      <td>4.600000</td>\n",
       "      <td>0.120000</td>\n",
       "      <td>0.000000</td>\n",
       "      <td>0.900000</td>\n",
       "      <td>0.012000</td>\n",
       "      <td>1.000000</td>\n",
       "      <td>6.000000</td>\n",
       "      <td>0.990070</td>\n",
       "      <td>2.740000</td>\n",
       "      <td>0.330000</td>\n",
       "      <td>8.400000</td>\n",
       "      <td>3.000000</td>\n",
       "      <td>1.000000</td>\n",
       "    </tr>\n",
       "    <tr>\n",
       "      <th>25%</th>\n",
       "      <td>7.100000</td>\n",
       "      <td>0.390000</td>\n",
       "      <td>0.090000</td>\n",
       "      <td>1.900000</td>\n",
       "      <td>0.070000</td>\n",
       "      <td>7.000000</td>\n",
       "      <td>22.000000</td>\n",
       "      <td>0.995600</td>\n",
       "      <td>3.210000</td>\n",
       "      <td>0.550000</td>\n",
       "      <td>9.500000</td>\n",
       "      <td>5.000000</td>\n",
       "      <td>400.500000</td>\n",
       "    </tr>\n",
       "    <tr>\n",
       "      <th>50%</th>\n",
       "      <td>7.900000</td>\n",
       "      <td>0.520000</td>\n",
       "      <td>0.260000</td>\n",
       "      <td>2.200000</td>\n",
       "      <td>0.079000</td>\n",
       "      <td>14.000000</td>\n",
       "      <td>38.000000</td>\n",
       "      <td>0.996750</td>\n",
       "      <td>3.310000</td>\n",
       "      <td>0.620000</td>\n",
       "      <td>10.200000</td>\n",
       "      <td>6.000000</td>\n",
       "      <td>800.000000</td>\n",
       "    </tr>\n",
       "    <tr>\n",
       "      <th>75%</th>\n",
       "      <td>9.200000</td>\n",
       "      <td>0.640000</td>\n",
       "      <td>0.420000</td>\n",
       "      <td>2.600000</td>\n",
       "      <td>0.090000</td>\n",
       "      <td>21.000000</td>\n",
       "      <td>62.000000</td>\n",
       "      <td>0.997835</td>\n",
       "      <td>3.400000</td>\n",
       "      <td>0.730000</td>\n",
       "      <td>11.100000</td>\n",
       "      <td>6.000000</td>\n",
       "      <td>1199.500000</td>\n",
       "    </tr>\n",
       "    <tr>\n",
       "      <th>max</th>\n",
       "      <td>15.900000</td>\n",
       "      <td>1.580000</td>\n",
       "      <td>1.000000</td>\n",
       "      <td>15.500000</td>\n",
       "      <td>0.611000</td>\n",
       "      <td>72.000000</td>\n",
       "      <td>289.000000</td>\n",
       "      <td>1.003690</td>\n",
       "      <td>4.010000</td>\n",
       "      <td>2.000000</td>\n",
       "      <td>14.900000</td>\n",
       "      <td>8.000000</td>\n",
       "      <td>1599.000000</td>\n",
       "    </tr>\n",
       "  </tbody>\n",
       "</table>\n",
       "</div>"
      ],
      "text/plain": [
       "       fixed_acidity  volatile_acidity  citric_acid  residual_sugar  \\\n",
       "count    1599.000000       1599.000000  1599.000000     1599.000000   \n",
       "mean        8.319637          0.527821     0.270976        2.538806   \n",
       "std         1.741096          0.179060     0.194801        1.409928   \n",
       "min         4.600000          0.120000     0.000000        0.900000   \n",
       "25%         7.100000          0.390000     0.090000        1.900000   \n",
       "50%         7.900000          0.520000     0.260000        2.200000   \n",
       "75%         9.200000          0.640000     0.420000        2.600000   \n",
       "max        15.900000          1.580000     1.000000       15.500000   \n",
       "\n",
       "         chlorides  free_sulfur_dioxide  total_sulfur_dioxide      density  \\\n",
       "count  1599.000000          1599.000000           1599.000000  1599.000000   \n",
       "mean      0.087467            15.874922             46.467792     0.996747   \n",
       "std       0.047065            10.460157             32.895324     0.001887   \n",
       "min       0.012000             1.000000              6.000000     0.990070   \n",
       "25%       0.070000             7.000000             22.000000     0.995600   \n",
       "50%       0.079000            14.000000             38.000000     0.996750   \n",
       "75%       0.090000            21.000000             62.000000     0.997835   \n",
       "max       0.611000            72.000000            289.000000     1.003690   \n",
       "\n",
       "         sulphates      alcohol           ph      quality           id  \n",
       "count  1599.000000  1599.000000  1599.000000  1599.000000  1599.000000  \n",
       "mean      3.311113     0.658149    10.422983     5.636023   800.000000  \n",
       "std       0.154386     0.169507     1.065668     0.807569   461.735855  \n",
       "min       2.740000     0.330000     8.400000     3.000000     1.000000  \n",
       "25%       3.210000     0.550000     9.500000     5.000000   400.500000  \n",
       "50%       3.310000     0.620000    10.200000     6.000000   800.000000  \n",
       "75%       3.400000     0.730000    11.100000     6.000000  1199.500000  \n",
       "max       4.010000     2.000000    14.900000     8.000000  1599.000000  "
      ]
     },
     "execution_count": 98,
     "metadata": {},
     "output_type": "execute_result"
    }
   ],
   "source": [
    "red_df.describe()"
   ]
  },
  {
   "cell_type": "code",
   "execution_count": 99,
   "id": "8c0589b7",
   "metadata": {},
   "outputs": [
    {
     "data": {
      "text/html": [
       "<div>\n",
       "<style scoped>\n",
       "    .dataframe tbody tr th:only-of-type {\n",
       "        vertical-align: middle;\n",
       "    }\n",
       "\n",
       "    .dataframe tbody tr th {\n",
       "        vertical-align: top;\n",
       "    }\n",
       "\n",
       "    .dataframe thead th {\n",
       "        text-align: right;\n",
       "    }\n",
       "</style>\n",
       "<table border=\"1\" class=\"dataframe\">\n",
       "  <thead>\n",
       "    <tr style=\"text-align: right;\">\n",
       "      <th></th>\n",
       "      <th>fixed_acidity</th>\n",
       "      <th>volatile_acidity</th>\n",
       "      <th>citric_acid</th>\n",
       "      <th>residual_sugar</th>\n",
       "      <th>chlorides</th>\n",
       "      <th>free_sulfur_dioxide</th>\n",
       "      <th>total_sulfur_dioxide</th>\n",
       "      <th>density</th>\n",
       "      <th>sulphates</th>\n",
       "      <th>alcohol</th>\n",
       "      <th>ph</th>\n",
       "      <th>quality</th>\n",
       "      <th>id</th>\n",
       "    </tr>\n",
       "  </thead>\n",
       "  <tbody>\n",
       "    <tr>\n",
       "      <th>fixed_acidity</th>\n",
       "      <td>1.000000</td>\n",
       "      <td>-0.256131</td>\n",
       "      <td>0.671703</td>\n",
       "      <td>0.114777</td>\n",
       "      <td>0.093705</td>\n",
       "      <td>-0.153794</td>\n",
       "      <td>-0.113181</td>\n",
       "      <td>0.668047</td>\n",
       "      <td>-0.682978</td>\n",
       "      <td>0.183006</td>\n",
       "      <td>-0.061668</td>\n",
       "      <td>0.124052</td>\n",
       "      <td>-0.268484</td>\n",
       "    </tr>\n",
       "    <tr>\n",
       "      <th>volatile_acidity</th>\n",
       "      <td>-0.256131</td>\n",
       "      <td>1.000000</td>\n",
       "      <td>-0.552496</td>\n",
       "      <td>0.001918</td>\n",
       "      <td>0.061298</td>\n",
       "      <td>-0.010504</td>\n",
       "      <td>0.076470</td>\n",
       "      <td>0.022026</td>\n",
       "      <td>0.234937</td>\n",
       "      <td>-0.260987</td>\n",
       "      <td>-0.202288</td>\n",
       "      <td>-0.390558</td>\n",
       "      <td>-0.008815</td>\n",
       "    </tr>\n",
       "    <tr>\n",
       "      <th>citric_acid</th>\n",
       "      <td>0.671703</td>\n",
       "      <td>-0.552496</td>\n",
       "      <td>1.000000</td>\n",
       "      <td>0.143577</td>\n",
       "      <td>0.203823</td>\n",
       "      <td>-0.060978</td>\n",
       "      <td>0.035533</td>\n",
       "      <td>0.364947</td>\n",
       "      <td>-0.541904</td>\n",
       "      <td>0.312770</td>\n",
       "      <td>0.109903</td>\n",
       "      <td>0.226373</td>\n",
       "      <td>-0.153551</td>\n",
       "    </tr>\n",
       "    <tr>\n",
       "      <th>residual_sugar</th>\n",
       "      <td>0.114777</td>\n",
       "      <td>0.001918</td>\n",
       "      <td>0.143577</td>\n",
       "      <td>1.000000</td>\n",
       "      <td>0.055610</td>\n",
       "      <td>0.187049</td>\n",
       "      <td>0.203028</td>\n",
       "      <td>0.355283</td>\n",
       "      <td>-0.085652</td>\n",
       "      <td>0.005527</td>\n",
       "      <td>0.042075</td>\n",
       "      <td>0.013732</td>\n",
       "      <td>-0.031261</td>\n",
       "    </tr>\n",
       "    <tr>\n",
       "      <th>chlorides</th>\n",
       "      <td>0.093705</td>\n",
       "      <td>0.061298</td>\n",
       "      <td>0.203823</td>\n",
       "      <td>0.055610</td>\n",
       "      <td>1.000000</td>\n",
       "      <td>0.005562</td>\n",
       "      <td>0.047400</td>\n",
       "      <td>0.200632</td>\n",
       "      <td>-0.265026</td>\n",
       "      <td>0.371260</td>\n",
       "      <td>-0.221141</td>\n",
       "      <td>-0.128907</td>\n",
       "      <td>-0.119869</td>\n",
       "    </tr>\n",
       "    <tr>\n",
       "      <th>free_sulfur_dioxide</th>\n",
       "      <td>-0.153794</td>\n",
       "      <td>-0.010504</td>\n",
       "      <td>-0.060978</td>\n",
       "      <td>0.187049</td>\n",
       "      <td>0.005562</td>\n",
       "      <td>1.000000</td>\n",
       "      <td>0.667666</td>\n",
       "      <td>-0.021946</td>\n",
       "      <td>0.070377</td>\n",
       "      <td>0.051658</td>\n",
       "      <td>-0.069408</td>\n",
       "      <td>-0.050656</td>\n",
       "      <td>0.090480</td>\n",
       "    </tr>\n",
       "    <tr>\n",
       "      <th>total_sulfur_dioxide</th>\n",
       "      <td>-0.113181</td>\n",
       "      <td>0.076470</td>\n",
       "      <td>0.035533</td>\n",
       "      <td>0.203028</td>\n",
       "      <td>0.047400</td>\n",
       "      <td>0.667666</td>\n",
       "      <td>1.000000</td>\n",
       "      <td>0.071269</td>\n",
       "      <td>-0.066495</td>\n",
       "      <td>0.042947</td>\n",
       "      <td>-0.205654</td>\n",
       "      <td>-0.185100</td>\n",
       "      <td>-0.117850</td>\n",
       "    </tr>\n",
       "    <tr>\n",
       "      <th>density</th>\n",
       "      <td>0.668047</td>\n",
       "      <td>0.022026</td>\n",
       "      <td>0.364947</td>\n",
       "      <td>0.355283</td>\n",
       "      <td>0.200632</td>\n",
       "      <td>-0.021946</td>\n",
       "      <td>0.071269</td>\n",
       "      <td>1.000000</td>\n",
       "      <td>-0.341699</td>\n",
       "      <td>0.148506</td>\n",
       "      <td>-0.496180</td>\n",
       "      <td>-0.174919</td>\n",
       "      <td>-0.368372</td>\n",
       "    </tr>\n",
       "    <tr>\n",
       "      <th>sulphates</th>\n",
       "      <td>-0.682978</td>\n",
       "      <td>0.234937</td>\n",
       "      <td>-0.541904</td>\n",
       "      <td>-0.085652</td>\n",
       "      <td>-0.265026</td>\n",
       "      <td>0.070377</td>\n",
       "      <td>-0.066495</td>\n",
       "      <td>-0.341699</td>\n",
       "      <td>1.000000</td>\n",
       "      <td>-0.196648</td>\n",
       "      <td>0.205633</td>\n",
       "      <td>-0.057731</td>\n",
       "      <td>0.136005</td>\n",
       "    </tr>\n",
       "    <tr>\n",
       "      <th>alcohol</th>\n",
       "      <td>0.183006</td>\n",
       "      <td>-0.260987</td>\n",
       "      <td>0.312770</td>\n",
       "      <td>0.005527</td>\n",
       "      <td>0.371260</td>\n",
       "      <td>0.051658</td>\n",
       "      <td>0.042947</td>\n",
       "      <td>0.148506</td>\n",
       "      <td>-0.196648</td>\n",
       "      <td>1.000000</td>\n",
       "      <td>0.093595</td>\n",
       "      <td>0.251397</td>\n",
       "      <td>-0.125307</td>\n",
       "    </tr>\n",
       "    <tr>\n",
       "      <th>ph</th>\n",
       "      <td>-0.061668</td>\n",
       "      <td>-0.202288</td>\n",
       "      <td>0.109903</td>\n",
       "      <td>0.042075</td>\n",
       "      <td>-0.221141</td>\n",
       "      <td>-0.069408</td>\n",
       "      <td>-0.205654</td>\n",
       "      <td>-0.496180</td>\n",
       "      <td>0.205633</td>\n",
       "      <td>0.093595</td>\n",
       "      <td>1.000000</td>\n",
       "      <td>0.476166</td>\n",
       "      <td>0.245123</td>\n",
       "    </tr>\n",
       "    <tr>\n",
       "      <th>quality</th>\n",
       "      <td>0.124052</td>\n",
       "      <td>-0.390558</td>\n",
       "      <td>0.226373</td>\n",
       "      <td>0.013732</td>\n",
       "      <td>-0.128907</td>\n",
       "      <td>-0.050656</td>\n",
       "      <td>-0.185100</td>\n",
       "      <td>-0.174919</td>\n",
       "      <td>-0.057731</td>\n",
       "      <td>0.251397</td>\n",
       "      <td>0.476166</td>\n",
       "      <td>1.000000</td>\n",
       "      <td>0.066453</td>\n",
       "    </tr>\n",
       "    <tr>\n",
       "      <th>id</th>\n",
       "      <td>-0.268484</td>\n",
       "      <td>-0.008815</td>\n",
       "      <td>-0.153551</td>\n",
       "      <td>-0.031261</td>\n",
       "      <td>-0.119869</td>\n",
       "      <td>0.090480</td>\n",
       "      <td>-0.117850</td>\n",
       "      <td>-0.368372</td>\n",
       "      <td>0.136005</td>\n",
       "      <td>-0.125307</td>\n",
       "      <td>0.245123</td>\n",
       "      <td>0.066453</td>\n",
       "      <td>1.000000</td>\n",
       "    </tr>\n",
       "  </tbody>\n",
       "</table>\n",
       "</div>"
      ],
      "text/plain": [
       "                      fixed_acidity  volatile_acidity  citric_acid  \\\n",
       "fixed_acidity              1.000000         -0.256131     0.671703   \n",
       "volatile_acidity          -0.256131          1.000000    -0.552496   \n",
       "citric_acid                0.671703         -0.552496     1.000000   \n",
       "residual_sugar             0.114777          0.001918     0.143577   \n",
       "chlorides                  0.093705          0.061298     0.203823   \n",
       "free_sulfur_dioxide       -0.153794         -0.010504    -0.060978   \n",
       "total_sulfur_dioxide      -0.113181          0.076470     0.035533   \n",
       "density                    0.668047          0.022026     0.364947   \n",
       "sulphates                 -0.682978          0.234937    -0.541904   \n",
       "alcohol                    0.183006         -0.260987     0.312770   \n",
       "ph                        -0.061668         -0.202288     0.109903   \n",
       "quality                    0.124052         -0.390558     0.226373   \n",
       "id                        -0.268484         -0.008815    -0.153551   \n",
       "\n",
       "                      residual_sugar  chlorides  free_sulfur_dioxide  \\\n",
       "fixed_acidity               0.114777   0.093705            -0.153794   \n",
       "volatile_acidity            0.001918   0.061298            -0.010504   \n",
       "citric_acid                 0.143577   0.203823            -0.060978   \n",
       "residual_sugar              1.000000   0.055610             0.187049   \n",
       "chlorides                   0.055610   1.000000             0.005562   \n",
       "free_sulfur_dioxide         0.187049   0.005562             1.000000   \n",
       "total_sulfur_dioxide        0.203028   0.047400             0.667666   \n",
       "density                     0.355283   0.200632            -0.021946   \n",
       "sulphates                  -0.085652  -0.265026             0.070377   \n",
       "alcohol                     0.005527   0.371260             0.051658   \n",
       "ph                          0.042075  -0.221141            -0.069408   \n",
       "quality                     0.013732  -0.128907            -0.050656   \n",
       "id                         -0.031261  -0.119869             0.090480   \n",
       "\n",
       "                      total_sulfur_dioxide   density  sulphates   alcohol  \\\n",
       "fixed_acidity                    -0.113181  0.668047  -0.682978  0.183006   \n",
       "volatile_acidity                  0.076470  0.022026   0.234937 -0.260987   \n",
       "citric_acid                       0.035533  0.364947  -0.541904  0.312770   \n",
       "residual_sugar                    0.203028  0.355283  -0.085652  0.005527   \n",
       "chlorides                         0.047400  0.200632  -0.265026  0.371260   \n",
       "free_sulfur_dioxide               0.667666 -0.021946   0.070377  0.051658   \n",
       "total_sulfur_dioxide              1.000000  0.071269  -0.066495  0.042947   \n",
       "density                           0.071269  1.000000  -0.341699  0.148506   \n",
       "sulphates                        -0.066495 -0.341699   1.000000 -0.196648   \n",
       "alcohol                           0.042947  0.148506  -0.196648  1.000000   \n",
       "ph                               -0.205654 -0.496180   0.205633  0.093595   \n",
       "quality                          -0.185100 -0.174919  -0.057731  0.251397   \n",
       "id                               -0.117850 -0.368372   0.136005 -0.125307   \n",
       "\n",
       "                            ph   quality        id  \n",
       "fixed_acidity        -0.061668  0.124052 -0.268484  \n",
       "volatile_acidity     -0.202288 -0.390558 -0.008815  \n",
       "citric_acid           0.109903  0.226373 -0.153551  \n",
       "residual_sugar        0.042075  0.013732 -0.031261  \n",
       "chlorides            -0.221141 -0.128907 -0.119869  \n",
       "free_sulfur_dioxide  -0.069408 -0.050656  0.090480  \n",
       "total_sulfur_dioxide -0.205654 -0.185100 -0.117850  \n",
       "density              -0.496180 -0.174919 -0.368372  \n",
       "sulphates             0.205633 -0.057731  0.136005  \n",
       "alcohol               0.093595  0.251397 -0.125307  \n",
       "ph                    1.000000  0.476166  0.245123  \n",
       "quality               0.476166  1.000000  0.066453  \n",
       "id                    0.245123  0.066453  1.000000  "
      ]
     },
     "execution_count": 99,
     "metadata": {},
     "output_type": "execute_result"
    }
   ],
   "source": [
    "corr = red_df.corr()\n",
    "corr"
   ]
  },
  {
   "cell_type": "markdown",
   "id": "18686457",
   "metadata": {},
   "source": [
    "#### Categorize quality to >=7 as Good and < 7 and Not good"
   ]
  },
  {
   "cell_type": "code",
   "execution_count": 100,
   "id": "33feb9c5",
   "metadata": {},
   "outputs": [],
   "source": [
    "red_df['quality_2'] = (red_df['quality'] >=  7).astype(int)"
   ]
  },
  {
   "cell_type": "code",
   "execution_count": 101,
   "id": "197ed07b",
   "metadata": {},
   "outputs": [
    {
     "data": {
      "text/html": [
       "<div>\n",
       "<style scoped>\n",
       "    .dataframe tbody tr th:only-of-type {\n",
       "        vertical-align: middle;\n",
       "    }\n",
       "\n",
       "    .dataframe tbody tr th {\n",
       "        vertical-align: top;\n",
       "    }\n",
       "\n",
       "    .dataframe thead th {\n",
       "        text-align: right;\n",
       "    }\n",
       "</style>\n",
       "<table border=\"1\" class=\"dataframe\">\n",
       "  <thead>\n",
       "    <tr style=\"text-align: right;\">\n",
       "      <th></th>\n",
       "      <th>fixed_acidity</th>\n",
       "      <th>volatile_acidity</th>\n",
       "      <th>citric_acid</th>\n",
       "      <th>residual_sugar</th>\n",
       "      <th>chlorides</th>\n",
       "      <th>free_sulfur_dioxide</th>\n",
       "      <th>total_sulfur_dioxide</th>\n",
       "      <th>density</th>\n",
       "      <th>sulphates</th>\n",
       "      <th>alcohol</th>\n",
       "      <th>ph</th>\n",
       "      <th>quality</th>\n",
       "      <th>id</th>\n",
       "      <th>color</th>\n",
       "      <th>quality_2</th>\n",
       "    </tr>\n",
       "  </thead>\n",
       "  <tbody>\n",
       "    <tr>\n",
       "      <th>0</th>\n",
       "      <td>7.4</td>\n",
       "      <td>0.70</td>\n",
       "      <td>0.00</td>\n",
       "      <td>1.9</td>\n",
       "      <td>0.076</td>\n",
       "      <td>11.0</td>\n",
       "      <td>34.0</td>\n",
       "      <td>0.9978</td>\n",
       "      <td>3.51</td>\n",
       "      <td>0.56</td>\n",
       "      <td>9.4</td>\n",
       "      <td>5</td>\n",
       "      <td>1</td>\n",
       "      <td>red</td>\n",
       "      <td>0</td>\n",
       "    </tr>\n",
       "    <tr>\n",
       "      <th>1</th>\n",
       "      <td>7.8</td>\n",
       "      <td>0.88</td>\n",
       "      <td>0.00</td>\n",
       "      <td>2.6</td>\n",
       "      <td>0.098</td>\n",
       "      <td>25.0</td>\n",
       "      <td>67.0</td>\n",
       "      <td>0.9968</td>\n",
       "      <td>3.20</td>\n",
       "      <td>0.68</td>\n",
       "      <td>9.8</td>\n",
       "      <td>5</td>\n",
       "      <td>2</td>\n",
       "      <td>red</td>\n",
       "      <td>0</td>\n",
       "    </tr>\n",
       "    <tr>\n",
       "      <th>2</th>\n",
       "      <td>7.8</td>\n",
       "      <td>0.76</td>\n",
       "      <td>0.04</td>\n",
       "      <td>2.3</td>\n",
       "      <td>0.092</td>\n",
       "      <td>15.0</td>\n",
       "      <td>54.0</td>\n",
       "      <td>0.9970</td>\n",
       "      <td>3.26</td>\n",
       "      <td>0.65</td>\n",
       "      <td>9.8</td>\n",
       "      <td>5</td>\n",
       "      <td>3</td>\n",
       "      <td>red</td>\n",
       "      <td>0</td>\n",
       "    </tr>\n",
       "    <tr>\n",
       "      <th>3</th>\n",
       "      <td>11.2</td>\n",
       "      <td>0.28</td>\n",
       "      <td>0.56</td>\n",
       "      <td>1.9</td>\n",
       "      <td>0.075</td>\n",
       "      <td>17.0</td>\n",
       "      <td>60.0</td>\n",
       "      <td>0.9980</td>\n",
       "      <td>3.16</td>\n",
       "      <td>0.58</td>\n",
       "      <td>9.8</td>\n",
       "      <td>6</td>\n",
       "      <td>4</td>\n",
       "      <td>red</td>\n",
       "      <td>0</td>\n",
       "    </tr>\n",
       "    <tr>\n",
       "      <th>4</th>\n",
       "      <td>7.4</td>\n",
       "      <td>0.70</td>\n",
       "      <td>0.00</td>\n",
       "      <td>1.9</td>\n",
       "      <td>0.076</td>\n",
       "      <td>11.0</td>\n",
       "      <td>34.0</td>\n",
       "      <td>0.9978</td>\n",
       "      <td>3.51</td>\n",
       "      <td>0.56</td>\n",
       "      <td>9.4</td>\n",
       "      <td>5</td>\n",
       "      <td>5</td>\n",
       "      <td>red</td>\n",
       "      <td>0</td>\n",
       "    </tr>\n",
       "    <tr>\n",
       "      <th>5</th>\n",
       "      <td>7.4</td>\n",
       "      <td>0.66</td>\n",
       "      <td>0.00</td>\n",
       "      <td>1.8</td>\n",
       "      <td>0.075</td>\n",
       "      <td>13.0</td>\n",
       "      <td>40.0</td>\n",
       "      <td>0.9978</td>\n",
       "      <td>3.51</td>\n",
       "      <td>0.56</td>\n",
       "      <td>9.4</td>\n",
       "      <td>5</td>\n",
       "      <td>6</td>\n",
       "      <td>red</td>\n",
       "      <td>0</td>\n",
       "    </tr>\n",
       "    <tr>\n",
       "      <th>6</th>\n",
       "      <td>7.9</td>\n",
       "      <td>0.60</td>\n",
       "      <td>0.06</td>\n",
       "      <td>1.6</td>\n",
       "      <td>0.069</td>\n",
       "      <td>15.0</td>\n",
       "      <td>59.0</td>\n",
       "      <td>0.9964</td>\n",
       "      <td>3.30</td>\n",
       "      <td>0.46</td>\n",
       "      <td>9.4</td>\n",
       "      <td>5</td>\n",
       "      <td>7</td>\n",
       "      <td>red</td>\n",
       "      <td>0</td>\n",
       "    </tr>\n",
       "    <tr>\n",
       "      <th>7</th>\n",
       "      <td>7.3</td>\n",
       "      <td>0.65</td>\n",
       "      <td>0.00</td>\n",
       "      <td>1.2</td>\n",
       "      <td>0.065</td>\n",
       "      <td>15.0</td>\n",
       "      <td>21.0</td>\n",
       "      <td>0.9946</td>\n",
       "      <td>3.39</td>\n",
       "      <td>0.47</td>\n",
       "      <td>10.0</td>\n",
       "      <td>7</td>\n",
       "      <td>8</td>\n",
       "      <td>red</td>\n",
       "      <td>1</td>\n",
       "    </tr>\n",
       "    <tr>\n",
       "      <th>8</th>\n",
       "      <td>7.8</td>\n",
       "      <td>0.58</td>\n",
       "      <td>0.02</td>\n",
       "      <td>2.0</td>\n",
       "      <td>0.073</td>\n",
       "      <td>9.0</td>\n",
       "      <td>18.0</td>\n",
       "      <td>0.9968</td>\n",
       "      <td>3.36</td>\n",
       "      <td>0.57</td>\n",
       "      <td>9.5</td>\n",
       "      <td>7</td>\n",
       "      <td>9</td>\n",
       "      <td>red</td>\n",
       "      <td>1</td>\n",
       "    </tr>\n",
       "    <tr>\n",
       "      <th>9</th>\n",
       "      <td>7.5</td>\n",
       "      <td>0.50</td>\n",
       "      <td>0.36</td>\n",
       "      <td>6.1</td>\n",
       "      <td>0.071</td>\n",
       "      <td>17.0</td>\n",
       "      <td>102.0</td>\n",
       "      <td>0.9978</td>\n",
       "      <td>3.35</td>\n",
       "      <td>0.80</td>\n",
       "      <td>10.5</td>\n",
       "      <td>5</td>\n",
       "      <td>10</td>\n",
       "      <td>red</td>\n",
       "      <td>0</td>\n",
       "    </tr>\n",
       "  </tbody>\n",
       "</table>\n",
       "</div>"
      ],
      "text/plain": [
       "   fixed_acidity  volatile_acidity  citric_acid  residual_sugar  chlorides  \\\n",
       "0            7.4              0.70         0.00             1.9      0.076   \n",
       "1            7.8              0.88         0.00             2.6      0.098   \n",
       "2            7.8              0.76         0.04             2.3      0.092   \n",
       "3           11.2              0.28         0.56             1.9      0.075   \n",
       "4            7.4              0.70         0.00             1.9      0.076   \n",
       "5            7.4              0.66         0.00             1.8      0.075   \n",
       "6            7.9              0.60         0.06             1.6      0.069   \n",
       "7            7.3              0.65         0.00             1.2      0.065   \n",
       "8            7.8              0.58         0.02             2.0      0.073   \n",
       "9            7.5              0.50         0.36             6.1      0.071   \n",
       "\n",
       "   free_sulfur_dioxide  total_sulfur_dioxide  density  sulphates  alcohol  \\\n",
       "0                 11.0                  34.0   0.9978       3.51     0.56   \n",
       "1                 25.0                  67.0   0.9968       3.20     0.68   \n",
       "2                 15.0                  54.0   0.9970       3.26     0.65   \n",
       "3                 17.0                  60.0   0.9980       3.16     0.58   \n",
       "4                 11.0                  34.0   0.9978       3.51     0.56   \n",
       "5                 13.0                  40.0   0.9978       3.51     0.56   \n",
       "6                 15.0                  59.0   0.9964       3.30     0.46   \n",
       "7                 15.0                  21.0   0.9946       3.39     0.47   \n",
       "8                  9.0                  18.0   0.9968       3.36     0.57   \n",
       "9                 17.0                 102.0   0.9978       3.35     0.80   \n",
       "\n",
       "     ph  quality  id color  quality_2  \n",
       "0   9.4        5   1   red          0  \n",
       "1   9.8        5   2   red          0  \n",
       "2   9.8        5   3   red          0  \n",
       "3   9.8        6   4   red          0  \n",
       "4   9.4        5   5   red          0  \n",
       "5   9.4        5   6   red          0  \n",
       "6   9.4        5   7   red          0  \n",
       "7  10.0        7   8   red          1  \n",
       "8   9.5        7   9   red          1  \n",
       "9  10.5        5  10   red          0  "
      ]
     },
     "execution_count": 101,
     "metadata": {},
     "output_type": "execute_result"
    }
   ],
   "source": [
    "red_df.head(10)"
   ]
  },
  {
   "cell_type": "markdown",
   "id": "25719add",
   "metadata": {},
   "source": [
    "#### Create Target and Features\n",
    "- quality_2 is the binary outcome (1-Good, 0-Not good)\n",
    "- quality, id, color are dropped since they aren't needed in the model"
   ]
  },
  {
   "cell_type": "code",
   "execution_count": 102,
   "id": "5c584396",
   "metadata": {},
   "outputs": [],
   "source": [
    "y = red_df[\"quality_2\"]\n",
    "X = red_df.drop(columns=[\"quality\",\"quality_2\",\"id\",\"color\"])"
   ]
  },
  {
   "cell_type": "code",
   "execution_count": 103,
   "id": "84f18054",
   "metadata": {},
   "outputs": [
    {
     "data": {
      "text/html": [
       "<div>\n",
       "<style scoped>\n",
       "    .dataframe tbody tr th:only-of-type {\n",
       "        vertical-align: middle;\n",
       "    }\n",
       "\n",
       "    .dataframe tbody tr th {\n",
       "        vertical-align: top;\n",
       "    }\n",
       "\n",
       "    .dataframe thead th {\n",
       "        text-align: right;\n",
       "    }\n",
       "</style>\n",
       "<table border=\"1\" class=\"dataframe\">\n",
       "  <thead>\n",
       "    <tr style=\"text-align: right;\">\n",
       "      <th></th>\n",
       "      <th>fixed_acidity</th>\n",
       "      <th>volatile_acidity</th>\n",
       "      <th>citric_acid</th>\n",
       "      <th>residual_sugar</th>\n",
       "      <th>chlorides</th>\n",
       "      <th>free_sulfur_dioxide</th>\n",
       "      <th>total_sulfur_dioxide</th>\n",
       "      <th>density</th>\n",
       "      <th>sulphates</th>\n",
       "      <th>alcohol</th>\n",
       "      <th>ph</th>\n",
       "    </tr>\n",
       "  </thead>\n",
       "  <tbody>\n",
       "    <tr>\n",
       "      <th>0</th>\n",
       "      <td>7.4</td>\n",
       "      <td>0.70</td>\n",
       "      <td>0.00</td>\n",
       "      <td>1.9</td>\n",
       "      <td>0.076</td>\n",
       "      <td>11.0</td>\n",
       "      <td>34.0</td>\n",
       "      <td>0.9978</td>\n",
       "      <td>3.51</td>\n",
       "      <td>0.56</td>\n",
       "      <td>9.4</td>\n",
       "    </tr>\n",
       "    <tr>\n",
       "      <th>1</th>\n",
       "      <td>7.8</td>\n",
       "      <td>0.88</td>\n",
       "      <td>0.00</td>\n",
       "      <td>2.6</td>\n",
       "      <td>0.098</td>\n",
       "      <td>25.0</td>\n",
       "      <td>67.0</td>\n",
       "      <td>0.9968</td>\n",
       "      <td>3.20</td>\n",
       "      <td>0.68</td>\n",
       "      <td>9.8</td>\n",
       "    </tr>\n",
       "    <tr>\n",
       "      <th>2</th>\n",
       "      <td>7.8</td>\n",
       "      <td>0.76</td>\n",
       "      <td>0.04</td>\n",
       "      <td>2.3</td>\n",
       "      <td>0.092</td>\n",
       "      <td>15.0</td>\n",
       "      <td>54.0</td>\n",
       "      <td>0.9970</td>\n",
       "      <td>3.26</td>\n",
       "      <td>0.65</td>\n",
       "      <td>9.8</td>\n",
       "    </tr>\n",
       "    <tr>\n",
       "      <th>3</th>\n",
       "      <td>11.2</td>\n",
       "      <td>0.28</td>\n",
       "      <td>0.56</td>\n",
       "      <td>1.9</td>\n",
       "      <td>0.075</td>\n",
       "      <td>17.0</td>\n",
       "      <td>60.0</td>\n",
       "      <td>0.9980</td>\n",
       "      <td>3.16</td>\n",
       "      <td>0.58</td>\n",
       "      <td>9.8</td>\n",
       "    </tr>\n",
       "    <tr>\n",
       "      <th>4</th>\n",
       "      <td>7.4</td>\n",
       "      <td>0.70</td>\n",
       "      <td>0.00</td>\n",
       "      <td>1.9</td>\n",
       "      <td>0.076</td>\n",
       "      <td>11.0</td>\n",
       "      <td>34.0</td>\n",
       "      <td>0.9978</td>\n",
       "      <td>3.51</td>\n",
       "      <td>0.56</td>\n",
       "      <td>9.4</td>\n",
       "    </tr>\n",
       "    <tr>\n",
       "      <th>5</th>\n",
       "      <td>7.4</td>\n",
       "      <td>0.66</td>\n",
       "      <td>0.00</td>\n",
       "      <td>1.8</td>\n",
       "      <td>0.075</td>\n",
       "      <td>13.0</td>\n",
       "      <td>40.0</td>\n",
       "      <td>0.9978</td>\n",
       "      <td>3.51</td>\n",
       "      <td>0.56</td>\n",
       "      <td>9.4</td>\n",
       "    </tr>\n",
       "    <tr>\n",
       "      <th>6</th>\n",
       "      <td>7.9</td>\n",
       "      <td>0.60</td>\n",
       "      <td>0.06</td>\n",
       "      <td>1.6</td>\n",
       "      <td>0.069</td>\n",
       "      <td>15.0</td>\n",
       "      <td>59.0</td>\n",
       "      <td>0.9964</td>\n",
       "      <td>3.30</td>\n",
       "      <td>0.46</td>\n",
       "      <td>9.4</td>\n",
       "    </tr>\n",
       "    <tr>\n",
       "      <th>7</th>\n",
       "      <td>7.3</td>\n",
       "      <td>0.65</td>\n",
       "      <td>0.00</td>\n",
       "      <td>1.2</td>\n",
       "      <td>0.065</td>\n",
       "      <td>15.0</td>\n",
       "      <td>21.0</td>\n",
       "      <td>0.9946</td>\n",
       "      <td>3.39</td>\n",
       "      <td>0.47</td>\n",
       "      <td>10.0</td>\n",
       "    </tr>\n",
       "    <tr>\n",
       "      <th>8</th>\n",
       "      <td>7.8</td>\n",
       "      <td>0.58</td>\n",
       "      <td>0.02</td>\n",
       "      <td>2.0</td>\n",
       "      <td>0.073</td>\n",
       "      <td>9.0</td>\n",
       "      <td>18.0</td>\n",
       "      <td>0.9968</td>\n",
       "      <td>3.36</td>\n",
       "      <td>0.57</td>\n",
       "      <td>9.5</td>\n",
       "    </tr>\n",
       "    <tr>\n",
       "      <th>9</th>\n",
       "      <td>7.5</td>\n",
       "      <td>0.50</td>\n",
       "      <td>0.36</td>\n",
       "      <td>6.1</td>\n",
       "      <td>0.071</td>\n",
       "      <td>17.0</td>\n",
       "      <td>102.0</td>\n",
       "      <td>0.9978</td>\n",
       "      <td>3.35</td>\n",
       "      <td>0.80</td>\n",
       "      <td>10.5</td>\n",
       "    </tr>\n",
       "  </tbody>\n",
       "</table>\n",
       "</div>"
      ],
      "text/plain": [
       "   fixed_acidity  volatile_acidity  citric_acid  residual_sugar  chlorides  \\\n",
       "0            7.4              0.70         0.00             1.9      0.076   \n",
       "1            7.8              0.88         0.00             2.6      0.098   \n",
       "2            7.8              0.76         0.04             2.3      0.092   \n",
       "3           11.2              0.28         0.56             1.9      0.075   \n",
       "4            7.4              0.70         0.00             1.9      0.076   \n",
       "5            7.4              0.66         0.00             1.8      0.075   \n",
       "6            7.9              0.60         0.06             1.6      0.069   \n",
       "7            7.3              0.65         0.00             1.2      0.065   \n",
       "8            7.8              0.58         0.02             2.0      0.073   \n",
       "9            7.5              0.50         0.36             6.1      0.071   \n",
       "\n",
       "   free_sulfur_dioxide  total_sulfur_dioxide  density  sulphates  alcohol  \\\n",
       "0                 11.0                  34.0   0.9978       3.51     0.56   \n",
       "1                 25.0                  67.0   0.9968       3.20     0.68   \n",
       "2                 15.0                  54.0   0.9970       3.26     0.65   \n",
       "3                 17.0                  60.0   0.9980       3.16     0.58   \n",
       "4                 11.0                  34.0   0.9978       3.51     0.56   \n",
       "5                 13.0                  40.0   0.9978       3.51     0.56   \n",
       "6                 15.0                  59.0   0.9964       3.30     0.46   \n",
       "7                 15.0                  21.0   0.9946       3.39     0.47   \n",
       "8                  9.0                  18.0   0.9968       3.36     0.57   \n",
       "9                 17.0                 102.0   0.9978       3.35     0.80   \n",
       "\n",
       "     ph  \n",
       "0   9.4  \n",
       "1   9.8  \n",
       "2   9.8  \n",
       "3   9.8  \n",
       "4   9.4  \n",
       "5   9.4  \n",
       "6   9.4  \n",
       "7  10.0  \n",
       "8   9.5  \n",
       "9  10.5  "
      ]
     },
     "execution_count": 103,
     "metadata": {},
     "output_type": "execute_result"
    }
   ],
   "source": [
    "X.head(10)"
   ]
  },
  {
   "cell_type": "code",
   "execution_count": 104,
   "id": "646ca47b",
   "metadata": {},
   "outputs": [
    {
     "data": {
      "text/plain": [
       "0    1382\n",
       "1     217\n",
       "Name: quality_2, dtype: int64"
      ]
     },
     "execution_count": 104,
     "metadata": {},
     "output_type": "execute_result"
    }
   ],
   "source": [
    "y.value_counts()"
   ]
  },
  {
   "cell_type": "markdown",
   "id": "5a0ff5bc",
   "metadata": {},
   "source": [
    "#### Scale the data\n",
    "- Scale the data since there is such a wide range of values between features. Scaling will make all the model results comparable"
   ]
  },
  {
   "cell_type": "code",
   "execution_count": 105,
   "id": "6b829f35",
   "metadata": {},
   "outputs": [],
   "source": [
    "data_scaler = StandardScaler()"
   ]
  },
  {
   "cell_type": "code",
   "execution_count": 106,
   "id": "42b57a2a",
   "metadata": {},
   "outputs": [],
   "source": [
    "X_scaled = data_scaler.fit_transform(X)\n",
    "# X_scaled"
   ]
  },
  {
   "cell_type": "markdown",
   "id": "6dfee15d",
   "metadata": {},
   "source": [
    "#### Split the data into test and train"
   ]
  },
  {
   "cell_type": "code",
   "execution_count": 107,
   "id": "42c0d40c",
   "metadata": {},
   "outputs": [],
   "source": [
    "# YOUR CODE HERE\n",
    "X_train, X_test, y_train, y_test = train_test_split(X_scaled, y, random_state=7)"
   ]
  },
  {
   "cell_type": "code",
   "execution_count": 108,
   "id": "ca05d72c",
   "metadata": {},
   "outputs": [
    {
     "data": {
      "text/plain": [
       "0    1033\n",
       "1     166\n",
       "Name: quality_2, dtype: int64"
      ]
     },
     "execution_count": 108,
     "metadata": {},
     "output_type": "execute_result"
    }
   ],
   "source": [
    "y_train.value_counts()"
   ]
  },
  {
   "cell_type": "code",
   "execution_count": 109,
   "id": "4882cef4",
   "metadata": {},
   "outputs": [
    {
     "data": {
      "text/plain": [
       "(1599, 11)"
      ]
     },
     "execution_count": 109,
     "metadata": {},
     "output_type": "execute_result"
    }
   ],
   "source": [
    "X_scaled.shape"
   ]
  },
  {
   "cell_type": "markdown",
   "id": "f512a183",
   "metadata": {},
   "source": [
    "## Logistic model\n",
    "_Benefits_ - Simple to implement and effective; it works with feature scaling but does not require it.  \n",
    "_Limitations_ - Poor performance on non-linear data or where features are not highly correlated."
   ]
  },
  {
   "cell_type": "code",
   "execution_count": 110,
   "id": "ba5b5654",
   "metadata": {},
   "outputs": [],
   "source": [
    "model1 = LogisticRegression(solver='lbfgs',random_state=7)"
   ]
  },
  {
   "cell_type": "code",
   "execution_count": 111,
   "id": "5e8f25aa",
   "metadata": {},
   "outputs": [
    {
     "data": {
      "text/plain": [
       "LogisticRegression(random_state=7)"
      ]
     },
     "execution_count": 111,
     "metadata": {},
     "output_type": "execute_result"
    }
   ],
   "source": [
    "model1.fit(X_train, y_train)"
   ]
  },
  {
   "cell_type": "markdown",
   "id": "6ccdc3b2",
   "metadata": {},
   "source": [
    "#### Model predictions"
   ]
  },
  {
   "cell_type": "code",
   "execution_count": 112,
   "id": "5841b619",
   "metadata": {},
   "outputs": [],
   "source": [
    "y_pred1 = model1.predict(X_test)"
   ]
  },
  {
   "cell_type": "code",
   "execution_count": 113,
   "id": "59a8ac88",
   "metadata": {},
   "outputs": [
    {
     "name": "stdout",
     "output_type": "stream",
     "text": [
      "[[329  20]\n",
      " [ 29  22]]\n"
     ]
    }
   ],
   "source": [
    "matrix1 = confusion_matrix(y_test, y_pred1)\n",
    "print(matrix1)"
   ]
  },
  {
   "cell_type": "code",
   "execution_count": 114,
   "id": "02d344d2",
   "metadata": {},
   "outputs": [
    {
     "name": "stdout",
     "output_type": "stream",
     "text": [
      "              precision    recall  f1-score   support\n",
      "\n",
      "           0       0.92      0.94      0.93       349\n",
      "           1       0.52      0.43      0.47        51\n",
      "\n",
      "    accuracy                           0.88       400\n",
      "   macro avg       0.72      0.69      0.70       400\n",
      "weighted avg       0.87      0.88      0.87       400\n",
      "\n"
     ]
    }
   ],
   "source": [
    "report1 = classification_report(y_test, y_pred1)\n",
    "print(report1)"
   ]
  },
  {
   "cell_type": "code",
   "execution_count": 115,
   "id": "e6b6213f",
   "metadata": {},
   "outputs": [
    {
     "data": {
      "text/html": [
       "<div>\n",
       "<style scoped>\n",
       "    .dataframe tbody tr th:only-of-type {\n",
       "        vertical-align: middle;\n",
       "    }\n",
       "\n",
       "    .dataframe tbody tr th {\n",
       "        vertical-align: top;\n",
       "    }\n",
       "\n",
       "    .dataframe thead th {\n",
       "        text-align: right;\n",
       "    }\n",
       "</style>\n",
       "<table border=\"1\" class=\"dataframe\">\n",
       "  <thead>\n",
       "    <tr style=\"text-align: right;\">\n",
       "      <th></th>\n",
       "      <th>feature</th>\n",
       "      <th>importance</th>\n",
       "    </tr>\n",
       "  </thead>\n",
       "  <tbody>\n",
       "    <tr>\n",
       "      <th>10</th>\n",
       "      <td>ph</td>\n",
       "      <td>0.842461</td>\n",
       "    </tr>\n",
       "    <tr>\n",
       "      <th>0</th>\n",
       "      <td>fixed_acidity</td>\n",
       "      <td>0.618401</td>\n",
       "    </tr>\n",
       "    <tr>\n",
       "      <th>9</th>\n",
       "      <td>alcohol</td>\n",
       "      <td>0.536259</td>\n",
       "    </tr>\n",
       "    <tr>\n",
       "      <th>3</th>\n",
       "      <td>residual_sugar</td>\n",
       "      <td>0.356410</td>\n",
       "    </tr>\n",
       "    <tr>\n",
       "      <th>5</th>\n",
       "      <td>free_sulfur_dioxide</td>\n",
       "      <td>0.046747</td>\n",
       "    </tr>\n",
       "    <tr>\n",
       "      <th>2</th>\n",
       "      <td>citric_acid</td>\n",
       "      <td>0.002807</td>\n",
       "    </tr>\n",
       "    <tr>\n",
       "      <th>8</th>\n",
       "      <td>sulphates</td>\n",
       "      <td>-0.019941</td>\n",
       "    </tr>\n",
       "    <tr>\n",
       "      <th>4</th>\n",
       "      <td>chlorides</td>\n",
       "      <td>-0.370528</td>\n",
       "    </tr>\n",
       "    <tr>\n",
       "      <th>6</th>\n",
       "      <td>total_sulfur_dioxide</td>\n",
       "      <td>-0.392125</td>\n",
       "    </tr>\n",
       "    <tr>\n",
       "      <th>1</th>\n",
       "      <td>volatile_acidity</td>\n",
       "      <td>-0.465505</td>\n",
       "    </tr>\n",
       "    <tr>\n",
       "      <th>7</th>\n",
       "      <td>density</td>\n",
       "      <td>-0.582652</td>\n",
       "    </tr>\n",
       "  </tbody>\n",
       "</table>\n",
       "</div>"
      ],
      "text/plain": [
       "                 feature  importance\n",
       "10                    ph    0.842461\n",
       "0          fixed_acidity    0.618401\n",
       "9                alcohol    0.536259\n",
       "3         residual_sugar    0.356410\n",
       "5    free_sulfur_dioxide    0.046747\n",
       "2            citric_acid    0.002807\n",
       "8              sulphates   -0.019941\n",
       "4              chlorides   -0.370528\n",
       "6   total_sulfur_dioxide   -0.392125\n",
       "1       volatile_acidity   -0.465505\n",
       "7                density   -0.582652"
      ]
     },
     "execution_count": 115,
     "metadata": {},
     "output_type": "execute_result"
    }
   ],
   "source": [
    "importance = model1.coef_[0]\n",
    "columns = X.columns\n",
    "import_df = pd.DataFrame({'feature':columns, 'importance':importance})\n",
    "import_df = import_df.sort_values([\"importance\"], ascending=False)\n",
    "import_df"
   ]
  },
  {
   "cell_type": "markdown",
   "id": "686bbfa3",
   "metadata": {},
   "source": [
    "## SVM\n",
    "_Benefits_ - Does better at handling a higher number of features.  Useful when classes can be easily separated.  Outliers have less impact.  \n",
    "_Limitations_ - For larger datasets, it requires a large amount of time to process.  In the case of overlapped classes it does nt perform well."
   ]
  },
  {
   "cell_type": "code",
   "execution_count": 116,
   "id": "9163332f",
   "metadata": {},
   "outputs": [],
   "source": [
    "# Linear kernel did not work\n",
    "model2 = SVC(kernel='rbf',random_state=7)"
   ]
  },
  {
   "cell_type": "code",
   "execution_count": 117,
   "id": "fe0f1a09",
   "metadata": {},
   "outputs": [
    {
     "data": {
      "text/plain": [
       "SVC(random_state=7)"
      ]
     },
     "execution_count": 117,
     "metadata": {},
     "output_type": "execute_result"
    }
   ],
   "source": [
    "model2.fit(X_train, y_train)"
   ]
  },
  {
   "cell_type": "code",
   "execution_count": 118,
   "id": "c9b49b9a",
   "metadata": {},
   "outputs": [],
   "source": [
    "y_pred2 = model2.predict(X_test)"
   ]
  },
  {
   "cell_type": "code",
   "execution_count": 119,
   "id": "1c672d6b",
   "metadata": {},
   "outputs": [
    {
     "name": "stdout",
     "output_type": "stream",
     "text": [
      "[[336  13]\n",
      " [ 34  17]]\n"
     ]
    }
   ],
   "source": [
    "matrix2 = confusion_matrix(y_test, y_pred2)\n",
    "print(matrix2)"
   ]
  },
  {
   "cell_type": "code",
   "execution_count": 120,
   "id": "770beec1",
   "metadata": {},
   "outputs": [
    {
     "name": "stdout",
     "output_type": "stream",
     "text": [
      "              precision    recall  f1-score   support\n",
      "\n",
      "           0       0.91      0.96      0.93       349\n",
      "           1       0.57      0.33      0.42        51\n",
      "\n",
      "    accuracy                           0.88       400\n",
      "   macro avg       0.74      0.65      0.68       400\n",
      "weighted avg       0.86      0.88      0.87       400\n",
      "\n"
     ]
    }
   ],
   "source": [
    "report2 = classification_report(y_test, y_pred2)\n",
    "print(report2)"
   ]
  },
  {
   "cell_type": "code",
   "execution_count": 121,
   "id": "1a086515",
   "metadata": {},
   "outputs": [
    {
     "data": {
      "text/plain": [
       "0.8825"
      ]
     },
     "execution_count": 121,
     "metadata": {},
     "output_type": "execute_result"
    }
   ],
   "source": [
    "accuracy_score(y_test, y_pred2)"
   ]
  },
  {
   "cell_type": "markdown",
   "id": "72038937",
   "metadata": {},
   "source": [
    "## Decision tree\n",
    "_Benefits_ - Scaling or normalization of data is not required.  Can handle missing values.  \n",
    "_Limitations_ Prone to overfitting.  Higher time required to train decision trees."
   ]
  },
  {
   "cell_type": "code",
   "execution_count": 122,
   "id": "e019a7b9",
   "metadata": {},
   "outputs": [],
   "source": [
    "model3 = tree.DecisionTreeClassifier(random_state=7)"
   ]
  },
  {
   "cell_type": "code",
   "execution_count": 123,
   "id": "d0d6e9a1",
   "metadata": {},
   "outputs": [],
   "source": [
    "model3 = model3.fit(X_train, y_train)"
   ]
  },
  {
   "cell_type": "code",
   "execution_count": 124,
   "id": "5fb7dcb6",
   "metadata": {},
   "outputs": [],
   "source": [
    "y_pred3 = model3.predict(X_test)"
   ]
  },
  {
   "cell_type": "code",
   "execution_count": 125,
   "id": "bf9cd9ff",
   "metadata": {},
   "outputs": [
    {
     "name": "stdout",
     "output_type": "stream",
     "text": [
      "[[305  44]\n",
      " [ 24  27]]\n"
     ]
    }
   ],
   "source": [
    "matrix3 = confusion_matrix(y_test, y_pred3)\n",
    "print(matrix3)"
   ]
  },
  {
   "cell_type": "code",
   "execution_count": 126,
   "id": "55ca9361",
   "metadata": {},
   "outputs": [
    {
     "name": "stdout",
     "output_type": "stream",
     "text": [
      "              precision    recall  f1-score   support\n",
      "\n",
      "           0       0.93      0.87      0.90       349\n",
      "           1       0.38      0.53      0.44        51\n",
      "\n",
      "    accuracy                           0.83       400\n",
      "   macro avg       0.65      0.70      0.67       400\n",
      "weighted avg       0.86      0.83      0.84       400\n",
      "\n"
     ]
    }
   ],
   "source": [
    "report3 = classification_report(y_test, y_pred3)\n",
    "print(report3)"
   ]
  },
  {
   "cell_type": "code",
   "execution_count": 127,
   "id": "dcbc432d",
   "metadata": {},
   "outputs": [
    {
     "data": {
      "text/plain": [
       "0.83"
      ]
     },
     "execution_count": 127,
     "metadata": {},
     "output_type": "execute_result"
    }
   ],
   "source": [
    "accuracy_score(y_test, y_pred3)"
   ]
  },
  {
   "cell_type": "code",
   "execution_count": 128,
   "id": "b971dbb4",
   "metadata": {},
   "outputs": [
    {
     "data": {
      "text/html": [
       "<div>\n",
       "<style scoped>\n",
       "    .dataframe tbody tr th:only-of-type {\n",
       "        vertical-align: middle;\n",
       "    }\n",
       "\n",
       "    .dataframe tbody tr th {\n",
       "        vertical-align: top;\n",
       "    }\n",
       "\n",
       "    .dataframe thead th {\n",
       "        text-align: right;\n",
       "    }\n",
       "</style>\n",
       "<table border=\"1\" class=\"dataframe\">\n",
       "  <thead>\n",
       "    <tr style=\"text-align: right;\">\n",
       "      <th></th>\n",
       "      <th>feature</th>\n",
       "      <th>importance</th>\n",
       "    </tr>\n",
       "  </thead>\n",
       "  <tbody>\n",
       "    <tr>\n",
       "      <th>10</th>\n",
       "      <td>ph</td>\n",
       "      <td>0.249580</td>\n",
       "    </tr>\n",
       "    <tr>\n",
       "      <th>8</th>\n",
       "      <td>sulphates</td>\n",
       "      <td>0.136080</td>\n",
       "    </tr>\n",
       "    <tr>\n",
       "      <th>9</th>\n",
       "      <td>alcohol</td>\n",
       "      <td>0.114116</td>\n",
       "    </tr>\n",
       "    <tr>\n",
       "      <th>0</th>\n",
       "      <td>fixed_acidity</td>\n",
       "      <td>0.087731</td>\n",
       "    </tr>\n",
       "    <tr>\n",
       "      <th>1</th>\n",
       "      <td>volatile_acidity</td>\n",
       "      <td>0.081758</td>\n",
       "    </tr>\n",
       "    <tr>\n",
       "      <th>5</th>\n",
       "      <td>free_sulfur_dioxide</td>\n",
       "      <td>0.081022</td>\n",
       "    </tr>\n",
       "    <tr>\n",
       "      <th>2</th>\n",
       "      <td>citric_acid</td>\n",
       "      <td>0.078951</td>\n",
       "    </tr>\n",
       "    <tr>\n",
       "      <th>3</th>\n",
       "      <td>residual_sugar</td>\n",
       "      <td>0.045753</td>\n",
       "    </tr>\n",
       "    <tr>\n",
       "      <th>7</th>\n",
       "      <td>density</td>\n",
       "      <td>0.045384</td>\n",
       "    </tr>\n",
       "    <tr>\n",
       "      <th>6</th>\n",
       "      <td>total_sulfur_dioxide</td>\n",
       "      <td>0.040393</td>\n",
       "    </tr>\n",
       "    <tr>\n",
       "      <th>4</th>\n",
       "      <td>chlorides</td>\n",
       "      <td>0.039232</td>\n",
       "    </tr>\n",
       "  </tbody>\n",
       "</table>\n",
       "</div>"
      ],
      "text/plain": [
       "                 feature  importance\n",
       "10                    ph    0.249580\n",
       "8              sulphates    0.136080\n",
       "9                alcohol    0.114116\n",
       "0          fixed_acidity    0.087731\n",
       "1       volatile_acidity    0.081758\n",
       "5    free_sulfur_dioxide    0.081022\n",
       "2            citric_acid    0.078951\n",
       "3         residual_sugar    0.045753\n",
       "7                density    0.045384\n",
       "6   total_sulfur_dioxide    0.040393\n",
       "4              chlorides    0.039232"
      ]
     },
     "execution_count": 128,
     "metadata": {},
     "output_type": "execute_result"
    }
   ],
   "source": [
    "importance = model3.feature_importances_\n",
    "columns = X.columns\n",
    "import_df = pd.DataFrame({'feature':columns, 'importance':importance})\n",
    "import_df = import_df.sort_values([\"importance\"], ascending=False)\n",
    "import_df"
   ]
  },
  {
   "cell_type": "markdown",
   "id": "bb43ede4",
   "metadata": {},
   "source": [
    "## Random Forest Classifier\n",
    "_Benefits_ - Less prone to overfitting.  \n",
    "_Limitations_ - Features need to have some predictive power or else they wont work."
   ]
  },
  {
   "cell_type": "code",
   "execution_count": 129,
   "id": "d94f9727",
   "metadata": {},
   "outputs": [],
   "source": [
    "model4 = RandomForestClassifier(n_estimators=128,random_state=7) "
   ]
  },
  {
   "cell_type": "code",
   "execution_count": 130,
   "id": "7afa0efe",
   "metadata": {},
   "outputs": [],
   "source": [
    "model4 = model4.fit(X_train, y_train)"
   ]
  },
  {
   "cell_type": "code",
   "execution_count": 131,
   "id": "4ca885c5",
   "metadata": {},
   "outputs": [],
   "source": [
    "y_pred4 = model4.predict(X_test)"
   ]
  },
  {
   "cell_type": "code",
   "execution_count": 132,
   "id": "b4b8b820",
   "metadata": {},
   "outputs": [
    {
     "name": "stdout",
     "output_type": "stream",
     "text": [
      "[[333  16]\n",
      " [ 25  26]]\n"
     ]
    }
   ],
   "source": [
    "matrix4 = confusion_matrix(y_test, y_pred4)\n",
    "print(matrix4)"
   ]
  },
  {
   "cell_type": "code",
   "execution_count": 133,
   "id": "ee26cfa3",
   "metadata": {},
   "outputs": [
    {
     "name": "stdout",
     "output_type": "stream",
     "text": [
      "              precision    recall  f1-score   support\n",
      "\n",
      "           0       0.93      0.95      0.94       349\n",
      "           1       0.62      0.51      0.56        51\n",
      "\n",
      "    accuracy                           0.90       400\n",
      "   macro avg       0.77      0.73      0.75       400\n",
      "weighted avg       0.89      0.90      0.89       400\n",
      "\n"
     ]
    }
   ],
   "source": [
    "report4 = classification_report(y_test, y_pred4)\n",
    "print(report4)"
   ]
  },
  {
   "cell_type": "code",
   "execution_count": 134,
   "id": "ac370c7e",
   "metadata": {},
   "outputs": [
    {
     "data": {
      "text/plain": [
       "0.8975"
      ]
     },
     "execution_count": 134,
     "metadata": {},
     "output_type": "execute_result"
    }
   ],
   "source": [
    "accuracy_score(y_test, y_pred4)"
   ]
  },
  {
   "cell_type": "code",
   "execution_count": 135,
   "id": "6dc2790e",
   "metadata": {},
   "outputs": [
    {
     "data": {
      "text/html": [
       "<div>\n",
       "<style scoped>\n",
       "    .dataframe tbody tr th:only-of-type {\n",
       "        vertical-align: middle;\n",
       "    }\n",
       "\n",
       "    .dataframe tbody tr th {\n",
       "        vertical-align: top;\n",
       "    }\n",
       "\n",
       "    .dataframe thead th {\n",
       "        text-align: right;\n",
       "    }\n",
       "</style>\n",
       "<table border=\"1\" class=\"dataframe\">\n",
       "  <thead>\n",
       "    <tr style=\"text-align: right;\">\n",
       "      <th></th>\n",
       "      <th>feature</th>\n",
       "      <th>importance</th>\n",
       "    </tr>\n",
       "  </thead>\n",
       "  <tbody>\n",
       "    <tr>\n",
       "      <th>10</th>\n",
       "      <td>ph</td>\n",
       "      <td>0.169798</td>\n",
       "    </tr>\n",
       "    <tr>\n",
       "      <th>1</th>\n",
       "      <td>volatile_acidity</td>\n",
       "      <td>0.120064</td>\n",
       "    </tr>\n",
       "    <tr>\n",
       "      <th>9</th>\n",
       "      <td>alcohol</td>\n",
       "      <td>0.112396</td>\n",
       "    </tr>\n",
       "    <tr>\n",
       "      <th>7</th>\n",
       "      <td>density</td>\n",
       "      <td>0.092389</td>\n",
       "    </tr>\n",
       "    <tr>\n",
       "      <th>6</th>\n",
       "      <td>total_sulfur_dioxide</td>\n",
       "      <td>0.083003</td>\n",
       "    </tr>\n",
       "    <tr>\n",
       "      <th>2</th>\n",
       "      <td>citric_acid</td>\n",
       "      <td>0.079479</td>\n",
       "    </tr>\n",
       "    <tr>\n",
       "      <th>0</th>\n",
       "      <td>fixed_acidity</td>\n",
       "      <td>0.075408</td>\n",
       "    </tr>\n",
       "    <tr>\n",
       "      <th>4</th>\n",
       "      <td>chlorides</td>\n",
       "      <td>0.072150</td>\n",
       "    </tr>\n",
       "    <tr>\n",
       "      <th>3</th>\n",
       "      <td>residual_sugar</td>\n",
       "      <td>0.071893</td>\n",
       "    </tr>\n",
       "    <tr>\n",
       "      <th>8</th>\n",
       "      <td>sulphates</td>\n",
       "      <td>0.062759</td>\n",
       "    </tr>\n",
       "    <tr>\n",
       "      <th>5</th>\n",
       "      <td>free_sulfur_dioxide</td>\n",
       "      <td>0.060662</td>\n",
       "    </tr>\n",
       "  </tbody>\n",
       "</table>\n",
       "</div>"
      ],
      "text/plain": [
       "                 feature  importance\n",
       "10                    ph    0.169798\n",
       "1       volatile_acidity    0.120064\n",
       "9                alcohol    0.112396\n",
       "7                density    0.092389\n",
       "6   total_sulfur_dioxide    0.083003\n",
       "2            citric_acid    0.079479\n",
       "0          fixed_acidity    0.075408\n",
       "4              chlorides    0.072150\n",
       "3         residual_sugar    0.071893\n",
       "8              sulphates    0.062759\n",
       "5    free_sulfur_dioxide    0.060662"
      ]
     },
     "execution_count": 135,
     "metadata": {},
     "output_type": "execute_result"
    }
   ],
   "source": [
    "importance = model4.feature_importances_\n",
    "columns = X.columns\n",
    "import_df = pd.DataFrame({'feature':columns, 'importance':importance})\n",
    "import_df = import_df.sort_values([\"importance\"], ascending=False)\n",
    "import_df"
   ]
  },
  {
   "cell_type": "markdown",
   "id": "7f2dbc3a",
   "metadata": {},
   "source": [
    "## Gradient Boosted Tree\n",
    "_Benefits_ - Often provides more predictive accuracy. Lots of flexibility. No data pre-processing required. \n",
    "\n",
    "_Limitations_ - Training generally takes longer. It will continue improving to minimize all errors. This can overemphasize outliers and cause overfitting."
   ]
  },
  {
   "cell_type": "code",
   "execution_count": 136,
   "id": "309d6165",
   "metadata": {},
   "outputs": [
    {
     "name": "stdout",
     "output_type": "stream",
     "text": [
      "Learning rate:  0.05\n",
      "Accuracy score (training): 0.887\n",
      "Accuracy score (validation): 0.880\n",
      "\n",
      "Learning rate:  0.1\n",
      "Accuracy score (training): 0.914\n",
      "Accuracy score (validation): 0.882\n",
      "\n",
      "Learning rate:  0.25\n",
      "Accuracy score (training): 0.944\n",
      "Accuracy score (validation): 0.882\n",
      "\n",
      "Learning rate:  0.5\n",
      "Accuracy score (training): 0.959\n",
      "Accuracy score (validation): 0.892\n",
      "\n",
      "Learning rate:  0.75\n",
      "Accuracy score (training): 0.973\n",
      "Accuracy score (validation): 0.865\n",
      "\n",
      "Learning rate:  1\n",
      "Accuracy score (training): 0.973\n",
      "Accuracy score (validation): 0.858\n",
      "\n"
     ]
    }
   ],
   "source": [
    "# Create a classifier object\n",
    "learning_rates = [0.05, 0.1, 0.25, 0.5, 0.75, 1]\n",
    "for learning_rate in learning_rates:\n",
    "    classifier = GradientBoostingClassifier(n_estimators=20,\n",
    "                                            learning_rate=learning_rate,\n",
    "                                            max_features=5,\n",
    "                                            max_depth=3,\n",
    "                                            random_state=0)\n",
    "\n",
    "    # Fit the model\n",
    "    classifier.fit(X_train, y_train)\n",
    "    print(\"Learning rate: \", learning_rate)\n",
    "\n",
    "    # Score the model\n",
    "    print(\"Accuracy score (training): {0:.3f}\".format(\n",
    "        classifier.score(\n",
    "            X_train,\n",
    "            y_train)))\n",
    "    print(\"Accuracy score (validation): {0:.3f}\".format(\n",
    "        classifier.score(\n",
    "            X_test,\n",
    "            y_test)))\n",
    "    print()"
   ]
  },
  {
   "cell_type": "markdown",
   "id": "70e89e54",
   "metadata": {},
   "source": [
    "#### Choose the learning_rate based on highest Accuracy score = 0.5"
   ]
  },
  {
   "cell_type": "code",
   "execution_count": 137,
   "id": "1553d353",
   "metadata": {},
   "outputs": [],
   "source": [
    "model5 = GradientBoostingClassifier(n_estimators=20,\n",
    "   learning_rate=0.5, max_features=10, max_depth=3, random_state=7)"
   ]
  },
  {
   "cell_type": "code",
   "execution_count": 138,
   "id": "e320df6c",
   "metadata": {},
   "outputs": [],
   "source": [
    "model5 = model5.fit(X_train, y_train)"
   ]
  },
  {
   "cell_type": "code",
   "execution_count": 139,
   "id": "0e5da8bb",
   "metadata": {},
   "outputs": [],
   "source": [
    "y_pred5 = model5.predict(X_test)"
   ]
  },
  {
   "cell_type": "code",
   "execution_count": 140,
   "id": "c44163f1",
   "metadata": {},
   "outputs": [
    {
     "name": "stdout",
     "output_type": "stream",
     "text": [
      "[[332  17]\n",
      " [ 29  22]]\n"
     ]
    }
   ],
   "source": [
    "matrix5 = confusion_matrix(y_test, y_pred5)\n",
    "print(matrix5)"
   ]
  },
  {
   "cell_type": "code",
   "execution_count": 141,
   "id": "23b43844",
   "metadata": {},
   "outputs": [
    {
     "name": "stdout",
     "output_type": "stream",
     "text": [
      "              precision    recall  f1-score   support\n",
      "\n",
      "           0       0.92      0.95      0.94       349\n",
      "           1       0.56      0.43      0.49        51\n",
      "\n",
      "    accuracy                           0.89       400\n",
      "   macro avg       0.74      0.69      0.71       400\n",
      "weighted avg       0.87      0.89      0.88       400\n",
      "\n"
     ]
    }
   ],
   "source": [
    "report5 = classification_report(y_test, y_pred5)\n",
    "print(report5)"
   ]
  },
  {
   "cell_type": "code",
   "execution_count": 142,
   "id": "5b70cdb0",
   "metadata": {},
   "outputs": [
    {
     "data": {
      "text/plain": [
       "0.885"
      ]
     },
     "execution_count": 142,
     "metadata": {},
     "output_type": "execute_result"
    }
   ],
   "source": [
    "accuracy_score(y_test, y_pred5)"
   ]
  },
  {
   "cell_type": "code",
   "execution_count": 143,
   "id": "2f46bbe3",
   "metadata": {},
   "outputs": [
    {
     "data": {
      "text/html": [
       "<div>\n",
       "<style scoped>\n",
       "    .dataframe tbody tr th:only-of-type {\n",
       "        vertical-align: middle;\n",
       "    }\n",
       "\n",
       "    .dataframe tbody tr th {\n",
       "        vertical-align: top;\n",
       "    }\n",
       "\n",
       "    .dataframe thead th {\n",
       "        text-align: right;\n",
       "    }\n",
       "</style>\n",
       "<table border=\"1\" class=\"dataframe\">\n",
       "  <thead>\n",
       "    <tr style=\"text-align: right;\">\n",
       "      <th></th>\n",
       "      <th>feature</th>\n",
       "      <th>importance</th>\n",
       "    </tr>\n",
       "  </thead>\n",
       "  <tbody>\n",
       "    <tr>\n",
       "      <th>10</th>\n",
       "      <td>ph</td>\n",
       "      <td>0.306515</td>\n",
       "    </tr>\n",
       "    <tr>\n",
       "      <th>6</th>\n",
       "      <td>total_sulfur_dioxide</td>\n",
       "      <td>0.131908</td>\n",
       "    </tr>\n",
       "    <tr>\n",
       "      <th>9</th>\n",
       "      <td>alcohol</td>\n",
       "      <td>0.126080</td>\n",
       "    </tr>\n",
       "    <tr>\n",
       "      <th>1</th>\n",
       "      <td>volatile_acidity</td>\n",
       "      <td>0.122331</td>\n",
       "    </tr>\n",
       "    <tr>\n",
       "      <th>5</th>\n",
       "      <td>free_sulfur_dioxide</td>\n",
       "      <td>0.097373</td>\n",
       "    </tr>\n",
       "    <tr>\n",
       "      <th>3</th>\n",
       "      <td>residual_sugar</td>\n",
       "      <td>0.054741</td>\n",
       "    </tr>\n",
       "    <tr>\n",
       "      <th>4</th>\n",
       "      <td>chlorides</td>\n",
       "      <td>0.045010</td>\n",
       "    </tr>\n",
       "    <tr>\n",
       "      <th>2</th>\n",
       "      <td>citric_acid</td>\n",
       "      <td>0.040504</td>\n",
       "    </tr>\n",
       "    <tr>\n",
       "      <th>7</th>\n",
       "      <td>density</td>\n",
       "      <td>0.038264</td>\n",
       "    </tr>\n",
       "    <tr>\n",
       "      <th>8</th>\n",
       "      <td>sulphates</td>\n",
       "      <td>0.018796</td>\n",
       "    </tr>\n",
       "    <tr>\n",
       "      <th>0</th>\n",
       "      <td>fixed_acidity</td>\n",
       "      <td>0.018480</td>\n",
       "    </tr>\n",
       "  </tbody>\n",
       "</table>\n",
       "</div>"
      ],
      "text/plain": [
       "                 feature  importance\n",
       "10                    ph    0.306515\n",
       "6   total_sulfur_dioxide    0.131908\n",
       "9                alcohol    0.126080\n",
       "1       volatile_acidity    0.122331\n",
       "5    free_sulfur_dioxide    0.097373\n",
       "3         residual_sugar    0.054741\n",
       "4              chlorides    0.045010\n",
       "2            citric_acid    0.040504\n",
       "7                density    0.038264\n",
       "8              sulphates    0.018796\n",
       "0          fixed_acidity    0.018480"
      ]
     },
     "execution_count": 143,
     "metadata": {},
     "output_type": "execute_result"
    }
   ],
   "source": [
    "importance = model5.feature_importances_\n",
    "columns = X.columns\n",
    "import_df = pd.DataFrame({'feature':columns, 'importance':importance})\n",
    "import_df = import_df.sort_values([\"importance\"], ascending=False)\n",
    "import_df"
   ]
  },
  {
   "cell_type": "markdown",
   "id": "6e7dae7c",
   "metadata": {},
   "source": [
    "### The next 3 models use oversampling and undersampling because of imbalanced sample sizes."
   ]
  },
  {
   "cell_type": "markdown",
   "id": "dac51f3c",
   "metadata": {},
   "source": [
    "## Random Over Sampling\n",
    "\n",
    "_Benefits_ - Randomly duplicate examples in the minority class. This makes it simple to implement and fast to execute. \n",
    "\n",
    "_Limitations_ - Increase in training time for the classifier and can lead to model overfitting."
   ]
  },
  {
   "cell_type": "code",
   "execution_count": 144,
   "id": "0fcd6f90",
   "metadata": {},
   "outputs": [],
   "source": [
    "ros = RandomOverSampler(random_state=7)"
   ]
  },
  {
   "cell_type": "code",
   "execution_count": 145,
   "id": "20db70e7",
   "metadata": {},
   "outputs": [
    {
     "data": {
      "text/plain": [
       "Counter({0: 1033, 1: 166})"
      ]
     },
     "execution_count": 145,
     "metadata": {},
     "output_type": "execute_result"
    }
   ],
   "source": [
    "Counter(y_train)"
   ]
  },
  {
   "cell_type": "code",
   "execution_count": 146,
   "id": "ae81dd54",
   "metadata": {},
   "outputs": [],
   "source": [
    "X_resampled, y_resampled = ros.fit_resample(X_train, y_train)"
   ]
  },
  {
   "cell_type": "markdown",
   "id": "ba440f85",
   "metadata": {},
   "source": [
    "#### New balanced sample sizes"
   ]
  },
  {
   "cell_type": "code",
   "execution_count": 147,
   "id": "2e7bbdf3",
   "metadata": {},
   "outputs": [
    {
     "data": {
      "text/plain": [
       "Counter({0: 1033, 1: 1033})"
      ]
     },
     "execution_count": 147,
     "metadata": {},
     "output_type": "execute_result"
    }
   ],
   "source": [
    "Counter(y_resampled)"
   ]
  },
  {
   "cell_type": "code",
   "execution_count": 148,
   "id": "75b1c442",
   "metadata": {},
   "outputs": [],
   "source": [
    "# Train the Logistic Regression model using the resampled data\n",
    "model6 = LogisticRegression(solver='lbfgs', random_state=7)"
   ]
  },
  {
   "cell_type": "code",
   "execution_count": 149,
   "id": "51276ed3",
   "metadata": {},
   "outputs": [
    {
     "data": {
      "text/plain": [
       "LogisticRegression(random_state=7)"
      ]
     },
     "execution_count": 149,
     "metadata": {},
     "output_type": "execute_result"
    }
   ],
   "source": [
    "model6.fit(X_resampled, y_resampled)"
   ]
  },
  {
   "cell_type": "code",
   "execution_count": 150,
   "id": "fe5a4cfc",
   "metadata": {},
   "outputs": [],
   "source": [
    "y_pred6 = model6.predict(X_test)"
   ]
  },
  {
   "cell_type": "code",
   "execution_count": 151,
   "id": "c7f68a69",
   "metadata": {},
   "outputs": [
    {
     "name": "stdout",
     "output_type": "stream",
     "text": [
      "0.8306365526153154\n"
     ]
    }
   ],
   "source": [
    "print(balanced_accuracy_score(y_test, y_pred6))"
   ]
  },
  {
   "cell_type": "code",
   "execution_count": 152,
   "id": "6fb771dd",
   "metadata": {},
   "outputs": [
    {
     "data": {
      "text/plain": [
       "array([[265,  84],\n",
       "       [  5,  46]], dtype=int64)"
      ]
     },
     "execution_count": 152,
     "metadata": {},
     "output_type": "execute_result"
    }
   ],
   "source": [
    "confusion_matrix(y_test, y_pred6)"
   ]
  },
  {
   "cell_type": "code",
   "execution_count": 153,
   "id": "c5c8e15a",
   "metadata": {},
   "outputs": [
    {
     "name": "stdout",
     "output_type": "stream",
     "text": [
      "                   pre       rec       spe        f1       geo       iba       sup\n",
      "\n",
      "          0       0.98      0.76      0.90      0.86      0.83      0.68       349\n",
      "          1       0.35      0.90      0.76      0.51      0.83      0.69        51\n",
      "\n",
      "avg / total       0.90      0.78      0.88      0.81      0.83      0.68       400\n",
      "\n"
     ]
    }
   ],
   "source": [
    "report6 = classification_report_imbalanced(y_test, y_pred6)\n",
    "print(report6)"
   ]
  },
  {
   "cell_type": "code",
   "execution_count": 154,
   "id": "d09601e5",
   "metadata": {},
   "outputs": [
    {
     "data": {
      "text/html": [
       "<div>\n",
       "<style scoped>\n",
       "    .dataframe tbody tr th:only-of-type {\n",
       "        vertical-align: middle;\n",
       "    }\n",
       "\n",
       "    .dataframe tbody tr th {\n",
       "        vertical-align: top;\n",
       "    }\n",
       "\n",
       "    .dataframe thead th {\n",
       "        text-align: right;\n",
       "    }\n",
       "</style>\n",
       "<table border=\"1\" class=\"dataframe\">\n",
       "  <thead>\n",
       "    <tr style=\"text-align: right;\">\n",
       "      <th></th>\n",
       "      <th>feature</th>\n",
       "      <th>importance</th>\n",
       "    </tr>\n",
       "  </thead>\n",
       "  <tbody>\n",
       "    <tr>\n",
       "      <th>10</th>\n",
       "      <td>ph</td>\n",
       "      <td>0.942781</td>\n",
       "    </tr>\n",
       "    <tr>\n",
       "      <th>0</th>\n",
       "      <td>fixed_acidity</td>\n",
       "      <td>0.898591</td>\n",
       "    </tr>\n",
       "    <tr>\n",
       "      <th>9</th>\n",
       "      <td>alcohol</td>\n",
       "      <td>0.602835</td>\n",
       "    </tr>\n",
       "    <tr>\n",
       "      <th>3</th>\n",
       "      <td>residual_sugar</td>\n",
       "      <td>0.427579</td>\n",
       "    </tr>\n",
       "    <tr>\n",
       "      <th>5</th>\n",
       "      <td>free_sulfur_dioxide</td>\n",
       "      <td>0.091059</td>\n",
       "    </tr>\n",
       "    <tr>\n",
       "      <th>8</th>\n",
       "      <td>sulphates</td>\n",
       "      <td>0.035186</td>\n",
       "    </tr>\n",
       "    <tr>\n",
       "      <th>4</th>\n",
       "      <td>chlorides</td>\n",
       "      <td>-0.188786</td>\n",
       "    </tr>\n",
       "    <tr>\n",
       "      <th>2</th>\n",
       "      <td>citric_acid</td>\n",
       "      <td>-0.202176</td>\n",
       "    </tr>\n",
       "    <tr>\n",
       "      <th>6</th>\n",
       "      <td>total_sulfur_dioxide</td>\n",
       "      <td>-0.469851</td>\n",
       "    </tr>\n",
       "    <tr>\n",
       "      <th>1</th>\n",
       "      <td>volatile_acidity</td>\n",
       "      <td>-0.499269</td>\n",
       "    </tr>\n",
       "    <tr>\n",
       "      <th>7</th>\n",
       "      <td>density</td>\n",
       "      <td>-0.765585</td>\n",
       "    </tr>\n",
       "  </tbody>\n",
       "</table>\n",
       "</div>"
      ],
      "text/plain": [
       "                 feature  importance\n",
       "10                    ph    0.942781\n",
       "0          fixed_acidity    0.898591\n",
       "9                alcohol    0.602835\n",
       "3         residual_sugar    0.427579\n",
       "5    free_sulfur_dioxide    0.091059\n",
       "8              sulphates    0.035186\n",
       "4              chlorides   -0.188786\n",
       "2            citric_acid   -0.202176\n",
       "6   total_sulfur_dioxide   -0.469851\n",
       "1       volatile_acidity   -0.499269\n",
       "7                density   -0.765585"
      ]
     },
     "execution_count": 154,
     "metadata": {},
     "output_type": "execute_result"
    }
   ],
   "source": [
    "importance = model6.coef_[0]\n",
    "columns = X.columns\n",
    "import_df = pd.DataFrame({'feature':columns, 'importance':importance})\n",
    "import_df = import_df.sort_values([\"importance\"], ascending=False)\n",
    "import_df"
   ]
  },
  {
   "cell_type": "markdown",
   "id": "fd424a23",
   "metadata": {},
   "source": [
    "## SMOTE (Synthetic Minority Over-sampling Technique) oversampling\n",
    "\n",
    "_Benefits_ -  Less likely to overfit. Seems to work well with low dimensional data. \n",
    "\n",
    "_Limitations_ - SMOTE does not take into consideration neighboring examples can be from other classes. This can increase the overlapping of classes and can introduce additional noise."
   ]
  },
  {
   "cell_type": "code",
   "execution_count": 155,
   "id": "c7a5e887",
   "metadata": {},
   "outputs": [],
   "source": [
    "X_resampled, y_resampled = SMOTE(random_state=7,sampling_strategy='auto').fit_resample(\n",
    "   X_train, y_train)"
   ]
  },
  {
   "cell_type": "markdown",
   "id": "fa36a1a3",
   "metadata": {},
   "source": [
    "#### New balanced sample sizes"
   ]
  },
  {
   "cell_type": "code",
   "execution_count": 156,
   "id": "6fc1e5df",
   "metadata": {},
   "outputs": [
    {
     "data": {
      "text/plain": [
       "Counter({0: 1033, 1: 1033})"
      ]
     },
     "execution_count": 156,
     "metadata": {},
     "output_type": "execute_result"
    }
   ],
   "source": [
    "Counter(y_resampled)"
   ]
  },
  {
   "cell_type": "code",
   "execution_count": 157,
   "id": "8036801c",
   "metadata": {},
   "outputs": [
    {
     "data": {
      "text/plain": [
       "LogisticRegression(random_state=7)"
      ]
     },
     "execution_count": 157,
     "metadata": {},
     "output_type": "execute_result"
    }
   ],
   "source": [
    "model7 = LogisticRegression(solver='lbfgs', random_state=7)\n",
    "model7.fit(X_resampled, y_resampled)"
   ]
  },
  {
   "cell_type": "code",
   "execution_count": 158,
   "id": "f2d35fa4",
   "metadata": {},
   "outputs": [
    {
     "data": {
      "text/plain": [
       "0.8447384684532839"
      ]
     },
     "execution_count": 158,
     "metadata": {},
     "output_type": "execute_result"
    }
   ],
   "source": [
    "y_pred7 = model7.predict(X_test)\n",
    "balanced_accuracy_score(y_test, y_pred7)"
   ]
  },
  {
   "cell_type": "code",
   "execution_count": 159,
   "id": "f1e99610",
   "metadata": {},
   "outputs": [
    {
     "data": {
      "text/plain": [
       "array([[268,  81],\n",
       "       [  4,  47]], dtype=int64)"
      ]
     },
     "execution_count": 159,
     "metadata": {},
     "output_type": "execute_result"
    }
   ],
   "source": [
    "confusion_matrix(y_test, y_pred7)"
   ]
  },
  {
   "cell_type": "code",
   "execution_count": 160,
   "id": "39cd9e0f",
   "metadata": {},
   "outputs": [
    {
     "name": "stdout",
     "output_type": "stream",
     "text": [
      "                   pre       rec       spe        f1       geo       iba       sup\n",
      "\n",
      "          0       0.99      0.77      0.92      0.86      0.84      0.70       349\n",
      "          1       0.37      0.92      0.77      0.53      0.84      0.72        51\n",
      "\n",
      "avg / total       0.91      0.79      0.90      0.82      0.84      0.70       400\n",
      "\n"
     ]
    }
   ],
   "source": [
    "report7 = classification_report_imbalanced(y_test, y_pred7)\n",
    "print(report7)"
   ]
  },
  {
   "cell_type": "code",
   "execution_count": 161,
   "id": "036228d8",
   "metadata": {},
   "outputs": [
    {
     "data": {
      "text/html": [
       "<div>\n",
       "<style scoped>\n",
       "    .dataframe tbody tr th:only-of-type {\n",
       "        vertical-align: middle;\n",
       "    }\n",
       "\n",
       "    .dataframe tbody tr th {\n",
       "        vertical-align: top;\n",
       "    }\n",
       "\n",
       "    .dataframe thead th {\n",
       "        text-align: right;\n",
       "    }\n",
       "</style>\n",
       "<table border=\"1\" class=\"dataframe\">\n",
       "  <thead>\n",
       "    <tr style=\"text-align: right;\">\n",
       "      <th></th>\n",
       "      <th>feature</th>\n",
       "      <th>importance</th>\n",
       "    </tr>\n",
       "  </thead>\n",
       "  <tbody>\n",
       "    <tr>\n",
       "      <th>10</th>\n",
       "      <td>ph</td>\n",
       "      <td>1.072563</td>\n",
       "    </tr>\n",
       "    <tr>\n",
       "      <th>0</th>\n",
       "      <td>fixed_acidity</td>\n",
       "      <td>0.808048</td>\n",
       "    </tr>\n",
       "    <tr>\n",
       "      <th>9</th>\n",
       "      <td>alcohol</td>\n",
       "      <td>0.615908</td>\n",
       "    </tr>\n",
       "    <tr>\n",
       "      <th>3</th>\n",
       "      <td>residual_sugar</td>\n",
       "      <td>0.376058</td>\n",
       "    </tr>\n",
       "    <tr>\n",
       "      <th>5</th>\n",
       "      <td>free_sulfur_dioxide</td>\n",
       "      <td>0.178504</td>\n",
       "    </tr>\n",
       "    <tr>\n",
       "      <th>8</th>\n",
       "      <td>sulphates</td>\n",
       "      <td>-0.049215</td>\n",
       "    </tr>\n",
       "    <tr>\n",
       "      <th>2</th>\n",
       "      <td>citric_acid</td>\n",
       "      <td>-0.287617</td>\n",
       "    </tr>\n",
       "    <tr>\n",
       "      <th>4</th>\n",
       "      <td>chlorides</td>\n",
       "      <td>-0.499886</td>\n",
       "    </tr>\n",
       "    <tr>\n",
       "      <th>7</th>\n",
       "      <td>density</td>\n",
       "      <td>-0.555367</td>\n",
       "    </tr>\n",
       "    <tr>\n",
       "      <th>1</th>\n",
       "      <td>volatile_acidity</td>\n",
       "      <td>-0.572576</td>\n",
       "    </tr>\n",
       "    <tr>\n",
       "      <th>6</th>\n",
       "      <td>total_sulfur_dioxide</td>\n",
       "      <td>-0.606538</td>\n",
       "    </tr>\n",
       "  </tbody>\n",
       "</table>\n",
       "</div>"
      ],
      "text/plain": [
       "                 feature  importance\n",
       "10                    ph    1.072563\n",
       "0          fixed_acidity    0.808048\n",
       "9                alcohol    0.615908\n",
       "3         residual_sugar    0.376058\n",
       "5    free_sulfur_dioxide    0.178504\n",
       "8              sulphates   -0.049215\n",
       "2            citric_acid   -0.287617\n",
       "4              chlorides   -0.499886\n",
       "7                density   -0.555367\n",
       "1       volatile_acidity   -0.572576\n",
       "6   total_sulfur_dioxide   -0.606538"
      ]
     },
     "execution_count": 161,
     "metadata": {},
     "output_type": "execute_result"
    }
   ],
   "source": [
    "importance = model7.coef_[0]\n",
    "columns = X.columns\n",
    "import_df = pd.DataFrame({'feature':columns, 'importance':importance})\n",
    "import_df = import_df.sort_values([\"importance\"], ascending=False)\n",
    "import_df"
   ]
  },
  {
   "cell_type": "markdown",
   "id": "2f26e624",
   "metadata": {},
   "source": [
    "## Cluster Centroid Undersampling\n",
    "\n",
    "_Benefits_ - Less likely to overfit. \n",
    "\n",
    "_Limitations_ - The result of the analysis may be less accurate."
   ]
  },
  {
   "cell_type": "code",
   "execution_count": 162,
   "id": "d3c2f53b",
   "metadata": {},
   "outputs": [],
   "source": [
    "cc = ClusterCentroids(random_state=7)"
   ]
  },
  {
   "cell_type": "code",
   "execution_count": 163,
   "id": "487b8537",
   "metadata": {},
   "outputs": [],
   "source": [
    "X_resampled, y_resampled = cc.fit_resample(X_train, y_train)"
   ]
  },
  {
   "cell_type": "code",
   "execution_count": 164,
   "id": "79349d0f",
   "metadata": {},
   "outputs": [
    {
     "data": {
      "text/plain": [
       "Counter({0: 166, 1: 166})"
      ]
     },
     "execution_count": 164,
     "metadata": {},
     "output_type": "execute_result"
    }
   ],
   "source": [
    "Counter(y_resampled)"
   ]
  },
  {
   "cell_type": "code",
   "execution_count": 165,
   "id": "629fbfdc",
   "metadata": {},
   "outputs": [
    {
     "data": {
      "text/plain": [
       "LogisticRegression(max_iter=1000, random_state=7)"
      ]
     },
     "execution_count": 165,
     "metadata": {},
     "output_type": "execute_result"
    }
   ],
   "source": [
    "model8 = LogisticRegression(solver='lbfgs', random_state=7, max_iter=1000)\n",
    "model8.fit(X_resampled, y_resampled)"
   ]
  },
  {
   "cell_type": "code",
   "execution_count": 166,
   "id": "ac4fa67b",
   "metadata": {},
   "outputs": [],
   "source": [
    "y_pred8 = model8.predict(X_test)"
   ]
  },
  {
   "cell_type": "code",
   "execution_count": 167,
   "id": "8eb49e81",
   "metadata": {},
   "outputs": [
    {
     "data": {
      "text/plain": [
       "0.8165346367773471"
      ]
     },
     "execution_count": 167,
     "metadata": {},
     "output_type": "execute_result"
    }
   ],
   "source": [
    "balanced_accuracy_score(y_test, y_pred8)"
   ]
  },
  {
   "cell_type": "code",
   "execution_count": 168,
   "id": "169b871f",
   "metadata": {},
   "outputs": [
    {
     "data": {
      "text/plain": [
       "array([[262,  87],\n",
       "       [  6,  45]], dtype=int64)"
      ]
     },
     "execution_count": 168,
     "metadata": {},
     "output_type": "execute_result"
    }
   ],
   "source": [
    "confusion_matrix(y_test, y_pred8)"
   ]
  },
  {
   "cell_type": "code",
   "execution_count": 169,
   "id": "6e58aff5",
   "metadata": {},
   "outputs": [
    {
     "name": "stdout",
     "output_type": "stream",
     "text": [
      "                   pre       rec       spe        f1       geo       iba       sup\n",
      "\n",
      "          0       0.98      0.75      0.88      0.85      0.81      0.65       349\n",
      "          1       0.34      0.88      0.75      0.49      0.81      0.67        51\n",
      "\n",
      "avg / total       0.90      0.77      0.87      0.80      0.81      0.66       400\n",
      "\n"
     ]
    }
   ],
   "source": [
    "report8 = classification_report_imbalanced(y_test, y_pred8)\n",
    "print(report8)"
   ]
  },
  {
   "cell_type": "code",
   "execution_count": 170,
   "id": "5c0a32e5",
   "metadata": {},
   "outputs": [
    {
     "data": {
      "text/html": [
       "<div>\n",
       "<style scoped>\n",
       "    .dataframe tbody tr th:only-of-type {\n",
       "        vertical-align: middle;\n",
       "    }\n",
       "\n",
       "    .dataframe tbody tr th {\n",
       "        vertical-align: top;\n",
       "    }\n",
       "\n",
       "    .dataframe thead th {\n",
       "        text-align: right;\n",
       "    }\n",
       "</style>\n",
       "<table border=\"1\" class=\"dataframe\">\n",
       "  <thead>\n",
       "    <tr style=\"text-align: right;\">\n",
       "      <th></th>\n",
       "      <th>feature</th>\n",
       "      <th>importance</th>\n",
       "    </tr>\n",
       "  </thead>\n",
       "  <tbody>\n",
       "    <tr>\n",
       "      <th>10</th>\n",
       "      <td>ph</td>\n",
       "      <td>0.983138</td>\n",
       "    </tr>\n",
       "    <tr>\n",
       "      <th>0</th>\n",
       "      <td>fixed_acidity</td>\n",
       "      <td>0.470870</td>\n",
       "    </tr>\n",
       "    <tr>\n",
       "      <th>9</th>\n",
       "      <td>alcohol</td>\n",
       "      <td>0.286890</td>\n",
       "    </tr>\n",
       "    <tr>\n",
       "      <th>5</th>\n",
       "      <td>free_sulfur_dioxide</td>\n",
       "      <td>0.021236</td>\n",
       "    </tr>\n",
       "    <tr>\n",
       "      <th>3</th>\n",
       "      <td>residual_sugar</td>\n",
       "      <td>0.004180</td>\n",
       "    </tr>\n",
       "    <tr>\n",
       "      <th>8</th>\n",
       "      <td>sulphates</td>\n",
       "      <td>-0.208731</td>\n",
       "    </tr>\n",
       "    <tr>\n",
       "      <th>7</th>\n",
       "      <td>density</td>\n",
       "      <td>-0.248779</td>\n",
       "    </tr>\n",
       "    <tr>\n",
       "      <th>2</th>\n",
       "      <td>citric_acid</td>\n",
       "      <td>-0.332573</td>\n",
       "    </tr>\n",
       "    <tr>\n",
       "      <th>6</th>\n",
       "      <td>total_sulfur_dioxide</td>\n",
       "      <td>-0.396660</td>\n",
       "    </tr>\n",
       "    <tr>\n",
       "      <th>4</th>\n",
       "      <td>chlorides</td>\n",
       "      <td>-0.491394</td>\n",
       "    </tr>\n",
       "    <tr>\n",
       "      <th>1</th>\n",
       "      <td>volatile_acidity</td>\n",
       "      <td>-0.606586</td>\n",
       "    </tr>\n",
       "  </tbody>\n",
       "</table>\n",
       "</div>"
      ],
      "text/plain": [
       "                 feature  importance\n",
       "10                    ph    0.983138\n",
       "0          fixed_acidity    0.470870\n",
       "9                alcohol    0.286890\n",
       "5    free_sulfur_dioxide    0.021236\n",
       "3         residual_sugar    0.004180\n",
       "8              sulphates   -0.208731\n",
       "7                density   -0.248779\n",
       "2            citric_acid   -0.332573\n",
       "6   total_sulfur_dioxide   -0.396660\n",
       "4              chlorides   -0.491394\n",
       "1       volatile_acidity   -0.606586"
      ]
     },
     "execution_count": 170,
     "metadata": {},
     "output_type": "execute_result"
    }
   ],
   "source": [
    "importance = model8.coef_[0]\n",
    "columns = X.columns\n",
    "import_df = pd.DataFrame({'feature':columns, 'importance':importance})\n",
    "import_df = import_df.sort_values([\"importance\"], ascending=False)\n",
    "import_df"
   ]
  },
  {
   "cell_type": "markdown",
   "id": "a73762b6",
   "metadata": {},
   "source": [
    "##  Balanced Random Forest Classifier\n",
    "_Benefits_ - It reduces overfitting problem in decision trees and also reduces the variance and therefore improves the accuracy. \n",
    "\n",
    "_Limitations_ -  Requires much more computational power and resources. Longer Training Period."
   ]
  },
  {
   "cell_type": "code",
   "execution_count": 171,
   "id": "939a1c2b",
   "metadata": {},
   "outputs": [],
   "source": [
    "brf_model = BalancedRandomForestClassifier(n_estimators=100, random_state=7) "
   ]
  },
  {
   "cell_type": "code",
   "execution_count": 172,
   "id": "a2a58d51",
   "metadata": {},
   "outputs": [],
   "source": [
    "model9 = brf_model.fit(X_train, y_train)"
   ]
  },
  {
   "cell_type": "code",
   "execution_count": 173,
   "id": "8d436130",
   "metadata": {},
   "outputs": [],
   "source": [
    "y_pred9 = model9.predict(X_test)"
   ]
  },
  {
   "cell_type": "code",
   "execution_count": 174,
   "id": "b33b1ad1",
   "metadata": {},
   "outputs": [
    {
     "data": {
      "text/plain": [
       "0.8433058036968368"
      ]
     },
     "execution_count": 174,
     "metadata": {},
     "output_type": "execute_result"
    }
   ],
   "source": [
    "balanced_accuracy_score(y_test, y_pred9)"
   ]
  },
  {
   "cell_type": "code",
   "execution_count": 175,
   "id": "70c80396",
   "metadata": {},
   "outputs": [
    {
     "data": {
      "text/plain": [
       "array([[267,  82],\n",
       "       [  4,  47]], dtype=int64)"
      ]
     },
     "execution_count": 175,
     "metadata": {},
     "output_type": "execute_result"
    }
   ],
   "source": [
    "confusion_matrix(y_test, y_pred9)"
   ]
  },
  {
   "cell_type": "code",
   "execution_count": 176,
   "id": "6214d928",
   "metadata": {},
   "outputs": [
    {
     "name": "stdout",
     "output_type": "stream",
     "text": [
      "                   pre       rec       spe        f1       geo       iba       sup\n",
      "\n",
      "          0       0.99      0.77      0.92      0.86      0.84      0.69       349\n",
      "          1       0.36      0.92      0.77      0.52      0.84      0.72        51\n",
      "\n",
      "avg / total       0.91      0.79      0.90      0.82      0.84      0.70       400\n",
      "\n"
     ]
    }
   ],
   "source": [
    "report9 = classification_report_imbalanced(y_test, y_pred9)\n",
    "print(report9)"
   ]
  },
  {
   "cell_type": "code",
   "execution_count": 177,
   "id": "87102fdc",
   "metadata": {},
   "outputs": [
    {
     "data": {
      "text/html": [
       "<div>\n",
       "<style scoped>\n",
       "    .dataframe tbody tr th:only-of-type {\n",
       "        vertical-align: middle;\n",
       "    }\n",
       "\n",
       "    .dataframe tbody tr th {\n",
       "        vertical-align: top;\n",
       "    }\n",
       "\n",
       "    .dataframe thead th {\n",
       "        text-align: right;\n",
       "    }\n",
       "</style>\n",
       "<table border=\"1\" class=\"dataframe\">\n",
       "  <thead>\n",
       "    <tr style=\"text-align: right;\">\n",
       "      <th></th>\n",
       "      <th>feature</th>\n",
       "      <th>importance</th>\n",
       "    </tr>\n",
       "  </thead>\n",
       "  <tbody>\n",
       "    <tr>\n",
       "      <th>10</th>\n",
       "      <td>ph</td>\n",
       "      <td>0.233499</td>\n",
       "    </tr>\n",
       "    <tr>\n",
       "      <th>1</th>\n",
       "      <td>volatile_acidity</td>\n",
       "      <td>0.128257</td>\n",
       "    </tr>\n",
       "    <tr>\n",
       "      <th>9</th>\n",
       "      <td>alcohol</td>\n",
       "      <td>0.116748</td>\n",
       "    </tr>\n",
       "    <tr>\n",
       "      <th>2</th>\n",
       "      <td>citric_acid</td>\n",
       "      <td>0.083079</td>\n",
       "    </tr>\n",
       "    <tr>\n",
       "      <th>7</th>\n",
       "      <td>density</td>\n",
       "      <td>0.076444</td>\n",
       "    </tr>\n",
       "    <tr>\n",
       "      <th>6</th>\n",
       "      <td>total_sulfur_dioxide</td>\n",
       "      <td>0.074452</td>\n",
       "    </tr>\n",
       "    <tr>\n",
       "      <th>0</th>\n",
       "      <td>fixed_acidity</td>\n",
       "      <td>0.070034</td>\n",
       "    </tr>\n",
       "    <tr>\n",
       "      <th>4</th>\n",
       "      <td>chlorides</td>\n",
       "      <td>0.067913</td>\n",
       "    </tr>\n",
       "    <tr>\n",
       "      <th>8</th>\n",
       "      <td>sulphates</td>\n",
       "      <td>0.053655</td>\n",
       "    </tr>\n",
       "    <tr>\n",
       "      <th>3</th>\n",
       "      <td>residual_sugar</td>\n",
       "      <td>0.049013</td>\n",
       "    </tr>\n",
       "    <tr>\n",
       "      <th>5</th>\n",
       "      <td>free_sulfur_dioxide</td>\n",
       "      <td>0.046905</td>\n",
       "    </tr>\n",
       "  </tbody>\n",
       "</table>\n",
       "</div>"
      ],
      "text/plain": [
       "                 feature  importance\n",
       "10                    ph    0.233499\n",
       "1       volatile_acidity    0.128257\n",
       "9                alcohol    0.116748\n",
       "2            citric_acid    0.083079\n",
       "7                density    0.076444\n",
       "6   total_sulfur_dioxide    0.074452\n",
       "0          fixed_acidity    0.070034\n",
       "4              chlorides    0.067913\n",
       "8              sulphates    0.053655\n",
       "3         residual_sugar    0.049013\n",
       "5    free_sulfur_dioxide    0.046905"
      ]
     },
     "execution_count": 177,
     "metadata": {},
     "output_type": "execute_result"
    }
   ],
   "source": [
    "importance = model9.feature_importances_\n",
    "columns = X.columns\n",
    "import_df = pd.DataFrame({'feature':columns, 'importance':importance})\n",
    "import_df = import_df.sort_values([\"importance\"], ascending=False)\n",
    "import_df"
   ]
  },
  {
   "cell_type": "markdown",
   "id": "25fd681b",
   "metadata": {},
   "source": [
    "## Easy Ensemble AdaBoost \n",
    "_Benefits_ - Fast, simple, and easy to program. Also, it has the flexibility to be combined with any machine learning algorithm. \n",
    "\n",
    "_Limitations_ - Weak classifiers can lead to overfitting."
   ]
  },
  {
   "cell_type": "code",
   "execution_count": 178,
   "id": "40904d56",
   "metadata": {},
   "outputs": [],
   "source": [
    "eec_model = EasyEnsembleClassifier(n_estimators=100, random_state=7)"
   ]
  },
  {
   "cell_type": "code",
   "execution_count": 179,
   "id": "fcde6078",
   "metadata": {},
   "outputs": [],
   "source": [
    "model10 = eec_model.fit(X_train, y_train)"
   ]
  },
  {
   "cell_type": "code",
   "execution_count": 180,
   "id": "68003394",
   "metadata": {},
   "outputs": [],
   "source": [
    "y_pred10 = model10.predict(X_test)"
   ]
  },
  {
   "cell_type": "code",
   "execution_count": 181,
   "id": "a60ad0e7",
   "metadata": {},
   "outputs": [
    {
     "data": {
      "text/plain": [
       "0.8177425698072925"
      ]
     },
     "execution_count": 181,
     "metadata": {},
     "output_type": "execute_result"
    }
   ],
   "source": [
    "balanced_accuracy_score(y_test, y_pred10)"
   ]
  },
  {
   "cell_type": "code",
   "execution_count": 182,
   "id": "8617bb4c",
   "metadata": {},
   "outputs": [
    {
     "data": {
      "text/plain": [
       "array([[256,  93],\n",
       "       [  5,  46]], dtype=int64)"
      ]
     },
     "execution_count": 182,
     "metadata": {},
     "output_type": "execute_result"
    }
   ],
   "source": [
    "confusion_matrix(y_test, y_pred10)"
   ]
  },
  {
   "cell_type": "code",
   "execution_count": 183,
   "id": "72fa5ce0",
   "metadata": {},
   "outputs": [
    {
     "name": "stdout",
     "output_type": "stream",
     "text": [
      "                   pre       rec       spe        f1       geo       iba       sup\n",
      "\n",
      "          0       0.98      0.73      0.90      0.84      0.81      0.65       349\n",
      "          1       0.33      0.90      0.73      0.48      0.81      0.67        51\n",
      "\n",
      "avg / total       0.90      0.76      0.88      0.79      0.81      0.65       400\n",
      "\n"
     ]
    }
   ],
   "source": [
    "report10 = classification_report_imbalanced(y_test, y_pred10)\n",
    "print(report10)"
   ]
  },
  {
   "cell_type": "markdown",
   "id": "54776f75",
   "metadata": {},
   "source": [
    "#### Attempt a cool graphic of the decision tree model but a little too complicated"
   ]
  },
  {
   "cell_type": "code",
   "execution_count": 184,
   "id": "8dd1adaf",
   "metadata": {},
   "outputs": [],
   "source": [
    "# import matplotlib.pyplot as plt\n",
    "# fn=['ph', 'sulphates', 'alcohol', 'fixed_acidity', 'volatile_acidity', 'free_sulfur_dioxide', 'citric_acid', 'residual_sugar', 'density', \n",
    "# 'total_sulfur_dioxide', 'chlorides']\n",
    "# cn=['Good','Not good']\n",
    "# fig, axes = plt.subplots(nrows = 1,ncols = 1,figsize = (6,6), dpi=900)\n",
    "\n",
    "# tree.plot_tree(model3,\n",
    "#                feature_names = fn, \n",
    "#                class_names=cn,\n",
    "#                filled = True);\n",
    "# fig.savefig('Redmodel3Tree.png')"
   ]
  },
  {
   "cell_type": "code",
   "execution_count": 185,
   "id": "1b34cbbc",
   "metadata": {},
   "outputs": [],
   "source": [
    "# reportout1 = classification_report(y_test, y_pred1, output_dict=True)\n",
    "# print(reportout1)"
   ]
  },
  {
   "cell_type": "markdown",
   "id": "59d14f30",
   "metadata": {},
   "source": [
    "#### Combine all the model outputs for visualization into Tableau"
   ]
  },
  {
   "cell_type": "code",
   "execution_count": 187,
   "id": "821cca43",
   "metadata": {},
   "outputs": [],
   "source": [
    "# df_out1 = pd.DataFrame(reportout1).transpose()\n",
    "# df_out1"
   ]
  },
  {
   "cell_type": "code",
   "execution_count": 188,
   "id": "023667ba",
   "metadata": {},
   "outputs": [],
   "source": [
    "reportout1  = classification_report(y_test, y_pred1 , output_dict=True)\n",
    "reportout2  = classification_report(y_test, y_pred2 , output_dict=True)\n",
    "reportout3  = classification_report(y_test, y_pred3 , output_dict=True)\n",
    "reportout4  = classification_report(y_test, y_pred4 , output_dict=True)\n",
    "reportout5  = classification_report(y_test, y_pred5 , output_dict=True)\n",
    "reportout6  = classification_report(y_test, y_pred6 , output_dict=True)\n",
    "reportout7  = classification_report(y_test, y_pred7 , output_dict=True)\n",
    "reportout8  = classification_report(y_test, y_pred8 , output_dict=True)\n",
    "reportout9  = classification_report(y_test, y_pred9 , output_dict=True)\n",
    "reportout10 = classification_report(y_test, y_pred10, output_dict=True)"
   ]
  },
  {
   "cell_type": "code",
   "execution_count": 189,
   "id": "d8b9e6d3",
   "metadata": {},
   "outputs": [],
   "source": [
    "df_out1  = pd.DataFrame(reportout1).transpose()\n",
    "df_out2  = pd.DataFrame(reportout2).transpose()\n",
    "df_out3  = pd.DataFrame(reportout3).transpose()\n",
    "df_out4  = pd.DataFrame(reportout4).transpose()\n",
    "df_out5  = pd.DataFrame(reportout5).transpose()\n",
    "df_out6  = pd.DataFrame(reportout6).transpose()\n",
    "df_out7  = pd.DataFrame(reportout7).transpose()\n",
    "df_out8  = pd.DataFrame(reportout8).transpose()\n",
    "df_out9  = pd.DataFrame(reportout9).transpose()\n",
    "df_out10 = pd.DataFrame(reportout10).transpose()"
   ]
  },
  {
   "cell_type": "code",
   "execution_count": 190,
   "id": "45beddac",
   "metadata": {},
   "outputs": [
    {
     "data": {
      "text/html": [
       "<div>\n",
       "<style scoped>\n",
       "    .dataframe tbody tr th:only-of-type {\n",
       "        vertical-align: middle;\n",
       "    }\n",
       "\n",
       "    .dataframe tbody tr th {\n",
       "        vertical-align: top;\n",
       "    }\n",
       "\n",
       "    .dataframe thead th {\n",
       "        text-align: right;\n",
       "    }\n",
       "</style>\n",
       "<table border=\"1\" class=\"dataframe\">\n",
       "  <thead>\n",
       "    <tr style=\"text-align: right;\">\n",
       "      <th></th>\n",
       "      <th>precision</th>\n",
       "      <th>recall</th>\n",
       "      <th>f1-score</th>\n",
       "      <th>support</th>\n",
       "    </tr>\n",
       "  </thead>\n",
       "  <tbody>\n",
       "    <tr>\n",
       "      <th>1</th>\n",
       "      <td>0.52381</td>\n",
       "      <td>0.431373</td>\n",
       "      <td>0.473118</td>\n",
       "      <td>51.0000</td>\n",
       "    </tr>\n",
       "    <tr>\n",
       "      <th>accuracy</th>\n",
       "      <td>0.87750</td>\n",
       "      <td>0.877500</td>\n",
       "      <td>0.877500</td>\n",
       "      <td>0.8775</td>\n",
       "    </tr>\n",
       "  </tbody>\n",
       "</table>\n",
       "</div>"
      ],
      "text/plain": [
       "          precision    recall  f1-score  support\n",
       "1           0.52381  0.431373  0.473118  51.0000\n",
       "accuracy    0.87750  0.877500  0.877500   0.8775"
      ]
     },
     "execution_count": 190,
     "metadata": {},
     "output_type": "execute_result"
    }
   ],
   "source": [
    "df_out1= df_out1[1:3]\n",
    "df_out1"
   ]
  },
  {
   "cell_type": "code",
   "execution_count": 191,
   "id": "a9973bc9",
   "metadata": {},
   "outputs": [],
   "source": [
    "# df_out2"
   ]
  },
  {
   "cell_type": "code",
   "execution_count": 192,
   "id": "a4c98de2",
   "metadata": {},
   "outputs": [],
   "source": [
    "df_out2 = df_out2[1:3]\n",
    "df_out3 = df_out3[1:3]\n",
    "df_out4 = df_out4[1:3]\n",
    "df_out5 = df_out5[1:3]\n",
    "df_out6 = df_out6[1:3]\n",
    "df_out7 = df_out7[1:3]\n",
    "df_out8 = df_out8[1:3]\n",
    "df_out9 = df_out9[1:3]\n",
    "df_out10= df_out10[1:3]"
   ]
  },
  {
   "cell_type": "code",
   "execution_count": 193,
   "id": "ce546d1f",
   "metadata": {},
   "outputs": [],
   "source": [
    "# df_out9"
   ]
  },
  {
   "cell_type": "code",
   "execution_count": 214,
   "id": "cc13c894",
   "metadata": {},
   "outputs": [
    {
     "data": {
      "text/html": [
       "<div>\n",
       "<style scoped>\n",
       "    .dataframe tbody tr th:only-of-type {\n",
       "        vertical-align: middle;\n",
       "    }\n",
       "\n",
       "    .dataframe tbody tr th {\n",
       "        vertical-align: top;\n",
       "    }\n",
       "\n",
       "    .dataframe thead th {\n",
       "        text-align: right;\n",
       "    }\n",
       "</style>\n",
       "<table border=\"1\" class=\"dataframe\">\n",
       "  <thead>\n",
       "    <tr style=\"text-align: right;\">\n",
       "      <th></th>\n",
       "      <th>precision</th>\n",
       "      <th>recall</th>\n",
       "      <th>f1-score</th>\n",
       "    </tr>\n",
       "  </thead>\n",
       "  <tbody>\n",
       "    <tr>\n",
       "      <th>1</th>\n",
       "      <td>0.523810</td>\n",
       "      <td>0.431373</td>\n",
       "      <td>0.473118</td>\n",
       "    </tr>\n",
       "    <tr>\n",
       "      <th>accuracy</th>\n",
       "      <td>0.877500</td>\n",
       "      <td>0.877500</td>\n",
       "      <td>0.877500</td>\n",
       "    </tr>\n",
       "    <tr>\n",
       "      <th>1</th>\n",
       "      <td>0.566667</td>\n",
       "      <td>0.333333</td>\n",
       "      <td>0.419753</td>\n",
       "    </tr>\n",
       "    <tr>\n",
       "      <th>accuracy</th>\n",
       "      <td>0.882500</td>\n",
       "      <td>0.882500</td>\n",
       "      <td>0.882500</td>\n",
       "    </tr>\n",
       "    <tr>\n",
       "      <th>1</th>\n",
       "      <td>0.380282</td>\n",
       "      <td>0.529412</td>\n",
       "      <td>0.442623</td>\n",
       "    </tr>\n",
       "    <tr>\n",
       "      <th>accuracy</th>\n",
       "      <td>0.830000</td>\n",
       "      <td>0.830000</td>\n",
       "      <td>0.830000</td>\n",
       "    </tr>\n",
       "    <tr>\n",
       "      <th>1</th>\n",
       "      <td>0.619048</td>\n",
       "      <td>0.509804</td>\n",
       "      <td>0.559140</td>\n",
       "    </tr>\n",
       "    <tr>\n",
       "      <th>accuracy</th>\n",
       "      <td>0.897500</td>\n",
       "      <td>0.897500</td>\n",
       "      <td>0.897500</td>\n",
       "    </tr>\n",
       "    <tr>\n",
       "      <th>1</th>\n",
       "      <td>0.564103</td>\n",
       "      <td>0.431373</td>\n",
       "      <td>0.488889</td>\n",
       "    </tr>\n",
       "    <tr>\n",
       "      <th>accuracy</th>\n",
       "      <td>0.885000</td>\n",
       "      <td>0.885000</td>\n",
       "      <td>0.885000</td>\n",
       "    </tr>\n",
       "    <tr>\n",
       "      <th>1</th>\n",
       "      <td>0.353846</td>\n",
       "      <td>0.901961</td>\n",
       "      <td>0.508287</td>\n",
       "    </tr>\n",
       "    <tr>\n",
       "      <th>accuracy</th>\n",
       "      <td>0.777500</td>\n",
       "      <td>0.777500</td>\n",
       "      <td>0.777500</td>\n",
       "    </tr>\n",
       "    <tr>\n",
       "      <th>1</th>\n",
       "      <td>0.367188</td>\n",
       "      <td>0.921569</td>\n",
       "      <td>0.525140</td>\n",
       "    </tr>\n",
       "    <tr>\n",
       "      <th>accuracy</th>\n",
       "      <td>0.787500</td>\n",
       "      <td>0.787500</td>\n",
       "      <td>0.787500</td>\n",
       "    </tr>\n",
       "    <tr>\n",
       "      <th>1</th>\n",
       "      <td>0.340909</td>\n",
       "      <td>0.882353</td>\n",
       "      <td>0.491803</td>\n",
       "    </tr>\n",
       "    <tr>\n",
       "      <th>accuracy</th>\n",
       "      <td>0.767500</td>\n",
       "      <td>0.767500</td>\n",
       "      <td>0.767500</td>\n",
       "    </tr>\n",
       "    <tr>\n",
       "      <th>1</th>\n",
       "      <td>0.364341</td>\n",
       "      <td>0.921569</td>\n",
       "      <td>0.522222</td>\n",
       "    </tr>\n",
       "    <tr>\n",
       "      <th>accuracy</th>\n",
       "      <td>0.785000</td>\n",
       "      <td>0.785000</td>\n",
       "      <td>0.785000</td>\n",
       "    </tr>\n",
       "    <tr>\n",
       "      <th>1</th>\n",
       "      <td>0.330935</td>\n",
       "      <td>0.901961</td>\n",
       "      <td>0.484211</td>\n",
       "    </tr>\n",
       "    <tr>\n",
       "      <th>accuracy</th>\n",
       "      <td>0.755000</td>\n",
       "      <td>0.755000</td>\n",
       "      <td>0.755000</td>\n",
       "    </tr>\n",
       "  </tbody>\n",
       "</table>\n",
       "</div>"
      ],
      "text/plain": [
       "          precision    recall  f1-score\n",
       "1          0.523810  0.431373  0.473118\n",
       "accuracy   0.877500  0.877500  0.877500\n",
       "1          0.566667  0.333333  0.419753\n",
       "accuracy   0.882500  0.882500  0.882500\n",
       "1          0.380282  0.529412  0.442623\n",
       "accuracy   0.830000  0.830000  0.830000\n",
       "1          0.619048  0.509804  0.559140\n",
       "accuracy   0.897500  0.897500  0.897500\n",
       "1          0.564103  0.431373  0.488889\n",
       "accuracy   0.885000  0.885000  0.885000\n",
       "1          0.353846  0.901961  0.508287\n",
       "accuracy   0.777500  0.777500  0.777500\n",
       "1          0.367188  0.921569  0.525140\n",
       "accuracy   0.787500  0.787500  0.787500\n",
       "1          0.340909  0.882353  0.491803\n",
       "accuracy   0.767500  0.767500  0.767500\n",
       "1          0.364341  0.921569  0.522222\n",
       "accuracy   0.785000  0.785000  0.785000\n",
       "1          0.330935  0.901961  0.484211\n",
       "accuracy   0.755000  0.755000  0.755000"
      ]
     },
     "execution_count": 214,
     "metadata": {},
     "output_type": "execute_result"
    }
   ],
   "source": [
    "output_df = df_out1.append([df_out2, df_out3, df_out4, df_out5, df_out6, df_out7, df_out8, df_out9, df_out10])\n",
    "output_df.drop(columns=\"support\", axis=1, inplace=True)\n",
    "output_df"
   ]
  },
  {
   "cell_type": "markdown",
   "id": "32b157b0",
   "metadata": {},
   "source": [
    "#### columns\n",
    "- 0 - Precision\n",
    "- 1 - Recall\n",
    "- 2 - F1 score\n",
    "- 3-5 - Accuracy"
   ]
  },
  {
   "cell_type": "code",
   "execution_count": 215,
   "id": "551de26a",
   "metadata": {},
   "outputs": [
    {
     "data": {
      "text/html": [
       "<div>\n",
       "<style scoped>\n",
       "    .dataframe tbody tr th:only-of-type {\n",
       "        vertical-align: middle;\n",
       "    }\n",
       "\n",
       "    .dataframe tbody tr th {\n",
       "        vertical-align: top;\n",
       "    }\n",
       "\n",
       "    .dataframe thead th {\n",
       "        text-align: right;\n",
       "    }\n",
       "</style>\n",
       "<table border=\"1\" class=\"dataframe\">\n",
       "  <thead>\n",
       "    <tr style=\"text-align: right;\">\n",
       "      <th></th>\n",
       "      <th>0</th>\n",
       "      <th>1</th>\n",
       "      <th>2</th>\n",
       "      <th>3</th>\n",
       "      <th>4</th>\n",
       "      <th>5</th>\n",
       "    </tr>\n",
       "  </thead>\n",
       "  <tbody>\n",
       "    <tr>\n",
       "      <th>0</th>\n",
       "      <td>0.523810</td>\n",
       "      <td>0.431373</td>\n",
       "      <td>0.473118</td>\n",
       "      <td>0.8775</td>\n",
       "      <td>0.8775</td>\n",
       "      <td>0.8775</td>\n",
       "    </tr>\n",
       "    <tr>\n",
       "      <th>1</th>\n",
       "      <td>0.566667</td>\n",
       "      <td>0.333333</td>\n",
       "      <td>0.419753</td>\n",
       "      <td>0.8825</td>\n",
       "      <td>0.8825</td>\n",
       "      <td>0.8825</td>\n",
       "    </tr>\n",
       "    <tr>\n",
       "      <th>2</th>\n",
       "      <td>0.380282</td>\n",
       "      <td>0.529412</td>\n",
       "      <td>0.442623</td>\n",
       "      <td>0.8300</td>\n",
       "      <td>0.8300</td>\n",
       "      <td>0.8300</td>\n",
       "    </tr>\n",
       "    <tr>\n",
       "      <th>3</th>\n",
       "      <td>0.619048</td>\n",
       "      <td>0.509804</td>\n",
       "      <td>0.559140</td>\n",
       "      <td>0.8975</td>\n",
       "      <td>0.8975</td>\n",
       "      <td>0.8975</td>\n",
       "    </tr>\n",
       "    <tr>\n",
       "      <th>4</th>\n",
       "      <td>0.564103</td>\n",
       "      <td>0.431373</td>\n",
       "      <td>0.488889</td>\n",
       "      <td>0.8850</td>\n",
       "      <td>0.8850</td>\n",
       "      <td>0.8850</td>\n",
       "    </tr>\n",
       "    <tr>\n",
       "      <th>5</th>\n",
       "      <td>0.353846</td>\n",
       "      <td>0.901961</td>\n",
       "      <td>0.508287</td>\n",
       "      <td>0.7775</td>\n",
       "      <td>0.7775</td>\n",
       "      <td>0.7775</td>\n",
       "    </tr>\n",
       "    <tr>\n",
       "      <th>6</th>\n",
       "      <td>0.367188</td>\n",
       "      <td>0.921569</td>\n",
       "      <td>0.525140</td>\n",
       "      <td>0.7875</td>\n",
       "      <td>0.7875</td>\n",
       "      <td>0.7875</td>\n",
       "    </tr>\n",
       "    <tr>\n",
       "      <th>7</th>\n",
       "      <td>0.340909</td>\n",
       "      <td>0.882353</td>\n",
       "      <td>0.491803</td>\n",
       "      <td>0.7675</td>\n",
       "      <td>0.7675</td>\n",
       "      <td>0.7675</td>\n",
       "    </tr>\n",
       "    <tr>\n",
       "      <th>8</th>\n",
       "      <td>0.364341</td>\n",
       "      <td>0.921569</td>\n",
       "      <td>0.522222</td>\n",
       "      <td>0.7850</td>\n",
       "      <td>0.7850</td>\n",
       "      <td>0.7850</td>\n",
       "    </tr>\n",
       "    <tr>\n",
       "      <th>9</th>\n",
       "      <td>0.330935</td>\n",
       "      <td>0.901961</td>\n",
       "      <td>0.484211</td>\n",
       "      <td>0.7550</td>\n",
       "      <td>0.7550</td>\n",
       "      <td>0.7550</td>\n",
       "    </tr>\n",
       "  </tbody>\n",
       "</table>\n",
       "</div>"
      ],
      "text/plain": [
       "          0         1         2       3       4       5\n",
       "0  0.523810  0.431373  0.473118  0.8775  0.8775  0.8775\n",
       "1  0.566667  0.333333  0.419753  0.8825  0.8825  0.8825\n",
       "2  0.380282  0.529412  0.442623  0.8300  0.8300  0.8300\n",
       "3  0.619048  0.509804  0.559140  0.8975  0.8975  0.8975\n",
       "4  0.564103  0.431373  0.488889  0.8850  0.8850  0.8850\n",
       "5  0.353846  0.901961  0.508287  0.7775  0.7775  0.7775\n",
       "6  0.367188  0.921569  0.525140  0.7875  0.7875  0.7875\n",
       "7  0.340909  0.882353  0.491803  0.7675  0.7675  0.7675\n",
       "8  0.364341  0.921569  0.522222  0.7850  0.7850  0.7850\n",
       "9  0.330935  0.901961  0.484211  0.7550  0.7550  0.7550"
      ]
     },
     "execution_count": 215,
     "metadata": {},
     "output_type": "execute_result"
    }
   ],
   "source": [
    "output_df = pd.DataFrame([y.values.ravel() for x , y in output_df.groupby(np.arange(len(output_df))//2)])\n",
    "output_df"
   ]
  },
  {
   "cell_type": "code",
   "execution_count": 216,
   "id": "5c894e66",
   "metadata": {},
   "outputs": [
    {
     "data": {
      "text/html": [
       "<div>\n",
       "<style scoped>\n",
       "    .dataframe tbody tr th:only-of-type {\n",
       "        vertical-align: middle;\n",
       "    }\n",
       "\n",
       "    .dataframe tbody tr th {\n",
       "        vertical-align: top;\n",
       "    }\n",
       "\n",
       "    .dataframe thead th {\n",
       "        text-align: right;\n",
       "    }\n",
       "</style>\n",
       "<table border=\"1\" class=\"dataframe\">\n",
       "  <thead>\n",
       "    <tr style=\"text-align: right;\">\n",
       "      <th></th>\n",
       "      <th>0</th>\n",
       "      <th>1</th>\n",
       "      <th>2</th>\n",
       "      <th>3</th>\n",
       "    </tr>\n",
       "  </thead>\n",
       "  <tbody>\n",
       "    <tr>\n",
       "      <th>0</th>\n",
       "      <td>0.523810</td>\n",
       "      <td>0.431373</td>\n",
       "      <td>0.473118</td>\n",
       "      <td>0.8775</td>\n",
       "    </tr>\n",
       "    <tr>\n",
       "      <th>1</th>\n",
       "      <td>0.566667</td>\n",
       "      <td>0.333333</td>\n",
       "      <td>0.419753</td>\n",
       "      <td>0.8825</td>\n",
       "    </tr>\n",
       "    <tr>\n",
       "      <th>2</th>\n",
       "      <td>0.380282</td>\n",
       "      <td>0.529412</td>\n",
       "      <td>0.442623</td>\n",
       "      <td>0.8300</td>\n",
       "    </tr>\n",
       "    <tr>\n",
       "      <th>3</th>\n",
       "      <td>0.619048</td>\n",
       "      <td>0.509804</td>\n",
       "      <td>0.559140</td>\n",
       "      <td>0.8975</td>\n",
       "    </tr>\n",
       "    <tr>\n",
       "      <th>4</th>\n",
       "      <td>0.564103</td>\n",
       "      <td>0.431373</td>\n",
       "      <td>0.488889</td>\n",
       "      <td>0.8850</td>\n",
       "    </tr>\n",
       "    <tr>\n",
       "      <th>5</th>\n",
       "      <td>0.353846</td>\n",
       "      <td>0.901961</td>\n",
       "      <td>0.508287</td>\n",
       "      <td>0.7775</td>\n",
       "    </tr>\n",
       "    <tr>\n",
       "      <th>6</th>\n",
       "      <td>0.367188</td>\n",
       "      <td>0.921569</td>\n",
       "      <td>0.525140</td>\n",
       "      <td>0.7875</td>\n",
       "    </tr>\n",
       "    <tr>\n",
       "      <th>7</th>\n",
       "      <td>0.340909</td>\n",
       "      <td>0.882353</td>\n",
       "      <td>0.491803</td>\n",
       "      <td>0.7675</td>\n",
       "    </tr>\n",
       "    <tr>\n",
       "      <th>8</th>\n",
       "      <td>0.364341</td>\n",
       "      <td>0.921569</td>\n",
       "      <td>0.522222</td>\n",
       "      <td>0.7850</td>\n",
       "    </tr>\n",
       "    <tr>\n",
       "      <th>9</th>\n",
       "      <td>0.330935</td>\n",
       "      <td>0.901961</td>\n",
       "      <td>0.484211</td>\n",
       "      <td>0.7550</td>\n",
       "    </tr>\n",
       "  </tbody>\n",
       "</table>\n",
       "</div>"
      ],
      "text/plain": [
       "          0         1         2       3\n",
       "0  0.523810  0.431373  0.473118  0.8775\n",
       "1  0.566667  0.333333  0.419753  0.8825\n",
       "2  0.380282  0.529412  0.442623  0.8300\n",
       "3  0.619048  0.509804  0.559140  0.8975\n",
       "4  0.564103  0.431373  0.488889  0.8850\n",
       "5  0.353846  0.901961  0.508287  0.7775\n",
       "6  0.367188  0.921569  0.525140  0.7875\n",
       "7  0.340909  0.882353  0.491803  0.7675\n",
       "8  0.364341  0.921569  0.522222  0.7850\n",
       "9  0.330935  0.901961  0.484211  0.7550"
      ]
     },
     "execution_count": 216,
     "metadata": {},
     "output_type": "execute_result"
    }
   ],
   "source": [
    "shorter_df = output_df.drop(output_df.columns[4:6], axis=1)\n",
    "shorter_df"
   ]
  },
  {
   "cell_type": "code",
   "execution_count": 217,
   "id": "382bbe44",
   "metadata": {},
   "outputs": [
    {
     "data": {
      "text/html": [
       "<div>\n",
       "<style scoped>\n",
       "    .dataframe tbody tr th:only-of-type {\n",
       "        vertical-align: middle;\n",
       "    }\n",
       "\n",
       "    .dataframe tbody tr th {\n",
       "        vertical-align: top;\n",
       "    }\n",
       "\n",
       "    .dataframe thead th {\n",
       "        text-align: right;\n",
       "    }\n",
       "</style>\n",
       "<table border=\"1\" class=\"dataframe\">\n",
       "  <thead>\n",
       "    <tr style=\"text-align: right;\">\n",
       "      <th></th>\n",
       "      <th>Precision</th>\n",
       "      <th>Recall</th>\n",
       "      <th>F1</th>\n",
       "      <th>Accuracy</th>\n",
       "    </tr>\n",
       "  </thead>\n",
       "  <tbody>\n",
       "    <tr>\n",
       "      <th>0</th>\n",
       "      <td>0.523810</td>\n",
       "      <td>0.431373</td>\n",
       "      <td>0.473118</td>\n",
       "      <td>0.8775</td>\n",
       "    </tr>\n",
       "    <tr>\n",
       "      <th>1</th>\n",
       "      <td>0.566667</td>\n",
       "      <td>0.333333</td>\n",
       "      <td>0.419753</td>\n",
       "      <td>0.8825</td>\n",
       "    </tr>\n",
       "    <tr>\n",
       "      <th>2</th>\n",
       "      <td>0.380282</td>\n",
       "      <td>0.529412</td>\n",
       "      <td>0.442623</td>\n",
       "      <td>0.8300</td>\n",
       "    </tr>\n",
       "    <tr>\n",
       "      <th>3</th>\n",
       "      <td>0.619048</td>\n",
       "      <td>0.509804</td>\n",
       "      <td>0.559140</td>\n",
       "      <td>0.8975</td>\n",
       "    </tr>\n",
       "    <tr>\n",
       "      <th>4</th>\n",
       "      <td>0.564103</td>\n",
       "      <td>0.431373</td>\n",
       "      <td>0.488889</td>\n",
       "      <td>0.8850</td>\n",
       "    </tr>\n",
       "    <tr>\n",
       "      <th>5</th>\n",
       "      <td>0.353846</td>\n",
       "      <td>0.901961</td>\n",
       "      <td>0.508287</td>\n",
       "      <td>0.7775</td>\n",
       "    </tr>\n",
       "    <tr>\n",
       "      <th>6</th>\n",
       "      <td>0.367188</td>\n",
       "      <td>0.921569</td>\n",
       "      <td>0.525140</td>\n",
       "      <td>0.7875</td>\n",
       "    </tr>\n",
       "    <tr>\n",
       "      <th>7</th>\n",
       "      <td>0.340909</td>\n",
       "      <td>0.882353</td>\n",
       "      <td>0.491803</td>\n",
       "      <td>0.7675</td>\n",
       "    </tr>\n",
       "    <tr>\n",
       "      <th>8</th>\n",
       "      <td>0.364341</td>\n",
       "      <td>0.921569</td>\n",
       "      <td>0.522222</td>\n",
       "      <td>0.7850</td>\n",
       "    </tr>\n",
       "    <tr>\n",
       "      <th>9</th>\n",
       "      <td>0.330935</td>\n",
       "      <td>0.901961</td>\n",
       "      <td>0.484211</td>\n",
       "      <td>0.7550</td>\n",
       "    </tr>\n",
       "  </tbody>\n",
       "</table>\n",
       "</div>"
      ],
      "text/plain": [
       "   Precision    Recall        F1  Accuracy\n",
       "0   0.523810  0.431373  0.473118    0.8775\n",
       "1   0.566667  0.333333  0.419753    0.8825\n",
       "2   0.380282  0.529412  0.442623    0.8300\n",
       "3   0.619048  0.509804  0.559140    0.8975\n",
       "4   0.564103  0.431373  0.488889    0.8850\n",
       "5   0.353846  0.901961  0.508287    0.7775\n",
       "6   0.367188  0.921569  0.525140    0.7875\n",
       "7   0.340909  0.882353  0.491803    0.7675\n",
       "8   0.364341  0.921569  0.522222    0.7850\n",
       "9   0.330935  0.901961  0.484211    0.7550"
      ]
     },
     "execution_count": 217,
     "metadata": {},
     "output_type": "execute_result"
    }
   ],
   "source": [
    "shorter_df = shorter_df.rename({0: 'Precision', 1: 'Recall', 2: 'F1', 3: 'Accuracy'}, axis=1)\n",
    "shorter_df\n",
    "\n",
    "# axis 1-columns 0-rows"
   ]
  },
  {
   "cell_type": "code",
   "execution_count": 218,
   "id": "ff5820e2",
   "metadata": {},
   "outputs": [
    {
     "data": {
      "text/html": [
       "<div>\n",
       "<style scoped>\n",
       "    .dataframe tbody tr th:only-of-type {\n",
       "        vertical-align: middle;\n",
       "    }\n",
       "\n",
       "    .dataframe tbody tr th {\n",
       "        vertical-align: top;\n",
       "    }\n",
       "\n",
       "    .dataframe thead th {\n",
       "        text-align: right;\n",
       "    }\n",
       "</style>\n",
       "<table border=\"1\" class=\"dataframe\">\n",
       "  <thead>\n",
       "    <tr style=\"text-align: right;\">\n",
       "      <th></th>\n",
       "      <th>Precision</th>\n",
       "      <th>Recall</th>\n",
       "      <th>F1</th>\n",
       "      <th>Accuracy</th>\n",
       "    </tr>\n",
       "  </thead>\n",
       "  <tbody>\n",
       "    <tr>\n",
       "      <th>Model 1: Logistic</th>\n",
       "      <td>0.523810</td>\n",
       "      <td>0.431373</td>\n",
       "      <td>0.473118</td>\n",
       "      <td>0.8775</td>\n",
       "    </tr>\n",
       "    <tr>\n",
       "      <th>Model 2: SVM</th>\n",
       "      <td>0.566667</td>\n",
       "      <td>0.333333</td>\n",
       "      <td>0.419753</td>\n",
       "      <td>0.8825</td>\n",
       "    </tr>\n",
       "    <tr>\n",
       "      <th>Model 3: Decision Tree</th>\n",
       "      <td>0.380282</td>\n",
       "      <td>0.529412</td>\n",
       "      <td>0.442623</td>\n",
       "      <td>0.8300</td>\n",
       "    </tr>\n",
       "    <tr>\n",
       "      <th>Model 4: Random Forest</th>\n",
       "      <td>0.619048</td>\n",
       "      <td>0.509804</td>\n",
       "      <td>0.559140</td>\n",
       "      <td>0.8975</td>\n",
       "    </tr>\n",
       "    <tr>\n",
       "      <th>Model 5: Gradient Boosted Tree</th>\n",
       "      <td>0.564103</td>\n",
       "      <td>0.431373</td>\n",
       "      <td>0.488889</td>\n",
       "      <td>0.8850</td>\n",
       "    </tr>\n",
       "    <tr>\n",
       "      <th>Model 6: Logisitic-ROS</th>\n",
       "      <td>0.353846</td>\n",
       "      <td>0.901961</td>\n",
       "      <td>0.508287</td>\n",
       "      <td>0.7775</td>\n",
       "    </tr>\n",
       "    <tr>\n",
       "      <th>Model 7: Logistic-SMOTE</th>\n",
       "      <td>0.367188</td>\n",
       "      <td>0.921569</td>\n",
       "      <td>0.525140</td>\n",
       "      <td>0.7875</td>\n",
       "    </tr>\n",
       "    <tr>\n",
       "      <th>Model 8: Logistic-Cluster centroid US</th>\n",
       "      <td>0.340909</td>\n",
       "      <td>0.882353</td>\n",
       "      <td>0.491803</td>\n",
       "      <td>0.7675</td>\n",
       "    </tr>\n",
       "    <tr>\n",
       "      <th>Model 9: Balanced Random Forest Classifier</th>\n",
       "      <td>0.364341</td>\n",
       "      <td>0.921569</td>\n",
       "      <td>0.522222</td>\n",
       "      <td>0.7850</td>\n",
       "    </tr>\n",
       "    <tr>\n",
       "      <th>Model 10: Easy Ensemble Ada Boost Classifier</th>\n",
       "      <td>0.330935</td>\n",
       "      <td>0.901961</td>\n",
       "      <td>0.484211</td>\n",
       "      <td>0.7550</td>\n",
       "    </tr>\n",
       "  </tbody>\n",
       "</table>\n",
       "</div>"
      ],
      "text/plain": [
       "                                              Precision    Recall        F1  \\\n",
       "Model 1: Logistic                              0.523810  0.431373  0.473118   \n",
       "Model 2: SVM                                   0.566667  0.333333  0.419753   \n",
       "Model 3: Decision Tree                         0.380282  0.529412  0.442623   \n",
       "Model 4: Random Forest                         0.619048  0.509804  0.559140   \n",
       "Model 5: Gradient Boosted Tree                 0.564103  0.431373  0.488889   \n",
       "Model 6: Logisitic-ROS                         0.353846  0.901961  0.508287   \n",
       "Model 7: Logistic-SMOTE                        0.367188  0.921569  0.525140   \n",
       "Model 8: Logistic-Cluster centroid US          0.340909  0.882353  0.491803   \n",
       "Model 9: Balanced Random Forest Classifier     0.364341  0.921569  0.522222   \n",
       "Model 10: Easy Ensemble Ada Boost Classifier   0.330935  0.901961  0.484211   \n",
       "\n",
       "                                              Accuracy  \n",
       "Model 1: Logistic                               0.8775  \n",
       "Model 2: SVM                                    0.8825  \n",
       "Model 3: Decision Tree                          0.8300  \n",
       "Model 4: Random Forest                          0.8975  \n",
       "Model 5: Gradient Boosted Tree                  0.8850  \n",
       "Model 6: Logisitic-ROS                          0.7775  \n",
       "Model 7: Logistic-SMOTE                         0.7875  \n",
       "Model 8: Logistic-Cluster centroid US           0.7675  \n",
       "Model 9: Balanced Random Forest Classifier      0.7850  \n",
       "Model 10: Easy Ensemble Ada Boost Classifier    0.7550  "
      ]
     },
     "execution_count": 218,
     "metadata": {},
     "output_type": "execute_result"
    }
   ],
   "source": [
    "shorter_df = shorter_df.rename({0: 'Model 1: Logistic', 1: 'Model 2: SVM', 2: 'Model 3: Decision Tree', \n",
    "                                3: 'Model 4: Random Forest', 4: 'Model 5: Gradient Boosted Tree', \n",
    "                                5: 'Model 6: Logisitic-ROS', 6: 'Model 7: Logistic-SMOTE', \n",
    "                                7: 'Model 8: Logistic-Cluster centroid US', 8: 'Model 9: Balanced Random Forest Classifier', \n",
    "                                9: 'Model 10: Easy Ensemble Ada Boost Classifier', \n",
    "                               }\n",
    "                               , axis=0)\n",
    "shorter_df\n"
   ]
  },
  {
   "cell_type": "code",
   "execution_count": 221,
   "id": "ed706f45",
   "metadata": {},
   "outputs": [],
   "source": [
    "shorter_df.to_csv('df_test.csv')"
   ]
  },
  {
   "cell_type": "code",
   "execution_count": null,
   "id": "fb741e1c",
   "metadata": {},
   "outputs": [],
   "source": []
  }
 ],
 "metadata": {
  "kernelspec": {
   "display_name": "Python 3",
   "language": "python",
   "name": "python3"
  },
  "language_info": {
   "codemirror_mode": {
    "name": "ipython",
    "version": 3
   },
   "file_extension": ".py",
   "mimetype": "text/x-python",
   "name": "python",
   "nbconvert_exporter": "python",
   "pygments_lexer": "ipython3",
   "version": "3.7.10"
  }
 },
 "nbformat": 4,
 "nbformat_minor": 5
}
